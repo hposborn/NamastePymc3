{
 "cells": [
  {
   "cell_type": "markdown",
   "metadata": {},
   "source": [
    "# How to constrain stellar parameters...\n",
    "\n",
    "Things we usually have available:\n",
    " * multi-band photometry (e.g. APASS, 2MASS, WISE, etc).\n",
    " * first-order stellar parameter estimates in input catalogue\n",
    " * Gaia parallax\n",
    " * Gaia teff and logg for spectral fit.\n",
    " * Nearby 2MASS Gaia sources (e.g. sum gives contamination)"
   ]
  },
  {
   "cell_type": "code",
   "execution_count": 1,
   "metadata": {},
   "outputs": [
    {
     "name": "stderr",
     "output_type": "stream",
     "text": [
      "WARNING:root:Holoviews not imported. Some visualizations will not be available.\n"
     ]
    }
   ],
   "source": [
    "import isochrones"
   ]
  },
  {
   "cell_type": "code",
   "execution_count": null,
   "metadata": {
    "collapsed": true
   },
   "outputs": [],
   "source": [
    "import pandas as pd\n",
    "\n",
    "def KeplerDat(kic):\n",
    "    return pd.read_csv('http://exoplanetarchive.ipac.caltech.edu/cgi-bin/nstedAPI/nph-nstedAPI?&table=keplerstellar&where=KepID='+str(kic)+'&format=csv&order=st_vet_date_str%20desc')"
   ]
  }
 ],
 "metadata": {
  "kernelspec": {
   "display_name": "Python 3",
   "language": "python",
   "name": "python3"
  },
  "language_info": {
   "codemirror_mode": {
    "name": "ipython",
    "version": 3
   },
   "file_extension": ".py",
   "mimetype": "text/x-python",
   "name": "python",
   "nbconvert_exporter": "python",
   "pygments_lexer": "ipython3",
   "version": "3.6.1"
  }
 },
 "nbformat": 4,
 "nbformat_minor": 2
}
