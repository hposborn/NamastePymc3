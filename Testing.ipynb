{
 "cells": [
  {
   "cell_type": "code",
   "execution_count": null,
   "metadata": {
    "collapsed": true
   },
   "outputs": [],
   "source": [
    "%load_ext autoreload\n",
    "%autoreload 2"
   ]
  },
  {
   "cell_type": "code",
   "execution_count": 71,
   "metadata": {},
   "outputs": [
    {
     "name": "stdout",
     "output_type": "stream",
     "text": [
      "DEBUG [matplotlib.pyplot.switch_backend()]: Loaded backend module://ipykernel.pylab.backend_inline version unknown.\n",
      "DEBUG [urllib3.connectionpool._new_conn()]: Starting new HTTPS connection (1): archive.stsci.edu:443\n",
      "DEBUG [urllib3.connectionpool._make_request()]: https://archive.stsci.edu:443 \"GET /missions/tess/tid/s0001/0000/0000/6389/8957/tess2018206045859-s0001-0000000063898957-0120-s_lc.fits HTTP/1.1\" 404 297\n",
      "DEBUG [urllib3.connectionpool._new_conn()]: Starting new HTTPS connection (1): archive.stsci.edu:443\n",
      "DEBUG [urllib3.connectionpool._make_request()]: https://archive.stsci.edu:443 \"GET /missions/tess/tid/s0002/0000/0000/6389/8957/tess2018234235059-s0002-0000000063898957-0121-s_lc.fits HTTP/1.1\" 404 297\n",
      "DEBUG [urllib3.connectionpool._new_conn()]: Starting new HTTPS connection (1): archive.stsci.edu:443\n",
      "DEBUG [urllib3.connectionpool._make_request()]: https://archive.stsci.edu:443 \"GET /missions/tess/tid/s0003/0000/0000/6389/8957/tess2018263035959-s0003-0000000063898957-0123-s_lc.fits HTTP/1.1\" 200 1998720\n",
      "https://archive.stsci.edu/missions/tess/tid/s0003/0000/0000/6389/8957/tess2018263035959-s0003-0000000063898957-0123-s_lc.fits\n",
      "TESS file\n"
     ]
    },
    {
     "ename": "ValueError",
     "evalue": "non-broadcastable output operand with shape (13423,) doesn't match the broadcast shape (1,13423)",
     "output_type": "error",
     "traceback": [
      "\u001b[0;31m---------------------------------------------------------------------------\u001b[0m",
      "\u001b[0;31mValueError\u001b[0m                                Traceback (most recent call last)",
      "\u001b[0;32m<ipython-input-71-e465bf94542f>\u001b[0m in \u001b[0;36m<module>\u001b[0;34m()\u001b[0m\n\u001b[1;32m     37\u001b[0m         \u001b[0;32mwith\u001b[0m \u001b[0mfits\u001b[0m\u001b[0;34m.\u001b[0m\u001b[0mopen\u001b[0m\u001b[0;34m(\u001b[0m\u001b[0mfitsloc\u001b[0m\u001b[0;34m)\u001b[0m \u001b[0;32mas\u001b[0m \u001b[0mhdus\u001b[0m\u001b[0;34m:\u001b[0m\u001b[0;34m\u001b[0m\u001b[0m\n\u001b[1;32m     38\u001b[0m             \u001b[0mlcs\u001b[0m\u001b[0;34m+=\u001b[0m\u001b[0;34m[\u001b[0m\u001b[0mopenFits\u001b[0m\u001b[0;34m(\u001b[0m\u001b[0mhdus\u001b[0m\u001b[0;34m,\u001b[0m\u001b[0mfitsloc\u001b[0m\u001b[0;34m)\u001b[0m\u001b[0;34m]\u001b[0m\u001b[0;34m\u001b[0m\u001b[0m\n\u001b[0;32m---> 39\u001b[0;31m             \u001b[0mx\u001b[0m\u001b[0;34m+=\u001b[0m\u001b[0;34m[\u001b[0m\u001b[0mix\u001b[0m\u001b[0;34m]\u001b[0m\u001b[0;34m\u001b[0m\u001b[0m\n\u001b[0m\u001b[1;32m     40\u001b[0m             \u001b[0my\u001b[0m\u001b[0;34m+=\u001b[0m\u001b[0;34m[\u001b[0m\u001b[0miy\u001b[0m\u001b[0;34m]\u001b[0m\u001b[0;34m\u001b[0m\u001b[0m\n\u001b[1;32m     41\u001b[0m             \u001b[0myerr\u001b[0m\u001b[0;34m+=\u001b[0m\u001b[0;34m[\u001b[0m\u001b[0miyerr\u001b[0m\u001b[0;34m]\u001b[0m\u001b[0;34m\u001b[0m\u001b[0m\n",
      "\u001b[0;31mValueError\u001b[0m: non-broadcastable output operand with shape (13423,) doesn't match the broadcast shape (1,13423)"
     ]
    }
   ],
   "source": [
    "# Importing the important things:\n",
    "\n",
    "import numpy as np\n",
    "\n",
    "import matplotlib.pyplot as plt\n",
    "%matplotlib inline\n",
    "import pymc3 as pm\n",
    "import corner\n",
    "import requests\n",
    "from astropy.io import fits\n",
    "\n",
    "from NamastePymc3 import *\n",
    "\n",
    "tic=63898957\n",
    "sector='all'\n",
    "#Downloading TESS lc\n",
    "epoch={1:'2018206045859_0120',2:'2018234235059_0121',3:'2018263035959_0123',4:'2018292075959_0124',\n",
    "       5:'2018319095959_0125',6:'2018349182459_0126',7:'2019006130736_0131',8:'2019032160000_0136',\n",
    "       9:'2019058134432_0139',10:'2019085135100_0140',11:'2019112060037_0143',12:'2019140104343_0144',\n",
    "       13:'2019169103026_0146'}\n",
    "lcs=[]\n",
    "if type(sector)==str and sector=='all':\n",
    "    epochs=list(epoch.keys())\n",
    "else:\n",
    "    epochs=[sector]\n",
    "    #observed_sectors=observed(tic)\n",
    "    #observed_sectors=np.array([os for os in observed_sectors if observed_sectors[os]])\n",
    "    #if observed_sectors!=[-1] and len(observed_sectors)>0:\n",
    "    #    observed_sectors=observed_sectors[np.in1d(observed_sectors,np.array(list(epoch.keys())))]\n",
    "    #else:\n",
    "    #    observed_sectors=sector\n",
    "    #print(observed_sectors)\n",
    "for key in epochs:\n",
    "    fitsloc=\"https://archive.stsci.edu/missions/tess/tid/s\"+str(key).zfill(4)+\"/\"+str(tic).zfill(16)[:4]+\"/\"+str(tic).zfill(16)[4:8]+\"/\"+str(tic).zfill(16)[-8:-4]+\"/\"+str(tic).zfill(16)[-4:]+\"/tess\"+epoch[key].split('_')[0]+\"-s\"+str(key).zfill(4)+\"-\"+str(tic).zfill(16)+\"-\"+epoch[key].split('_')[1]+\"-s_lc.fits\"\n",
    "    if requests.get(fitsloc, timeout=600).status_code==200:\n",
    "        print(fitsloc)\n",
    "        with fits.open(fitsloc) as hdus:\n",
    "            lcs+=[openFits(hdus,fitsloc)]\n",
    "            x+=[ix]\n",
    "            y+=[iy]\n",
    "            yerr+=[iyerr]\n",
    "            '''\n",
    "            with fits.open(fitsloc, mode=\"readonly\") as hdulist:\n",
    "            time = hdulist[1].data['TIME']\n",
    "            sap = hdulist[1].data['SAP_FLUX']/np.nanmedian(hdulist[1].data['SAP_FLUX'])\n",
    "            pdcsap = hdulist[1].data['PDCSAP_FLUX']/np.nanmedian(hdulist[1].data['PDCSAP_FLUX'])\n",
    "            bg = hdulist[1].data['SAP_BKG']/np.nanmedian(hdulist[1].data['SAP_BKG'])\n",
    "            bg_err = hdulist[1].data['SAP_BKG_ERR']/np.nanmedian(hdulist[1].data['SAP_BKG'])\n",
    "            if np.nansum(hdulist[1].data['PSF_CENTR2'])==0.0:\n",
    "                cent = np.sqrt((hdulist[1].data['MOM_CENTR1']-np.nanmedian(hdulist[1].data['MOM_CENTR1']))**2+\n",
    "                               (hdulist[1].data['MOM_CENTR2']-np.nanmedian(hdulist[1].data['MOM_CENTR2']))**2)\n",
    "            else:\n",
    "                cent = np.sqrt((hdulist[1].data['PSF_CENTR1']-np.nanmedian(hdulist[1].data['PSF_CENTR1']))**2+\n",
    "                               (hdulist[1].data['PSF_CENTR2']-np.nanmedian(hdulist[1].data['PSF_CENTR2']))**2)\n",
    "\n",
    "        sectlcs+=[np.column_stack((time,pdcsap,sap,bg,cent))]\n",
    "        print(fitsloc)\n",
    "        '''\n",
    "lc=lcStack(lcs)\n"
   ]
  },
  {
   "cell_type": "code",
   "execution_count": 39,
   "metadata": {},
   "outputs": [
    {
     "data": {
      "text/plain": [
       "[<matplotlib.lines.Line2D at 0x128ec0860>]"
      ]
     },
     "execution_count": 39,
     "metadata": {},
     "output_type": "execute_result"
    },
    {
     "data": {
      "image/png": "[encoded data removed]",
      "text/plain": [
       "<Figure size 432x288 with 1 Axes>"
      ]
     },
     "metadata": {},
     "output_type": "display_data"
    }
   ],
   "source": [
    "plt.plot(x,y,'.')"
   ]
  },
  {
   "cell_type": "code",
   "execution_count": 46,
   "metadata": {},
   "outputs": [
    {
     "name": "stdout",
     "output_type": "stream",
     "text": [
      "Vanderburg LC at  http://archive.stsci.edu/missions/hlsp/k2sff/c02/203300000/11200/hlsp_k2sff_k2_lightcurve_203311200-c02_kepler_v1_llc.fits\n"
     ]
    }
   ],
   "source": [
    "vand=openVand(203311200,2)"
   ]
  },
  {
   "cell_type": "code",
   "execution_count": 47,
   "metadata": {},
   "outputs": [],
   "source": [
    "f=fits.open(\"http://archive.stsci.edu/missions/hlsp/k2sff/c02/203300000/11200/hlsp_k2sff_k2_lightcurve_203311200-c02_kepler_v1_llc.fits\")"
   ]
  },
  {
   "cell_type": "code",
   "execution_count": 62,
   "metadata": {},
   "outputs": [
    {
     "name": "stdout",
     "output_type": "stream",
     "text": [
      "INFO  [everest.user.DownloadFile()]: Downloading the file...\n",
      "INFO  [everest.user.load_fits()]: Loading FITS file for 203311200.\n"
     ]
    }
   ],
   "source": [
    "import everest\n",
    "st=everest.Everest(203311200,season=2)"
   ]
  },
  {
   "cell_type": "code",
   "execution_count": 68,
   "metadata": {},
   "outputs": [
    {
     "data": {
      "text/plain": [
       "'https://archive.stsci.edu/missions/tess/tid/s0013/0000/0000/6389/8957/tess2019169103026-s0013-0000000063898957-0146-s_lc.fits'"
      ]
     },
     "execution_count": 68,
     "metadata": {},
     "output_type": "execute_result"
    }
   ],
   "source": [
    "fitsloc"
   ]
  },
  {
   "cell_type": "code",
   "execution_count": 74,
   "metadata": {
    "collapsed": true
   },
   "outputs": [],
   "source": [
    "t=np.arange(0,27,0.1)\n",
    "t=np.hstack((t[:30],t[40:100],t[140:200],t[208:]))"
   ]
  },
  {
   "cell_type": "code",
   "execution_count": 78,
   "metadata": {
    "collapsed": true
   },
   "outputs": [],
   "source": [
    "t0=1.5\n",
    "dur=0.4"
   ]
  },
  {
   "cell_type": "code",
   "execution_count": 99,
   "metadata": {},
   "outputs": [],
   "source": [
    "t=np.arange(0,27,0.1)\n",
    "def PeriodGaps(t0,t,dur=0.5):\n",
    "    # Given the time array, the t0 of transit, and the fact that another transit is not observed, \n",
    "    #   we want to calculate a distribution of impossible periods to remove from the Period PDF post-MCMC\n",
    "    # In this case, a list of periods is returned, with all points within 0.5dur to be cut\n",
    "    dist_from_t0=np.sort(abs(t0-t))\n",
    "    gaps=np.where(np.diff(dist_from_t0)>(0.9*dur))[0]\n",
    "    listgaps=[]\n",
    "    for ng in range(len(gaps)):\n",
    "        start,end=dist_from_t0[gaps[ng]],dist_from_t0[gaps[ng]+1]\n",
    "        listgaps+=[np.linspace(start,end,np.ceil(2*(end-start)/dur))]\n",
    "    listgaps+=[np.max(dist_from_t0)]\n",
    "    return np.hstack(listgaps)"
   ]
  },
  {
   "cell_type": "code",
   "execution_count": 102,
   "metadata": {},
   "outputs": [
    {
     "data": {
      "text/plain": [
       "[array([25.4]), array([20.])]"
      ]
     },
     "execution_count": 102,
     "metadata": {},
     "output_type": "execute_result"
    }
   ],
   "source": [
    "[PeriodGaps(t,t0,dur)]+[PeriodGaps(t,20,dur)]"
   ]
  },
  {
   "cell_type": "code",
   "execution_count": 201,
   "metadata": {},
   "outputs": [
    {
     "data": {
      "image/png": "[encoded data removed]",
      "text/plain": [
       "<Figure size 432x288 with 1 Axes>"
      ]
     },
     "metadata": {},
     "output_type": "display_data"
    }
   ],
   "source": [
    "_=plt.hist(np.arange(-100,100,0.001))\n",
    "n=150\n",
    "_=plt.histnp.exp(np.linspace(np.log(n+-100),np.log(n+100),8000))-n)("
   ]
  },
  {
   "cell_type": "code",
   "execution_count": 213,
   "metadata": {},
   "outputs": [
    {
     "data": {
      "image/png": "[encoded data removed]",
      "text/plain": [
       "<Figure size 432x288 with 1 Axes>"
      ]
     },
     "metadata": {},
     "output_type": "display_data"
    }
   ],
   "source": [
    "min_bound=-50\n",
    "max_bound=10\n",
    "\n",
    "high_num_fact=(np.max([abs(min_bound),max_bound])+0.33*(max_bound-min_bound))\n",
    "\n",
    "_=plt.hist(np.exp(np.linspace(np.log(high_num_fact+min_bound),np.log(high_num_fact+max_bound),8000))-high_num_fact)"
   ]
  },
  {
   "cell_type": "code",
   "execution_count": 214,
   "metadata": {
    "collapsed": true
   },
   "outputs": [],
   "source": [
    "pm.Bound?"
   ]
  },
  {
   "cell_type": "code",
   "execution_count": null,
   "metadata": {
    "collapsed": true
   },
   "outputs": [],
   "source": []
  },
  {
   "cell_type": "code",
   "execution_count": null,
   "metadata": {
    "collapsed": true
   },
   "outputs": [],
   "source": []
  },
  {
   "cell_type": "code",
   "execution_count": null,
   "metadata": {
    "collapsed": true
   },
   "outputs": [],
   "source": []
  },
  {
   "cell_type": "code",
   "execution_count": null,
   "metadata": {
    "collapsed": true
   },
   "outputs": [],
   "source": []
  },
  {
   "cell_type": "code",
   "execution_count": null,
   "metadata": {
    "collapsed": true
   },
   "outputs": [],
   "source": []
  },
  {
   "cell_type": "code",
   "execution_count": null,
   "metadata": {
    "collapsed": true
   },
   "outputs": [],
   "source": []
  },
  {
   "cell_type": "code",
   "execution_count": null,
   "metadata": {
    "collapsed": true
   },
   "outputs": [],
   "source": []
  },
  {
   "cell_type": "code",
   "execution_count": 205,
   "metadata": {},
   "outputs": [
    {
     "data": {
      "text/plain": [
       "65.0"
      ]
     },
     "execution_count": 205,
     "metadata": {},
     "output_type": "execute_result"
    }
   ],
   "source": [
    "high_num_fact"
   ]
  },
  {
   "cell_type": "code",
   "execution_count": null,
   "metadata": {
    "collapsed": true
   },
   "outputs": [],
   "source": []
  },
  {
   "cell_type": "code",
   "execution_count": null,
   "metadata": {
    "collapsed": true
   },
   "outputs": [],
   "source": []
  },
  {
   "cell_type": "code",
   "execution_count": null,
   "metadata": {
    "collapsed": true
   },
   "outputs": [],
   "source": []
  },
  {
   "cell_type": "code",
   "execution_count": null,
   "metadata": {
    "collapsed": true
   },
   "outputs": [],
   "source": []
  },
  {
   "cell_type": "code",
   "execution_count": null,
   "metadata": {
    "collapsed": true
   },
   "outputs": [],
   "source": []
  },
  {
   "cell_type": "code",
   "execution_count": null,
   "metadata": {
    "collapsed": true
   },
   "outputs": [],
   "source": []
  },
  {
   "cell_type": "code",
   "execution_count": null,
   "metadata": {
    "collapsed": true
   },
   "outputs": [],
   "source": []
  },
  {
   "cell_type": "code",
   "execution_count": 109,
   "metadata": {
    "collapsed": true
   },
   "outputs": [],
   "source": [
    "import celerite"
   ]
  },
  {
   "cell_type": "code",
   "execution_count": 223,
   "metadata": {},
   "outputs": [
    {
     "data": {
      "text/plain": [
       "(0, 5)"
      ]
     },
     "execution_count": 223,
     "metadata": {},
     "output_type": "execute_result"
    },
    {
     "data": {
      "image/png": "[encoded data removed]",
      "text/plain": [
       "<Figure size 1080x360 with 1 Axes>"
      ]
     },
     "metadata": {},
     "output_type": "display_data"
    }
   ],
   "source": [
    "plt.figure(figsize=(15,5))\n",
    "per=0.1/(np.pi*2)\n",
    "power=0.01\n",
    "logS0=np.log(power)-4*np.log(1/per)\n",
    "Q=1000\n",
    "kernel = celerite.terms.SHOTerm(log_S0=logS0, log_omega0=np.log(1/per), log_Q=np.log10(Q))\n",
    "gp = celerite.GP(kernel, mean=1.0)\n",
    "gp.compute(np.arange(0,20,0.05), np.tile(1e-8,20*20))\n",
    "for n in range(5):\n",
    "    plt.plot(np.arange(0,20,0.05),gp.sample())\n",
    "plt.xlim(0,5)"
   ]
  },
  {
   "cell_type": "code",
   "execution_count": 226,
   "metadata": {},
   "outputs": [
    {
     "data": {
      "text/plain": [
       "<matplotlib.legend.Legend at 0x10ebbf320>"
      ]
     },
     "execution_count": 226,
     "metadata": {},
     "output_type": "execute_result"
    },
    {
     "data": {
      "image/png": "[encoded data removed]",
      "text/plain": [
       "<Figure size 432x288 with 1 Axes>"
      ]
     },
     "metadata": {},
     "output_type": "display_data"
    }
   ],
   "source": [
    "import matplotlib.pyplot as plt\n",
    "import numpy as np\n",
    "import scipy.stats as st\n",
    "plt.style.use('seaborn-darkgrid')\n",
    "x = np.linspace(-3, 3, 100)\n",
    "for lam in [0.5, 1., 2.]:\n",
    "    pdf = st.expon.pdf(x, scale=1.0/lam)\n",
    "    plt.plot(x, pdf, label=r'$\\lambda$ = {}'.format(lam))\n",
    "plt.xlabel('x', fontsize=12)\n",
    "plt.ylabel('f(x)', fontsize=12)\n",
    "plt.legend(loc=1)\n"
   ]
  },
  {
   "cell_type": "code",
   "execution_count": 227,
   "metadata": {
    "collapsed": true
   },
   "outputs": [],
   "source": [
    "pm.Exponential?"
   ]
  },
  {
   "cell_type": "code",
   "execution_count": 299,
   "metadata": {},
   "outputs": [
    {
     "name": "stdout",
     "output_type": "stream",
     "text": [
      "DEBUG [matplotlib.ticker.tick_values()]: vmin 6.309573444801929e-05 vmax 1.5848931924611136\n",
      "DEBUG [matplotlib.ticker.tick_values()]: ticklocs array([1.e-06, 1.e-05, 1.e-04, 1.e-03, 1.e-02, 1.e-01, 1.e+00, 1.e+01,\n",
      "       1.e+02])\n",
      "DEBUG [matplotlib.ticker.tick_values()]: vmin 6.309573444801929e-05 vmax 1.5848931924611136\n",
      "DEBUG [matplotlib.ticker.tick_values()]: ticklocs array([1.e-06, 1.e-05, 1.e-04, 1.e-03, 1.e-02, 1.e-01, 1.e+00, 1.e+01,\n",
      "       1.e+02])\n",
      "DEBUG [matplotlib.ticker.tick_values()]: vmin 6.309573444801929e-05 vmax 1.5848931924611136\n",
      "DEBUG [matplotlib.ticker.tick_values()]: ticklocs array([2.e-06, 3.e-06, 4.e-06, 5.e-06, 6.e-06, 7.e-06, 8.e-06, 9.e-06,\n",
      "       2.e-05, 3.e-05, 4.e-05, 5.e-05, 6.e-05, 7.e-05, 8.e-05, 9.e-05,\n",
      "       2.e-04, 3.e-04, 4.e-04, 5.e-04, 6.e-04, 7.e-04, 8.e-04, 9.e-04,\n",
      "       2.e-03, 3.e-03, 4.e-03, 5.e-03, 6.e-03, 7.e-03, 8.e-03, 9.e-03,\n",
      "       2.e-02, 3.e-02, 4.e-02, 5.e-02, 6.e-02, 7.e-02, 8.e-02, 9.e-02,\n",
      "       2.e-01, 3.e-01, 4.e-01, 5.e-01, 6.e-01, 7.e-01, 8.e-01, 9.e-01,\n",
      "       2.e+00, 3.e+00, 4.e+00, 5.e+00, 6.e+00, 7.e+00, 8.e+00, 9.e+00,\n",
      "       2.e+01, 3.e+01, 4.e+01, 5.e+01, 6.e+01, 7.e+01, 8.e+01, 9.e+01,\n",
      "       2.e+02, 3.e+02, 4.e+02, 5.e+02, 6.e+02, 7.e+02, 8.e+02, 9.e+02])\n",
      "DEBUG [matplotlib.ticker.tick_values()]: vmin 6.309573444801929e-05 vmax 1.5848931924611136\n",
      "DEBUG [matplotlib.ticker.tick_values()]: ticklocs array([1.e-06, 1.e-05, 1.e-04, 1.e-03, 1.e-02, 1.e-01, 1.e+00, 1.e+01,\n",
      "       1.e+02])\n",
      "DEBUG [matplotlib.ticker.tick_values()]: vmin 6.309573444801929e-05 vmax 1.5848931924611136\n",
      "DEBUG [matplotlib.ticker.tick_values()]: ticklocs array([1.e-06, 1.e-05, 1.e-04, 1.e-03, 1.e-02, 1.e-01, 1.e+00, 1.e+01,\n",
      "       1.e+02])\n",
      "DEBUG [matplotlib.ticker.tick_values()]: vmin 6.309573444801929e-05 vmax 1.5848931924611136\n",
      "DEBUG [matplotlib.ticker.tick_values()]: ticklocs array([2.e-06, 3.e-06, 4.e-06, 5.e-06, 6.e-06, 7.e-06, 8.e-06, 9.e-06,\n",
      "       2.e-05, 3.e-05, 4.e-05, 5.e-05, 6.e-05, 7.e-05, 8.e-05, 9.e-05,\n",
      "       2.e-04, 3.e-04, 4.e-04, 5.e-04, 6.e-04, 7.e-04, 8.e-04, 9.e-04,\n",
      "       2.e-03, 3.e-03, 4.e-03, 5.e-03, 6.e-03, 7.e-03, 8.e-03, 9.e-03,\n",
      "       2.e-02, 3.e-02, 4.e-02, 5.e-02, 6.e-02, 7.e-02, 8.e-02, 9.e-02,\n",
      "       2.e-01, 3.e-01, 4.e-01, 5.e-01, 6.e-01, 7.e-01, 8.e-01, 9.e-01,\n",
      "       2.e+00, 3.e+00, 4.e+00, 5.e+00, 6.e+00, 7.e+00, 8.e+00, 9.e+00,\n",
      "       2.e+01, 3.e+01, 4.e+01, 5.e+01, 6.e+01, 7.e+01, 8.e+01, 9.e+01,\n",
      "       2.e+02, 3.e+02, 4.e+02, 5.e+02, 6.e+02, 7.e+02, 8.e+02, 9.e+02])\n",
      "DEBUG [matplotlib.ticker.tick_values()]: vmin 0.00027537826206635777 vmax 16.46991021905477\n",
      "DEBUG [matplotlib.ticker.tick_values()]: ticklocs array([1.e-05, 1.e-04, 1.e-03, 1.e-02, 1.e-01, 1.e+00, 1.e+01, 1.e+02,\n",
      "       1.e+03])\n",
      "DEBUG [matplotlib.ticker.tick_values()]: vmin 0.00027537826206635777 vmax 16.46991021905477\n",
      "DEBUG [matplotlib.ticker.tick_values()]: ticklocs array([1.e-05, 1.e-04, 1.e-03, 1.e-02, 1.e-01, 1.e+00, 1.e+01, 1.e+02,\n",
      "       1.e+03])\n",
      "DEBUG [matplotlib.ticker.tick_values()]: vmin 0.00027537826206635777 vmax 16.46991021905477\n",
      "DEBUG [matplotlib.ticker.tick_values()]: ticklocs array([2.e-05, 3.e-05, 4.e-05, 5.e-05, 6.e-05, 7.e-05, 8.e-05, 9.e-05,\n",
      "       2.e-04, 3.e-04, 4.e-04, 5.e-04, 6.e-04, 7.e-04, 8.e-04, 9.e-04,\n",
      "       2.e-03, 3.e-03, 4.e-03, 5.e-03, 6.e-03, 7.e-03, 8.e-03, 9.e-03,\n",
      "       2.e-02, 3.e-02, 4.e-02, 5.e-02, 6.e-02, 7.e-02, 8.e-02, 9.e-02,\n",
      "       2.e-01, 3.e-01, 4.e-01, 5.e-01, 6.e-01, 7.e-01, 8.e-01, 9.e-01,\n",
      "       2.e+00, 3.e+00, 4.e+00, 5.e+00, 6.e+00, 7.e+00, 8.e+00, 9.e+00,\n",
      "       2.e+01, 3.e+01, 4.e+01, 5.e+01, 6.e+01, 7.e+01, 8.e+01, 9.e+01,\n",
      "       2.e+02, 3.e+02, 4.e+02, 5.e+02, 6.e+02, 7.e+02, 8.e+02, 9.e+02,\n",
      "       2.e+03, 3.e+03, 4.e+03, 5.e+03, 6.e+03, 7.e+03, 8.e+03, 9.e+03])\n",
      "DEBUG [matplotlib.ticker.tick_values()]: vmin 0.00027537826206635777 vmax 16.46991021905477\n",
      "DEBUG [matplotlib.ticker.tick_values()]: ticklocs array([1.e-05, 1.e-04, 1.e-03, 1.e-02, 1.e-01, 1.e+00, 1.e+01, 1.e+02,\n",
      "       1.e+03])\n",
      "DEBUG [matplotlib.ticker.tick_values()]: vmin 0.00027537826206635777 vmax 16.46991021905477\n",
      "DEBUG [matplotlib.ticker.tick_values()]: ticklocs array([1.e-05, 1.e-04, 1.e-03, 1.e-02, 1.e-01, 1.e+00, 1.e+01, 1.e+02,\n",
      "       1.e+03])\n",
      "DEBUG [matplotlib.ticker.tick_values()]: vmin 0.00027537826206635777 vmax 16.46991021905477\n",
      "DEBUG [matplotlib.ticker.tick_values()]: ticklocs array([2.e-05, 3.e-05, 4.e-05, 5.e-05, 6.e-05, 7.e-05, 8.e-05, 9.e-05,\n",
      "       2.e-04, 3.e-04, 4.e-04, 5.e-04, 6.e-04, 7.e-04, 8.e-04, 9.e-04,\n",
      "       2.e-03, 3.e-03, 4.e-03, 5.e-03, 6.e-03, 7.e-03, 8.e-03, 9.e-03,\n",
      "       2.e-02, 3.e-02, 4.e-02, 5.e-02, 6.e-02, 7.e-02, 8.e-02, 9.e-02,\n",
      "       2.e-01, 3.e-01, 4.e-01, 5.e-01, 6.e-01, 7.e-01, 8.e-01, 9.e-01,\n",
      "       2.e+00, 3.e+00, 4.e+00, 5.e+00, 6.e+00, 7.e+00, 8.e+00, 9.e+00,\n",
      "       2.e+01, 3.e+01, 4.e+01, 5.e+01, 6.e+01, 7.e+01, 8.e+01, 9.e+01,\n",
      "       2.e+02, 3.e+02, 4.e+02, 5.e+02, 6.e+02, 7.e+02, 8.e+02, 9.e+02,\n",
      "       2.e+03, 3.e+03, 4.e+03, 5.e+03, 6.e+03, 7.e+03, 8.e+03, 9.e+03])\n",
      "DEBUG [matplotlib.ticker.tick_values()]: vmin 6.309573444801929e-05 vmax 1.5848931924611136\n",
      "DEBUG [matplotlib.ticker.tick_values()]: ticklocs array([1.e-06, 1.e-05, 1.e-04, 1.e-03, 1.e-02, 1.e-01, 1.e+00, 1.e+01,\n",
      "       1.e+02])\n",
      "DEBUG [matplotlib.ticker.tick_values()]: vmin 6.309573444801929e-05 vmax 1.5848931924611136\n",
      "DEBUG [matplotlib.ticker.tick_values()]: ticklocs array([1.e-06, 1.e-05, 1.e-04, 1.e-03, 1.e-02, 1.e-01, 1.e+00, 1.e+01,\n",
      "       1.e+02])\n",
      "DEBUG [matplotlib.ticker.tick_values()]: vmin 6.309573444801929e-05 vmax 1.5848931924611136\n",
      "DEBUG [matplotlib.ticker.tick_values()]: ticklocs array([2.e-06, 3.e-06, 4.e-06, 5.e-06, 6.e-06, 7.e-06, 8.e-06, 9.e-06,\n",
      "       2.e-05, 3.e-05, 4.e-05, 5.e-05, 6.e-05, 7.e-05, 8.e-05, 9.e-05,\n",
      "       2.e-04, 3.e-04, 4.e-04, 5.e-04, 6.e-04, 7.e-04, 8.e-04, 9.e-04,\n",
      "       2.e-03, 3.e-03, 4.e-03, 5.e-03, 6.e-03, 7.e-03, 8.e-03, 9.e-03,\n",
      "       2.e-02, 3.e-02, 4.e-02, 5.e-02, 6.e-02, 7.e-02, 8.e-02, 9.e-02,\n",
      "       2.e-01, 3.e-01, 4.e-01, 5.e-01, 6.e-01, 7.e-01, 8.e-01, 9.e-01,\n",
      "       2.e+00, 3.e+00, 4.e+00, 5.e+00, 6.e+00, 7.e+00, 8.e+00, 9.e+00,\n",
      "       2.e+01, 3.e+01, 4.e+01, 5.e+01, 6.e+01, 7.e+01, 8.e+01, 9.e+01,\n",
      "       2.e+02, 3.e+02, 4.e+02, 5.e+02, 6.e+02, 7.e+02, 8.e+02, 9.e+02])\n",
      "DEBUG [matplotlib.ticker.tick_values()]: vmin 6.309573444801929e-05 vmax 1.5848931924611136\n",
      "DEBUG [matplotlib.ticker.tick_values()]: ticklocs array([1.e-06, 1.e-05, 1.e-04, 1.e-03, 1.e-02, 1.e-01, 1.e+00, 1.e+01,\n",
      "       1.e+02])\n",
      "DEBUG [matplotlib.ticker.tick_values()]: vmin 6.309573444801929e-05 vmax 1.5848931924611136\n",
      "DEBUG [matplotlib.ticker.tick_values()]: ticklocs array([1.e-06, 1.e-05, 1.e-04, 1.e-03, 1.e-02, 1.e-01, 1.e+00, 1.e+01,\n",
      "       1.e+02])\n",
      "DEBUG [matplotlib.ticker.tick_values()]: vmin 6.309573444801929e-05 vmax 1.5848931924611136\n",
      "DEBUG [matplotlib.ticker.tick_values()]: ticklocs array([2.e-06, 3.e-06, 4.e-06, 5.e-06, 6.e-06, 7.e-06, 8.e-06, 9.e-06,\n",
      "       2.e-05, 3.e-05, 4.e-05, 5.e-05, 6.e-05, 7.e-05, 8.e-05, 9.e-05,\n",
      "       2.e-04, 3.e-04, 4.e-04, 5.e-04, 6.e-04, 7.e-04, 8.e-04, 9.e-04,\n",
      "       2.e-03, 3.e-03, 4.e-03, 5.e-03, 6.e-03, 7.e-03, 8.e-03, 9.e-03,\n",
      "       2.e-02, 3.e-02, 4.e-02, 5.e-02, 6.e-02, 7.e-02, 8.e-02, 9.e-02,\n",
      "       2.e-01, 3.e-01, 4.e-01, 5.e-01, 6.e-01, 7.e-01, 8.e-01, 9.e-01,\n",
      "       2.e+00, 3.e+00, 4.e+00, 5.e+00, 6.e+00, 7.e+00, 8.e+00, 9.e+00,\n",
      "       2.e+01, 3.e+01, 4.e+01, 5.e+01, 6.e+01, 7.e+01, 8.e+01, 9.e+01,\n",
      "       2.e+02, 3.e+02, 4.e+02, 5.e+02, 6.e+02, 7.e+02, 8.e+02, 9.e+02])\n",
      "DEBUG [matplotlib.ticker.tick_values()]: vmin 0.00027537826206635777 vmax 16.46991021905477\n",
      "DEBUG [matplotlib.ticker.tick_values()]: ticklocs array([1.e-05, 1.e-04, 1.e-03, 1.e-02, 1.e-01, 1.e+00, 1.e+01, 1.e+02,\n",
      "       1.e+03])\n",
      "DEBUG [matplotlib.ticker.tick_values()]: vmin 0.00027537826206635777 vmax 16.46991021905477\n",
      "DEBUG [matplotlib.ticker.tick_values()]: ticklocs array([1.e-05, 1.e-04, 1.e-03, 1.e-02, 1.e-01, 1.e+00, 1.e+01, 1.e+02,\n",
      "       1.e+03])\n",
      "DEBUG [matplotlib.ticker.tick_values()]: vmin 0.00027537826206635777 vmax 16.46991021905477\n",
      "DEBUG [matplotlib.ticker.tick_values()]: ticklocs array([2.e-05, 3.e-05, 4.e-05, 5.e-05, 6.e-05, 7.e-05, 8.e-05, 9.e-05,\n",
      "       2.e-04, 3.e-04, 4.e-04, 5.e-04, 6.e-04, 7.e-04, 8.e-04, 9.e-04,\n",
      "       2.e-03, 3.e-03, 4.e-03, 5.e-03, 6.e-03, 7.e-03, 8.e-03, 9.e-03,\n",
      "       2.e-02, 3.e-02, 4.e-02, 5.e-02, 6.e-02, 7.e-02, 8.e-02, 9.e-02,\n",
      "       2.e-01, 3.e-01, 4.e-01, 5.e-01, 6.e-01, 7.e-01, 8.e-01, 9.e-01,\n",
      "       2.e+00, 3.e+00, 4.e+00, 5.e+00, 6.e+00, 7.e+00, 8.e+00, 9.e+00,\n",
      "       2.e+01, 3.e+01, 4.e+01, 5.e+01, 6.e+01, 7.e+01, 8.e+01, 9.e+01,\n",
      "       2.e+02, 3.e+02, 4.e+02, 5.e+02, 6.e+02, 7.e+02, 8.e+02, 9.e+02,\n",
      "       2.e+03, 3.e+03, 4.e+03, 5.e+03, 6.e+03, 7.e+03, 8.e+03, 9.e+03])\n"
     ]
    },
    {
     "name": "stdout",
     "output_type": "stream",
     "text": [
      "DEBUG [matplotlib.ticker.tick_values()]: vmin 0.00027537826206635777 vmax 16.46991021905477\n",
      "DEBUG [matplotlib.ticker.tick_values()]: ticklocs array([1.e-05, 1.e-04, 1.e-03, 1.e-02, 1.e-01, 1.e+00, 1.e+01, 1.e+02,\n",
      "       1.e+03])\n",
      "DEBUG [matplotlib.ticker.tick_values()]: vmin 0.00027537826206635777 vmax 16.46991021905477\n",
      "DEBUG [matplotlib.ticker.tick_values()]: ticklocs array([1.e-05, 1.e-04, 1.e-03, 1.e-02, 1.e-01, 1.e+00, 1.e+01, 1.e+02,\n",
      "       1.e+03])\n",
      "DEBUG [matplotlib.ticker.tick_values()]: vmin 0.00027537826206635777 vmax 16.46991021905477\n",
      "DEBUG [matplotlib.ticker.tick_values()]: ticklocs array([2.e-05, 3.e-05, 4.e-05, 5.e-05, 6.e-05, 7.e-05, 8.e-05, 9.e-05,\n",
      "       2.e-04, 3.e-04, 4.e-04, 5.e-04, 6.e-04, 7.e-04, 8.e-04, 9.e-04,\n",
      "       2.e-03, 3.e-03, 4.e-03, 5.e-03, 6.e-03, 7.e-03, 8.e-03, 9.e-03,\n",
      "       2.e-02, 3.e-02, 4.e-02, 5.e-02, 6.e-02, 7.e-02, 8.e-02, 9.e-02,\n",
      "       2.e-01, 3.e-01, 4.e-01, 5.e-01, 6.e-01, 7.e-01, 8.e-01, 9.e-01,\n",
      "       2.e+00, 3.e+00, 4.e+00, 5.e+00, 6.e+00, 7.e+00, 8.e+00, 9.e+00,\n",
      "       2.e+01, 3.e+01, 4.e+01, 5.e+01, 6.e+01, 7.e+01, 8.e+01, 9.e+01,\n",
      "       2.e+02, 3.e+02, 4.e+02, 5.e+02, 6.e+02, 7.e+02, 8.e+02, 9.e+02,\n",
      "       2.e+03, 3.e+03, 4.e+03, 5.e+03, 6.e+03, 7.e+03, 8.e+03, 9.e+03])\n",
      "DEBUG [matplotlib.ticker.tick_values()]: vmin 6.309573444801929e-05 vmax 1.5848931924611136\n",
      "DEBUG [matplotlib.ticker.tick_values()]: ticklocs array([1.e-06, 1.e-05, 1.e-04, 1.e-03, 1.e-02, 1.e-01, 1.e+00, 1.e+01,\n",
      "       1.e+02])\n",
      "DEBUG [matplotlib.ticker.tick_values()]: vmin 6.309573444801929e-05 vmax 1.5848931924611136\n",
      "DEBUG [matplotlib.ticker.tick_values()]: ticklocs array([1.e-06, 1.e-05, 1.e-04, 1.e-03, 1.e-02, 1.e-01, 1.e+00, 1.e+01,\n",
      "       1.e+02])\n",
      "DEBUG [matplotlib.ticker.tick_values()]: vmin 6.309573444801929e-05 vmax 1.5848931924611136\n",
      "DEBUG [matplotlib.ticker.tick_values()]: ticklocs array([2.e-06, 3.e-06, 4.e-06, 5.e-06, 6.e-06, 7.e-06, 8.e-06, 9.e-06,\n",
      "       2.e-05, 3.e-05, 4.e-05, 5.e-05, 6.e-05, 7.e-05, 8.e-05, 9.e-05,\n",
      "       2.e-04, 3.e-04, 4.e-04, 5.e-04, 6.e-04, 7.e-04, 8.e-04, 9.e-04,\n",
      "       2.e-03, 3.e-03, 4.e-03, 5.e-03, 6.e-03, 7.e-03, 8.e-03, 9.e-03,\n",
      "       2.e-02, 3.e-02, 4.e-02, 5.e-02, 6.e-02, 7.e-02, 8.e-02, 9.e-02,\n",
      "       2.e-01, 3.e-01, 4.e-01, 5.e-01, 6.e-01, 7.e-01, 8.e-01, 9.e-01,\n",
      "       2.e+00, 3.e+00, 4.e+00, 5.e+00, 6.e+00, 7.e+00, 8.e+00, 9.e+00,\n",
      "       2.e+01, 3.e+01, 4.e+01, 5.e+01, 6.e+01, 7.e+01, 8.e+01, 9.e+01,\n",
      "       2.e+02, 3.e+02, 4.e+02, 5.e+02, 6.e+02, 7.e+02, 8.e+02, 9.e+02])\n",
      "DEBUG [matplotlib.ticker.tick_values()]: vmin 6.309573444801929e-05 vmax 1.5848931924611136\n",
      "DEBUG [matplotlib.ticker.tick_values()]: ticklocs array([1.e-06, 1.e-05, 1.e-04, 1.e-03, 1.e-02, 1.e-01, 1.e+00, 1.e+01,\n",
      "       1.e+02])\n",
      "DEBUG [matplotlib.ticker.tick_values()]: vmin 6.309573444801929e-05 vmax 1.5848931924611136\n",
      "DEBUG [matplotlib.ticker.tick_values()]: ticklocs array([1.e-06, 1.e-05, 1.e-04, 1.e-03, 1.e-02, 1.e-01, 1.e+00, 1.e+01,\n",
      "       1.e+02])\n",
      "DEBUG [matplotlib.ticker.tick_values()]: vmin 6.309573444801929e-05 vmax 1.5848931924611136\n",
      "DEBUG [matplotlib.ticker.tick_values()]: ticklocs array([2.e-06, 3.e-06, 4.e-06, 5.e-06, 6.e-06, 7.e-06, 8.e-06, 9.e-06,\n",
      "       2.e-05, 3.e-05, 4.e-05, 5.e-05, 6.e-05, 7.e-05, 8.e-05, 9.e-05,\n",
      "       2.e-04, 3.e-04, 4.e-04, 5.e-04, 6.e-04, 7.e-04, 8.e-04, 9.e-04,\n",
      "       2.e-03, 3.e-03, 4.e-03, 5.e-03, 6.e-03, 7.e-03, 8.e-03, 9.e-03,\n",
      "       2.e-02, 3.e-02, 4.e-02, 5.e-02, 6.e-02, 7.e-02, 8.e-02, 9.e-02,\n",
      "       2.e-01, 3.e-01, 4.e-01, 5.e-01, 6.e-01, 7.e-01, 8.e-01, 9.e-01,\n",
      "       2.e+00, 3.e+00, 4.e+00, 5.e+00, 6.e+00, 7.e+00, 8.e+00, 9.e+00,\n",
      "       2.e+01, 3.e+01, 4.e+01, 5.e+01, 6.e+01, 7.e+01, 8.e+01, 9.e+01,\n",
      "       2.e+02, 3.e+02, 4.e+02, 5.e+02, 6.e+02, 7.e+02, 8.e+02, 9.e+02])\n",
      "DEBUG [matplotlib.ticker.tick_values()]: vmin 0.00027537826206635777 vmax 16.46991021905477\n",
      "DEBUG [matplotlib.ticker.tick_values()]: ticklocs array([1.e-05, 1.e-04, 1.e-03, 1.e-02, 1.e-01, 1.e+00, 1.e+01, 1.e+02,\n",
      "       1.e+03])\n",
      "DEBUG [matplotlib.ticker.tick_values()]: vmin 0.00027537826206635777 vmax 16.46991021905477\n",
      "DEBUG [matplotlib.ticker.tick_values()]: ticklocs array([1.e-05, 1.e-04, 1.e-03, 1.e-02, 1.e-01, 1.e+00, 1.e+01, 1.e+02,\n",
      "       1.e+03])\n",
      "DEBUG [matplotlib.ticker.tick_values()]: vmin 0.00027537826206635777 vmax 16.46991021905477\n",
      "DEBUG [matplotlib.ticker.tick_values()]: ticklocs array([2.e-05, 3.e-05, 4.e-05, 5.e-05, 6.e-05, 7.e-05, 8.e-05, 9.e-05,\n",
      "       2.e-04, 3.e-04, 4.e-04, 5.e-04, 6.e-04, 7.e-04, 8.e-04, 9.e-04,\n",
      "       2.e-03, 3.e-03, 4.e-03, 5.e-03, 6.e-03, 7.e-03, 8.e-03, 9.e-03,\n",
      "       2.e-02, 3.e-02, 4.e-02, 5.e-02, 6.e-02, 7.e-02, 8.e-02, 9.e-02,\n",
      "       2.e-01, 3.e-01, 4.e-01, 5.e-01, 6.e-01, 7.e-01, 8.e-01, 9.e-01,\n",
      "       2.e+00, 3.e+00, 4.e+00, 5.e+00, 6.e+00, 7.e+00, 8.e+00, 9.e+00,\n",
      "       2.e+01, 3.e+01, 4.e+01, 5.e+01, 6.e+01, 7.e+01, 8.e+01, 9.e+01,\n",
      "       2.e+02, 3.e+02, 4.e+02, 5.e+02, 6.e+02, 7.e+02, 8.e+02, 9.e+02,\n",
      "       2.e+03, 3.e+03, 4.e+03, 5.e+03, 6.e+03, 7.e+03, 8.e+03, 9.e+03])\n",
      "DEBUG [matplotlib.ticker.tick_values()]: vmin 0.00027537826206635777 vmax 16.46991021905477\n",
      "DEBUG [matplotlib.ticker.tick_values()]: ticklocs array([1.e-05, 1.e-04, 1.e-03, 1.e-02, 1.e-01, 1.e+00, 1.e+01, 1.e+02,\n",
      "       1.e+03])\n",
      "DEBUG [matplotlib.ticker.tick_values()]: vmin 0.00027537826206635777 vmax 16.46991021905477\n",
      "DEBUG [matplotlib.ticker.tick_values()]: ticklocs array([1.e-05, 1.e-04, 1.e-03, 1.e-02, 1.e-01, 1.e+00, 1.e+01, 1.e+02,\n",
      "       1.e+03])\n",
      "DEBUG [matplotlib.ticker.tick_values()]: vmin 0.00027537826206635777 vmax 16.46991021905477\n",
      "DEBUG [matplotlib.ticker.tick_values()]: ticklocs array([2.e-05, 3.e-05, 4.e-05, 5.e-05, 6.e-05, 7.e-05, 8.e-05, 9.e-05,\n",
      "       2.e-04, 3.e-04, 4.e-04, 5.e-04, 6.e-04, 7.e-04, 8.e-04, 9.e-04,\n",
      "       2.e-03, 3.e-03, 4.e-03, 5.e-03, 6.e-03, 7.e-03, 8.e-03, 9.e-03,\n",
      "       2.e-02, 3.e-02, 4.e-02, 5.e-02, 6.e-02, 7.e-02, 8.e-02, 9.e-02,\n",
      "       2.e-01, 3.e-01, 4.e-01, 5.e-01, 6.e-01, 7.e-01, 8.e-01, 9.e-01,\n",
      "       2.e+00, 3.e+00, 4.e+00, 5.e+00, 6.e+00, 7.e+00, 8.e+00, 9.e+00,\n",
      "       2.e+01, 3.e+01, 4.e+01, 5.e+01, 6.e+01, 7.e+01, 8.e+01, 9.e+01,\n",
      "       2.e+02, 3.e+02, 4.e+02, 5.e+02, 6.e+02, 7.e+02, 8.e+02, 9.e+02,\n",
      "       2.e+03, 3.e+03, 4.e+03, 5.e+03, 6.e+03, 7.e+03, 8.e+03, 9.e+03])\n",
      "DEBUG [matplotlib.ticker.tick_values()]: vmin 6.309573444801929e-05 vmax 1.5848931924611136\n",
      "DEBUG [matplotlib.ticker.tick_values()]: ticklocs array([1.e-06, 1.e-05, 1.e-04, 1.e-03, 1.e-02, 1.e-01, 1.e+00, 1.e+01,\n",
      "       1.e+02])\n",
      "DEBUG [matplotlib.ticker.tick_values()]: vmin 6.309573444801929e-05 vmax 1.5848931924611136\n",
      "DEBUG [matplotlib.ticker.tick_values()]: ticklocs array([1.e-06, 1.e-05, 1.e-04, 1.e-03, 1.e-02, 1.e-01, 1.e+00, 1.e+01,\n",
      "       1.e+02])\n",
      "DEBUG [matplotlib.ticker.tick_values()]: vmin 6.309573444801929e-05 vmax 1.5848931924611136\n",
      "DEBUG [matplotlib.ticker.tick_values()]: ticklocs array([2.e-06, 3.e-06, 4.e-06, 5.e-06, 6.e-06, 7.e-06, 8.e-06, 9.e-06,\n",
      "       2.e-05, 3.e-05, 4.e-05, 5.e-05, 6.e-05, 7.e-05, 8.e-05, 9.e-05,\n",
      "       2.e-04, 3.e-04, 4.e-04, 5.e-04, 6.e-04, 7.e-04, 8.e-04, 9.e-04,\n",
      "       2.e-03, 3.e-03, 4.e-03, 5.e-03, 6.e-03, 7.e-03, 8.e-03, 9.e-03,\n",
      "       2.e-02, 3.e-02, 4.e-02, 5.e-02, 6.e-02, 7.e-02, 8.e-02, 9.e-02,\n",
      "       2.e-01, 3.e-01, 4.e-01, 5.e-01, 6.e-01, 7.e-01, 8.e-01, 9.e-01,\n",
      "       2.e+00, 3.e+00, 4.e+00, 5.e+00, 6.e+00, 7.e+00, 8.e+00, 9.e+00,\n",
      "       2.e+01, 3.e+01, 4.e+01, 5.e+01, 6.e+01, 7.e+01, 8.e+01, 9.e+01,\n",
      "       2.e+02, 3.e+02, 4.e+02, 5.e+02, 6.e+02, 7.e+02, 8.e+02, 9.e+02])\n",
      "DEBUG [matplotlib.ticker.tick_values()]: vmin 6.309573444801929e-05 vmax 1.5848931924611136\n",
      "DEBUG [matplotlib.ticker.tick_values()]: ticklocs array([1.e-06, 1.e-05, 1.e-04, 1.e-03, 1.e-02, 1.e-01, 1.e+00, 1.e+01,\n",
      "       1.e+02])\n",
      "DEBUG [matplotlib.ticker.tick_values()]: vmin 6.309573444801929e-05 vmax 1.5848931924611136\n",
      "DEBUG [matplotlib.ticker.tick_values()]: ticklocs array([1.e-06, 1.e-05, 1.e-04, 1.e-03, 1.e-02, 1.e-01, 1.e+00, 1.e+01,\n",
      "       1.e+02])\n",
      "DEBUG [matplotlib.ticker.tick_values()]: vmin 6.309573444801929e-05 vmax 1.5848931924611136\n",
      "DEBUG [matplotlib.ticker.tick_values()]: ticklocs array([2.e-06, 3.e-06, 4.e-06, 5.e-06, 6.e-06, 7.e-06, 8.e-06, 9.e-06,\n",
      "       2.e-05, 3.e-05, 4.e-05, 5.e-05, 6.e-05, 7.e-05, 8.e-05, 9.e-05,\n",
      "       2.e-04, 3.e-04, 4.e-04, 5.e-04, 6.e-04, 7.e-04, 8.e-04, 9.e-04,\n",
      "       2.e-03, 3.e-03, 4.e-03, 5.e-03, 6.e-03, 7.e-03, 8.e-03, 9.e-03,\n",
      "       2.e-02, 3.e-02, 4.e-02, 5.e-02, 6.e-02, 7.e-02, 8.e-02, 9.e-02,\n",
      "       2.e-01, 3.e-01, 4.e-01, 5.e-01, 6.e-01, 7.e-01, 8.e-01, 9.e-01,\n",
      "       2.e+00, 3.e+00, 4.e+00, 5.e+00, 6.e+00, 7.e+00, 8.e+00, 9.e+00,\n",
      "       2.e+01, 3.e+01, 4.e+01, 5.e+01, 6.e+01, 7.e+01, 8.e+01, 9.e+01,\n",
      "       2.e+02, 3.e+02, 4.e+02, 5.e+02, 6.e+02, 7.e+02, 8.e+02, 9.e+02])\n"
     ]
    },
    {
     "name": "stdout",
     "output_type": "stream",
     "text": [
      "DEBUG [matplotlib.ticker.tick_values()]: vmin 0.00027537826206635777 vmax 16.46991021905477\n",
      "DEBUG [matplotlib.ticker.tick_values()]: ticklocs array([1.e-05, 1.e-04, 1.e-03, 1.e-02, 1.e-01, 1.e+00, 1.e+01, 1.e+02,\n",
      "       1.e+03])\n",
      "DEBUG [matplotlib.ticker.tick_values()]: vmin 0.00027537826206635777 vmax 16.46991021905477\n",
      "DEBUG [matplotlib.ticker.tick_values()]: ticklocs array([1.e-05, 1.e-04, 1.e-03, 1.e-02, 1.e-01, 1.e+00, 1.e+01, 1.e+02,\n",
      "       1.e+03])\n",
      "DEBUG [matplotlib.ticker.tick_values()]: vmin 0.00027537826206635777 vmax 16.46991021905477\n",
      "DEBUG [matplotlib.ticker.tick_values()]: ticklocs array([2.e-05, 3.e-05, 4.e-05, 5.e-05, 6.e-05, 7.e-05, 8.e-05, 9.e-05,\n",
      "       2.e-04, 3.e-04, 4.e-04, 5.e-04, 6.e-04, 7.e-04, 8.e-04, 9.e-04,\n",
      "       2.e-03, 3.e-03, 4.e-03, 5.e-03, 6.e-03, 7.e-03, 8.e-03, 9.e-03,\n",
      "       2.e-02, 3.e-02, 4.e-02, 5.e-02, 6.e-02, 7.e-02, 8.e-02, 9.e-02,\n",
      "       2.e-01, 3.e-01, 4.e-01, 5.e-01, 6.e-01, 7.e-01, 8.e-01, 9.e-01,\n",
      "       2.e+00, 3.e+00, 4.e+00, 5.e+00, 6.e+00, 7.e+00, 8.e+00, 9.e+00,\n",
      "       2.e+01, 3.e+01, 4.e+01, 5.e+01, 6.e+01, 7.e+01, 8.e+01, 9.e+01,\n",
      "       2.e+02, 3.e+02, 4.e+02, 5.e+02, 6.e+02, 7.e+02, 8.e+02, 9.e+02,\n",
      "       2.e+03, 3.e+03, 4.e+03, 5.e+03, 6.e+03, 7.e+03, 8.e+03, 9.e+03])\n",
      "DEBUG [matplotlib.ticker.tick_values()]: vmin 0.00027537826206635777 vmax 16.46991021905477\n",
      "DEBUG [matplotlib.ticker.tick_values()]: ticklocs array([1.e-05, 1.e-04, 1.e-03, 1.e-02, 1.e-01, 1.e+00, 1.e+01, 1.e+02,\n",
      "       1.e+03])\n",
      "DEBUG [matplotlib.ticker.tick_values()]: vmin 0.00027537826206635777 vmax 16.46991021905477\n",
      "DEBUG [matplotlib.ticker.tick_values()]: ticklocs array([1.e-05, 1.e-04, 1.e-03, 1.e-02, 1.e-01, 1.e+00, 1.e+01, 1.e+02,\n",
      "       1.e+03])\n",
      "DEBUG [matplotlib.ticker.tick_values()]: vmin 0.00027537826206635777 vmax 16.46991021905477\n",
      "DEBUG [matplotlib.ticker.tick_values()]: ticklocs array([2.e-05, 3.e-05, 4.e-05, 5.e-05, 6.e-05, 7.e-05, 8.e-05, 9.e-05,\n",
      "       2.e-04, 3.e-04, 4.e-04, 5.e-04, 6.e-04, 7.e-04, 8.e-04, 9.e-04,\n",
      "       2.e-03, 3.e-03, 4.e-03, 5.e-03, 6.e-03, 7.e-03, 8.e-03, 9.e-03,\n",
      "       2.e-02, 3.e-02, 4.e-02, 5.e-02, 6.e-02, 7.e-02, 8.e-02, 9.e-02,\n",
      "       2.e-01, 3.e-01, 4.e-01, 5.e-01, 6.e-01, 7.e-01, 8.e-01, 9.e-01,\n",
      "       2.e+00, 3.e+00, 4.e+00, 5.e+00, 6.e+00, 7.e+00, 8.e+00, 9.e+00,\n",
      "       2.e+01, 3.e+01, 4.e+01, 5.e+01, 6.e+01, 7.e+01, 8.e+01, 9.e+01,\n",
      "       2.e+02, 3.e+02, 4.e+02, 5.e+02, 6.e+02, 7.e+02, 8.e+02, 9.e+02,\n",
      "       2.e+03, 3.e+03, 4.e+03, 5.e+03, 6.e+03, 7.e+03, 8.e+03, 9.e+03])\n",
      "DEBUG [matplotlib.ticker.tick_values()]: vmin 6.309573444801929e-05 vmax 1.5848931924611136\n",
      "DEBUG [matplotlib.ticker.tick_values()]: ticklocs array([1.e-06, 1.e-05, 1.e-04, 1.e-03, 1.e-02, 1.e-01, 1.e+00, 1.e+01,\n",
      "       1.e+02])\n",
      "DEBUG [matplotlib.ticker.tick_values()]: vmin 6.309573444801929e-05 vmax 1.5848931924611136\n",
      "DEBUG [matplotlib.ticker.tick_values()]: ticklocs array([1.e-06, 1.e-05, 1.e-04, 1.e-03, 1.e-02, 1.e-01, 1.e+00, 1.e+01,\n",
      "       1.e+02])\n",
      "DEBUG [matplotlib.ticker.tick_values()]: vmin 6.309573444801929e-05 vmax 1.5848931924611136\n",
      "DEBUG [matplotlib.ticker.tick_values()]: ticklocs array([2.e-06, 3.e-06, 4.e-06, 5.e-06, 6.e-06, 7.e-06, 8.e-06, 9.e-06,\n",
      "       2.e-05, 3.e-05, 4.e-05, 5.e-05, 6.e-05, 7.e-05, 8.e-05, 9.e-05,\n",
      "       2.e-04, 3.e-04, 4.e-04, 5.e-04, 6.e-04, 7.e-04, 8.e-04, 9.e-04,\n",
      "       2.e-03, 3.e-03, 4.e-03, 5.e-03, 6.e-03, 7.e-03, 8.e-03, 9.e-03,\n",
      "       2.e-02, 3.e-02, 4.e-02, 5.e-02, 6.e-02, 7.e-02, 8.e-02, 9.e-02,\n",
      "       2.e-01, 3.e-01, 4.e-01, 5.e-01, 6.e-01, 7.e-01, 8.e-01, 9.e-01,\n",
      "       2.e+00, 3.e+00, 4.e+00, 5.e+00, 6.e+00, 7.e+00, 8.e+00, 9.e+00,\n",
      "       2.e+01, 3.e+01, 4.e+01, 5.e+01, 6.e+01, 7.e+01, 8.e+01, 9.e+01,\n",
      "       2.e+02, 3.e+02, 4.e+02, 5.e+02, 6.e+02, 7.e+02, 8.e+02, 9.e+02])\n",
      "DEBUG [matplotlib.ticker.tick_values()]: vmin 6.309573444801929e-05 vmax 1.5848931924611136\n",
      "DEBUG [matplotlib.ticker.tick_values()]: ticklocs array([1.e-06, 1.e-05, 1.e-04, 1.e-03, 1.e-02, 1.e-01, 1.e+00, 1.e+01,\n",
      "       1.e+02])\n",
      "DEBUG [matplotlib.ticker.tick_values()]: vmin 6.309573444801929e-05 vmax 1.5848931924611136\n",
      "DEBUG [matplotlib.ticker.tick_values()]: ticklocs array([1.e-06, 1.e-05, 1.e-04, 1.e-03, 1.e-02, 1.e-01, 1.e+00, 1.e+01,\n",
      "       1.e+02])\n",
      "DEBUG [matplotlib.ticker.tick_values()]: vmin 6.309573444801929e-05 vmax 1.5848931924611136\n",
      "DEBUG [matplotlib.ticker.tick_values()]: ticklocs array([2.e-06, 3.e-06, 4.e-06, 5.e-06, 6.e-06, 7.e-06, 8.e-06, 9.e-06,\n",
      "       2.e-05, 3.e-05, 4.e-05, 5.e-05, 6.e-05, 7.e-05, 8.e-05, 9.e-05,\n",
      "       2.e-04, 3.e-04, 4.e-04, 5.e-04, 6.e-04, 7.e-04, 8.e-04, 9.e-04,\n",
      "       2.e-03, 3.e-03, 4.e-03, 5.e-03, 6.e-03, 7.e-03, 8.e-03, 9.e-03,\n",
      "       2.e-02, 3.e-02, 4.e-02, 5.e-02, 6.e-02, 7.e-02, 8.e-02, 9.e-02,\n",
      "       2.e-01, 3.e-01, 4.e-01, 5.e-01, 6.e-01, 7.e-01, 8.e-01, 9.e-01,\n",
      "       2.e+00, 3.e+00, 4.e+00, 5.e+00, 6.e+00, 7.e+00, 8.e+00, 9.e+00,\n",
      "       2.e+01, 3.e+01, 4.e+01, 5.e+01, 6.e+01, 7.e+01, 8.e+01, 9.e+01,\n",
      "       2.e+02, 3.e+02, 4.e+02, 5.e+02, 6.e+02, 7.e+02, 8.e+02, 9.e+02])\n",
      "DEBUG [matplotlib.ticker.tick_values()]: vmin 0.00027537826206635777 vmax 16.46991021905477\n",
      "DEBUG [matplotlib.ticker.tick_values()]: ticklocs array([1.e-05, 1.e-04, 1.e-03, 1.e-02, 1.e-01, 1.e+00, 1.e+01, 1.e+02,\n",
      "       1.e+03])\n",
      "DEBUG [matplotlib.ticker.tick_values()]: vmin 0.00027537826206635777 vmax 16.46991021905477\n",
      "DEBUG [matplotlib.ticker.tick_values()]: ticklocs array([1.e-05, 1.e-04, 1.e-03, 1.e-02, 1.e-01, 1.e+00, 1.e+01, 1.e+02,\n",
      "       1.e+03])\n",
      "DEBUG [matplotlib.ticker.tick_values()]: vmin 0.00027537826206635777 vmax 16.46991021905477\n",
      "DEBUG [matplotlib.ticker.tick_values()]: ticklocs array([2.e-05, 3.e-05, 4.e-05, 5.e-05, 6.e-05, 7.e-05, 8.e-05, 9.e-05,\n",
      "       2.e-04, 3.e-04, 4.e-04, 5.e-04, 6.e-04, 7.e-04, 8.e-04, 9.e-04,\n",
      "       2.e-03, 3.e-03, 4.e-03, 5.e-03, 6.e-03, 7.e-03, 8.e-03, 9.e-03,\n",
      "       2.e-02, 3.e-02, 4.e-02, 5.e-02, 6.e-02, 7.e-02, 8.e-02, 9.e-02,\n",
      "       2.e-01, 3.e-01, 4.e-01, 5.e-01, 6.e-01, 7.e-01, 8.e-01, 9.e-01,\n",
      "       2.e+00, 3.e+00, 4.e+00, 5.e+00, 6.e+00, 7.e+00, 8.e+00, 9.e+00,\n",
      "       2.e+01, 3.e+01, 4.e+01, 5.e+01, 6.e+01, 7.e+01, 8.e+01, 9.e+01,\n",
      "       2.e+02, 3.e+02, 4.e+02, 5.e+02, 6.e+02, 7.e+02, 8.e+02, 9.e+02,\n",
      "       2.e+03, 3.e+03, 4.e+03, 5.e+03, 6.e+03, 7.e+03, 8.e+03, 9.e+03])\n",
      "DEBUG [matplotlib.ticker.tick_values()]: vmin 0.00027537826206635777 vmax 16.46991021905477\n",
      "DEBUG [matplotlib.ticker.tick_values()]: ticklocs array([1.e-05, 1.e-04, 1.e-03, 1.e-02, 1.e-01, 1.e+00, 1.e+01, 1.e+02,\n",
      "       1.e+03])\n",
      "DEBUG [matplotlib.ticker.tick_values()]: vmin 0.00027537826206635777 vmax 16.46991021905477\n",
      "DEBUG [matplotlib.ticker.tick_values()]: ticklocs array([1.e-05, 1.e-04, 1.e-03, 1.e-02, 1.e-01, 1.e+00, 1.e+01, 1.e+02,\n",
      "       1.e+03])\n",
      "DEBUG [matplotlib.ticker.tick_values()]: vmin 0.00027537826206635777 vmax 16.46991021905477\n",
      "DEBUG [matplotlib.ticker.tick_values()]: ticklocs array([2.e-05, 3.e-05, 4.e-05, 5.e-05, 6.e-05, 7.e-05, 8.e-05, 9.e-05,\n",
      "       2.e-04, 3.e-04, 4.e-04, 5.e-04, 6.e-04, 7.e-04, 8.e-04, 9.e-04,\n",
      "       2.e-03, 3.e-03, 4.e-03, 5.e-03, 6.e-03, 7.e-03, 8.e-03, 9.e-03,\n",
      "       2.e-02, 3.e-02, 4.e-02, 5.e-02, 6.e-02, 7.e-02, 8.e-02, 9.e-02,\n",
      "       2.e-01, 3.e-01, 4.e-01, 5.e-01, 6.e-01, 7.e-01, 8.e-01, 9.e-01,\n",
      "       2.e+00, 3.e+00, 4.e+00, 5.e+00, 6.e+00, 7.e+00, 8.e+00, 9.e+00,\n",
      "       2.e+01, 3.e+01, 4.e+01, 5.e+01, 6.e+01, 7.e+01, 8.e+01, 9.e+01,\n",
      "       2.e+02, 3.e+02, 4.e+02, 5.e+02, 6.e+02, 7.e+02, 8.e+02, 9.e+02,\n",
      "       2.e+03, 3.e+03, 4.e+03, 5.e+03, 6.e+03, 7.e+03, 8.e+03, 9.e+03])\n"
     ]
    },
    {
     "data": {
      "image/png": "[encoded data removed]",
      "text/plain": [
       "<Figure size 432x288 with 1 Axes>"
      ]
     },
     "metadata": {},
     "output_type": "display_data"
    }
   ],
   "source": [
    "import numpy as np\n",
    "import scipy.stats as st\n",
    "plt.style.use('seaborn-darkgrid')\n",
    "#x = np.linspace(0, 20, 200)\n",
    "x = np.logspace(-4, 0.0, 200)\n",
    "alphas = [1., 2., 3., 7.5]\n",
    "betas = [.5, .5, 1., 1.]\n",
    "\n",
    "a=1.0; b=2.50\n",
    "pdf = st.gamma.pdf(x, a, scale=1.0/b)\n",
    "plt.plot(x, pdf, label=r'$\\alpha$ = {}, $\\beta$ = {}'.format(a, b))\n",
    "\n",
    "a=1.0; b=5.0\n",
    "pdf = st.gamma.pdf(x, a, scale=1.0/b)\n",
    "plt.plot(x, pdf, label=r'$\\alpha$ = {}, $\\beta$ = {}'.format(a, b))\n",
    "a=1; b=10.0\n",
    "pdf = st.gamma.pdf(x, a, scale=1.0/b)\n",
    "plt.plot(x, pdf, label=r'$\\alpha$ = {}, $\\beta$ = {}'.format(a, b))\n",
    "\n",
    "\n",
    "plt.xlabel('x', fontsize=12)\n",
    "plt.ylabel('f(x)', fontsize=12)\n",
    "plt.legend(loc=1)\n",
    "plt.xscale('log')\n",
    "plt.yscale('log')"
   ]
  },
  {
   "cell_type": "code",
   "execution_count": 355,
   "metadata": {},
   "outputs": [
    {
     "data": {
      "text/plain": [
       "(1e-15, 1)"
      ]
     },
     "execution_count": 355,
     "metadata": {},
     "output_type": "execute_result"
    },
    {
     "name": "stdout",
     "output_type": "stream",
     "text": [
      "DEBUG [matplotlib.ticker.tick_values()]: vmin 0.00630957344480193 vmax 158.48931924611142\n",
      "DEBUG [matplotlib.ticker.tick_values()]: ticklocs array([1.e-04, 1.e-03, 1.e-02, 1.e-01, 1.e+00, 1.e+01, 1.e+02, 1.e+03,\n",
      "       1.e+04])\n",
      "DEBUG [matplotlib.ticker.tick_values()]: vmin 0.00630957344480193 vmax 158.48931924611142\n",
      "DEBUG [matplotlib.ticker.tick_values()]: ticklocs array([1.e-04, 1.e-03, 1.e-02, 1.e-01, 1.e+00, 1.e+01, 1.e+02, 1.e+03,\n",
      "       1.e+04])\n",
      "DEBUG [matplotlib.ticker.tick_values()]: vmin 0.00630957344480193 vmax 158.48931924611142\n",
      "DEBUG [matplotlib.ticker.tick_values()]: ticklocs array([2.e-04, 3.e-04, 4.e-04, 5.e-04, 6.e-04, 7.e-04, 8.e-04, 9.e-04,\n",
      "       2.e-03, 3.e-03, 4.e-03, 5.e-03, 6.e-03, 7.e-03, 8.e-03, 9.e-03,\n",
      "       2.e-02, 3.e-02, 4.e-02, 5.e-02, 6.e-02, 7.e-02, 8.e-02, 9.e-02,\n",
      "       2.e-01, 3.e-01, 4.e-01, 5.e-01, 6.e-01, 7.e-01, 8.e-01, 9.e-01,\n",
      "       2.e+00, 3.e+00, 4.e+00, 5.e+00, 6.e+00, 7.e+00, 8.e+00, 9.e+00,\n",
      "       2.e+01, 3.e+01, 4.e+01, 5.e+01, 6.e+01, 7.e+01, 8.e+01, 9.e+01,\n",
      "       2.e+02, 3.e+02, 4.e+02, 5.e+02, 6.e+02, 7.e+02, 8.e+02, 9.e+02,\n",
      "       2.e+03, 3.e+03, 4.e+03, 5.e+03, 6.e+03, 7.e+03, 8.e+03, 9.e+03,\n",
      "       2.e+04, 3.e+04, 4.e+04, 5.e+04, 6.e+04, 7.e+04, 8.e+04, 9.e+04])\n",
      "DEBUG [matplotlib.ticker.tick_values()]: vmin 0.00630957344480193 vmax 158.48931924611142\n",
      "DEBUG [matplotlib.ticker.tick_values()]: ticklocs array([1.e-04, 1.e-03, 1.e-02, 1.e-01, 1.e+00, 1.e+01, 1.e+02, 1.e+03,\n",
      "       1.e+04])\n",
      "DEBUG [matplotlib.ticker.tick_values()]: vmin 0.00630957344480193 vmax 158.48931924611142\n",
      "DEBUG [matplotlib.ticker.tick_values()]: ticklocs array([1.e-04, 1.e-03, 1.e-02, 1.e-01, 1.e+00, 1.e+01, 1.e+02, 1.e+03,\n",
      "       1.e+04])\n",
      "DEBUG [matplotlib.ticker.tick_values()]: vmin 0.00630957344480193 vmax 158.48931924611142\n",
      "DEBUG [matplotlib.ticker.tick_values()]: ticklocs array([2.e-04, 3.e-04, 4.e-04, 5.e-04, 6.e-04, 7.e-04, 8.e-04, 9.e-04,\n",
      "       2.e-03, 3.e-03, 4.e-03, 5.e-03, 6.e-03, 7.e-03, 8.e-03, 9.e-03,\n",
      "       2.e-02, 3.e-02, 4.e-02, 5.e-02, 6.e-02, 7.e-02, 8.e-02, 9.e-02,\n",
      "       2.e-01, 3.e-01, 4.e-01, 5.e-01, 6.e-01, 7.e-01, 8.e-01, 9.e-01,\n",
      "       2.e+00, 3.e+00, 4.e+00, 5.e+00, 6.e+00, 7.e+00, 8.e+00, 9.e+00,\n",
      "       2.e+01, 3.e+01, 4.e+01, 5.e+01, 6.e+01, 7.e+01, 8.e+01, 9.e+01,\n",
      "       2.e+02, 3.e+02, 4.e+02, 5.e+02, 6.e+02, 7.e+02, 8.e+02, 9.e+02,\n",
      "       2.e+03, 3.e+03, 4.e+03, 5.e+03, 6.e+03, 7.e+03, 8.e+03, 9.e+03,\n",
      "       2.e+04, 3.e+04, 4.e+04, 5.e+04, 6.e+04, 7.e+04, 8.e+04, 9.e+04])\n",
      "DEBUG [matplotlib.ticker.tick_values()]: vmin 1e-15 vmax 1.0\n",
      "DEBUG [matplotlib.ticker.tick_values()]: ticklocs array([1.e-17, 1.e-15, 1.e-13, 1.e-11, 1.e-09, 1.e-07, 1.e-05, 1.e-03,\n",
      "       1.e-01, 1.e+01, 1.e+03])\n",
      "DEBUG [matplotlib.ticker.tick_values()]: vmin 1e-15 vmax 1.0\n",
      "DEBUG [matplotlib.ticker.tick_values()]: ticklocs array([1.e-17, 1.e-15, 1.e-13, 1.e-11, 1.e-09, 1.e-07, 1.e-05, 1.e-03,\n",
      "       1.e-01, 1.e+01, 1.e+03])\n",
      "DEBUG [matplotlib.ticker.tick_values()]: vmin 1e-15 vmax 1.0\n",
      "DEBUG [matplotlib.ticker.tick_values()]: vmin 1e-15 vmax 1.0\n",
      "DEBUG [matplotlib.ticker.tick_values()]: ticklocs array([1.e-17, 1.e-15, 1.e-13, 1.e-11, 1.e-09, 1.e-07, 1.e-05, 1.e-03,\n",
      "       1.e-01, 1.e+01, 1.e+03])\n",
      "DEBUG [matplotlib.ticker.tick_values()]: vmin 1e-15 vmax 1.0\n",
      "DEBUG [matplotlib.ticker.tick_values()]: ticklocs array([1.e-17, 1.e-15, 1.e-13, 1.e-11, 1.e-09, 1.e-07, 1.e-05, 1.e-03,\n",
      "       1.e-01, 1.e+01, 1.e+03])\n",
      "DEBUG [matplotlib.ticker.tick_values()]: vmin 1e-15 vmax 1.0\n",
      "DEBUG [matplotlib.ticker.tick_values()]: vmin 0.00630957344480193 vmax 158.48931924611142\n",
      "DEBUG [matplotlib.ticker.tick_values()]: ticklocs array([1.e-04, 1.e-03, 1.e-02, 1.e-01, 1.e+00, 1.e+01, 1.e+02, 1.e+03,\n",
      "       1.e+04])\n",
      "DEBUG [matplotlib.ticker.tick_values()]: vmin 0.00630957344480193 vmax 158.48931924611142\n",
      "DEBUG [matplotlib.ticker.tick_values()]: ticklocs array([1.e-04, 1.e-03, 1.e-02, 1.e-01, 1.e+00, 1.e+01, 1.e+02, 1.e+03,\n",
      "       1.e+04])\n",
      "DEBUG [matplotlib.ticker.tick_values()]: vmin 0.00630957344480193 vmax 158.48931924611142\n",
      "DEBUG [matplotlib.ticker.tick_values()]: ticklocs array([2.e-04, 3.e-04, 4.e-04, 5.e-04, 6.e-04, 7.e-04, 8.e-04, 9.e-04,\n",
      "       2.e-03, 3.e-03, 4.e-03, 5.e-03, 6.e-03, 7.e-03, 8.e-03, 9.e-03,\n",
      "       2.e-02, 3.e-02, 4.e-02, 5.e-02, 6.e-02, 7.e-02, 8.e-02, 9.e-02,\n",
      "       2.e-01, 3.e-01, 4.e-01, 5.e-01, 6.e-01, 7.e-01, 8.e-01, 9.e-01,\n",
      "       2.e+00, 3.e+00, 4.e+00, 5.e+00, 6.e+00, 7.e+00, 8.e+00, 9.e+00,\n",
      "       2.e+01, 3.e+01, 4.e+01, 5.e+01, 6.e+01, 7.e+01, 8.e+01, 9.e+01,\n",
      "       2.e+02, 3.e+02, 4.e+02, 5.e+02, 6.e+02, 7.e+02, 8.e+02, 9.e+02,\n",
      "       2.e+03, 3.e+03, 4.e+03, 5.e+03, 6.e+03, 7.e+03, 8.e+03, 9.e+03,\n",
      "       2.e+04, 3.e+04, 4.e+04, 5.e+04, 6.e+04, 7.e+04, 8.e+04, 9.e+04])\n",
      "DEBUG [matplotlib.ticker.tick_values()]: vmin 0.00630957344480193 vmax 158.48931924611142\n",
      "DEBUG [matplotlib.ticker.tick_values()]: ticklocs array([1.e-04, 1.e-03, 1.e-02, 1.e-01, 1.e+00, 1.e+01, 1.e+02, 1.e+03,\n",
      "       1.e+04])\n",
      "DEBUG [matplotlib.ticker.tick_values()]: vmin 0.00630957344480193 vmax 158.48931924611142\n",
      "DEBUG [matplotlib.ticker.tick_values()]: ticklocs array([1.e-04, 1.e-03, 1.e-02, 1.e-01, 1.e+00, 1.e+01, 1.e+02, 1.e+03,\n",
      "       1.e+04])\n",
      "DEBUG [matplotlib.ticker.tick_values()]: vmin 0.00630957344480193 vmax 158.48931924611142\n",
      "DEBUG [matplotlib.ticker.tick_values()]: ticklocs array([2.e-04, 3.e-04, 4.e-04, 5.e-04, 6.e-04, 7.e-04, 8.e-04, 9.e-04,\n",
      "       2.e-03, 3.e-03, 4.e-03, 5.e-03, 6.e-03, 7.e-03, 8.e-03, 9.e-03,\n",
      "       2.e-02, 3.e-02, 4.e-02, 5.e-02, 6.e-02, 7.e-02, 8.e-02, 9.e-02,\n",
      "       2.e-01, 3.e-01, 4.e-01, 5.e-01, 6.e-01, 7.e-01, 8.e-01, 9.e-01,\n",
      "       2.e+00, 3.e+00, 4.e+00, 5.e+00, 6.e+00, 7.e+00, 8.e+00, 9.e+00,\n",
      "       2.e+01, 3.e+01, 4.e+01, 5.e+01, 6.e+01, 7.e+01, 8.e+01, 9.e+01,\n",
      "       2.e+02, 3.e+02, 4.e+02, 5.e+02, 6.e+02, 7.e+02, 8.e+02, 9.e+02,\n",
      "       2.e+03, 3.e+03, 4.e+03, 5.e+03, 6.e+03, 7.e+03, 8.e+03, 9.e+03,\n",
      "       2.e+04, 3.e+04, 4.e+04, 5.e+04, 6.e+04, 7.e+04, 8.e+04, 9.e+04])\n",
      "DEBUG [matplotlib.ticker.tick_values()]: vmin 1e-15 vmax 1.0\n",
      "DEBUG [matplotlib.ticker.tick_values()]: ticklocs array([1.e-17, 1.e-15, 1.e-13, 1.e-11, 1.e-09, 1.e-07, 1.e-05, 1.e-03,\n",
      "       1.e-01, 1.e+01, 1.e+03])\n",
      "DEBUG [matplotlib.ticker.tick_values()]: vmin 1e-15 vmax 1.0\n",
      "DEBUG [matplotlib.ticker.tick_values()]: ticklocs array([1.e-17, 1.e-15, 1.e-13, 1.e-11, 1.e-09, 1.e-07, 1.e-05, 1.e-03,\n",
      "       1.e-01, 1.e+01, 1.e+03])\n",
      "DEBUG [matplotlib.ticker.tick_values()]: vmin 1e-15 vmax 1.0\n",
      "DEBUG [matplotlib.ticker.tick_values()]: vmin 1e-15 vmax 1.0\n",
      "DEBUG [matplotlib.ticker.tick_values()]: ticklocs array([1.e-17, 1.e-15, 1.e-13, 1.e-11, 1.e-09, 1.e-07, 1.e-05, 1.e-03,\n",
      "       1.e-01, 1.e+01, 1.e+03])\n",
      "DEBUG [matplotlib.ticker.tick_values()]: vmin 1e-15 vmax 1.0\n",
      "DEBUG [matplotlib.ticker.tick_values()]: ticklocs array([1.e-17, 1.e-15, 1.e-13, 1.e-11, 1.e-09, 1.e-07, 1.e-05, 1.e-03,\n",
      "       1.e-01, 1.e+01, 1.e+03])\n",
      "DEBUG [matplotlib.ticker.tick_values()]: vmin 1e-15 vmax 1.0\n",
      "DEBUG [matplotlib.ticker.tick_values()]: vmin 0.00630957344480193 vmax 158.48931924611142\n",
      "DEBUG [matplotlib.ticker.tick_values()]: ticklocs array([1.e-04, 1.e-03, 1.e-02, 1.e-01, 1.e+00, 1.e+01, 1.e+02, 1.e+03,\n",
      "       1.e+04])\n",
      "DEBUG [matplotlib.ticker.tick_values()]: vmin 0.00630957344480193 vmax 158.48931924611142\n",
      "DEBUG [matplotlib.ticker.tick_values()]: ticklocs array([1.e-04, 1.e-03, 1.e-02, 1.e-01, 1.e+00, 1.e+01, 1.e+02, 1.e+03,\n",
      "       1.e+04])\n",
      "DEBUG [matplotlib.ticker.tick_values()]: vmin 0.00630957344480193 vmax 158.48931924611142\n",
      "DEBUG [matplotlib.ticker.tick_values()]: ticklocs array([2.e-04, 3.e-04, 4.e-04, 5.e-04, 6.e-04, 7.e-04, 8.e-04, 9.e-04,\n",
      "       2.e-03, 3.e-03, 4.e-03, 5.e-03, 6.e-03, 7.e-03, 8.e-03, 9.e-03,\n",
      "       2.e-02, 3.e-02, 4.e-02, 5.e-02, 6.e-02, 7.e-02, 8.e-02, 9.e-02,\n",
      "       2.e-01, 3.e-01, 4.e-01, 5.e-01, 6.e-01, 7.e-01, 8.e-01, 9.e-01,\n",
      "       2.e+00, 3.e+00, 4.e+00, 5.e+00, 6.e+00, 7.e+00, 8.e+00, 9.e+00,\n",
      "       2.e+01, 3.e+01, 4.e+01, 5.e+01, 6.e+01, 7.e+01, 8.e+01, 9.e+01,\n",
      "       2.e+02, 3.e+02, 4.e+02, 5.e+02, 6.e+02, 7.e+02, 8.e+02, 9.e+02,\n",
      "       2.e+03, 3.e+03, 4.e+03, 5.e+03, 6.e+03, 7.e+03, 8.e+03, 9.e+03,\n",
      "       2.e+04, 3.e+04, 4.e+04, 5.e+04, 6.e+04, 7.e+04, 8.e+04, 9.e+04])\n",
      "DEBUG [matplotlib.ticker.tick_values()]: vmin 0.00630957344480193 vmax 158.48931924611142\n"
     ]
    },
    {
     "name": "stdout",
     "output_type": "stream",
     "text": [
      "DEBUG [matplotlib.ticker.tick_values()]: ticklocs array([1.e-04, 1.e-03, 1.e-02, 1.e-01, 1.e+00, 1.e+01, 1.e+02, 1.e+03,\n",
      "       1.e+04])\n",
      "DEBUG [matplotlib.ticker.tick_values()]: vmin 0.00630957344480193 vmax 158.48931924611142\n",
      "DEBUG [matplotlib.ticker.tick_values()]: ticklocs array([1.e-04, 1.e-03, 1.e-02, 1.e-01, 1.e+00, 1.e+01, 1.e+02, 1.e+03,\n",
      "       1.e+04])\n",
      "DEBUG [matplotlib.ticker.tick_values()]: vmin 0.00630957344480193 vmax 158.48931924611142\n",
      "DEBUG [matplotlib.ticker.tick_values()]: ticklocs array([2.e-04, 3.e-04, 4.e-04, 5.e-04, 6.e-04, 7.e-04, 8.e-04, 9.e-04,\n",
      "       2.e-03, 3.e-03, 4.e-03, 5.e-03, 6.e-03, 7.e-03, 8.e-03, 9.e-03,\n",
      "       2.e-02, 3.e-02, 4.e-02, 5.e-02, 6.e-02, 7.e-02, 8.e-02, 9.e-02,\n",
      "       2.e-01, 3.e-01, 4.e-01, 5.e-01, 6.e-01, 7.e-01, 8.e-01, 9.e-01,\n",
      "       2.e+00, 3.e+00, 4.e+00, 5.e+00, 6.e+00, 7.e+00, 8.e+00, 9.e+00,\n",
      "       2.e+01, 3.e+01, 4.e+01, 5.e+01, 6.e+01, 7.e+01, 8.e+01, 9.e+01,\n",
      "       2.e+02, 3.e+02, 4.e+02, 5.e+02, 6.e+02, 7.e+02, 8.e+02, 9.e+02,\n",
      "       2.e+03, 3.e+03, 4.e+03, 5.e+03, 6.e+03, 7.e+03, 8.e+03, 9.e+03,\n",
      "       2.e+04, 3.e+04, 4.e+04, 5.e+04, 6.e+04, 7.e+04, 8.e+04, 9.e+04])\n",
      "DEBUG [matplotlib.ticker.tick_values()]: vmin 1e-15 vmax 1.0\n",
      "DEBUG [matplotlib.ticker.tick_values()]: ticklocs array([1.e-17, 1.e-15, 1.e-13, 1.e-11, 1.e-09, 1.e-07, 1.e-05, 1.e-03,\n",
      "       1.e-01, 1.e+01, 1.e+03])\n",
      "DEBUG [matplotlib.ticker.tick_values()]: vmin 1e-15 vmax 1.0\n",
      "DEBUG [matplotlib.ticker.tick_values()]: ticklocs array([1.e-17, 1.e-15, 1.e-13, 1.e-11, 1.e-09, 1.e-07, 1.e-05, 1.e-03,\n",
      "       1.e-01, 1.e+01, 1.e+03])\n",
      "DEBUG [matplotlib.ticker.tick_values()]: vmin 1e-15 vmax 1.0\n",
      "DEBUG [matplotlib.ticker.tick_values()]: vmin 1e-15 vmax 1.0\n",
      "DEBUG [matplotlib.ticker.tick_values()]: ticklocs array([1.e-17, 1.e-15, 1.e-13, 1.e-11, 1.e-09, 1.e-07, 1.e-05, 1.e-03,\n",
      "       1.e-01, 1.e+01, 1.e+03])\n",
      "DEBUG [matplotlib.ticker.tick_values()]: vmin 1e-15 vmax 1.0\n",
      "DEBUG [matplotlib.ticker.tick_values()]: ticklocs array([1.e-17, 1.e-15, 1.e-13, 1.e-11, 1.e-09, 1.e-07, 1.e-05, 1.e-03,\n",
      "       1.e-01, 1.e+01, 1.e+03])\n",
      "DEBUG [matplotlib.ticker.tick_values()]: vmin 1e-15 vmax 1.0\n",
      "DEBUG [matplotlib.ticker.tick_values()]: vmin 0.00630957344480193 vmax 158.48931924611142\n",
      "DEBUG [matplotlib.ticker.tick_values()]: ticklocs array([1.e-04, 1.e-03, 1.e-02, 1.e-01, 1.e+00, 1.e+01, 1.e+02, 1.e+03,\n",
      "       1.e+04])\n",
      "DEBUG [matplotlib.ticker.tick_values()]: vmin 0.00630957344480193 vmax 158.48931924611142\n",
      "DEBUG [matplotlib.ticker.tick_values()]: ticklocs array([1.e-04, 1.e-03, 1.e-02, 1.e-01, 1.e+00, 1.e+01, 1.e+02, 1.e+03,\n",
      "       1.e+04])\n",
      "DEBUG [matplotlib.ticker.tick_values()]: vmin 0.00630957344480193 vmax 158.48931924611142\n",
      "DEBUG [matplotlib.ticker.tick_values()]: ticklocs array([2.e-04, 3.e-04, 4.e-04, 5.e-04, 6.e-04, 7.e-04, 8.e-04, 9.e-04,\n",
      "       2.e-03, 3.e-03, 4.e-03, 5.e-03, 6.e-03, 7.e-03, 8.e-03, 9.e-03,\n",
      "       2.e-02, 3.e-02, 4.e-02, 5.e-02, 6.e-02, 7.e-02, 8.e-02, 9.e-02,\n",
      "       2.e-01, 3.e-01, 4.e-01, 5.e-01, 6.e-01, 7.e-01, 8.e-01, 9.e-01,\n",
      "       2.e+00, 3.e+00, 4.e+00, 5.e+00, 6.e+00, 7.e+00, 8.e+00, 9.e+00,\n",
      "       2.e+01, 3.e+01, 4.e+01, 5.e+01, 6.e+01, 7.e+01, 8.e+01, 9.e+01,\n",
      "       2.e+02, 3.e+02, 4.e+02, 5.e+02, 6.e+02, 7.e+02, 8.e+02, 9.e+02,\n",
      "       2.e+03, 3.e+03, 4.e+03, 5.e+03, 6.e+03, 7.e+03, 8.e+03, 9.e+03,\n",
      "       2.e+04, 3.e+04, 4.e+04, 5.e+04, 6.e+04, 7.e+04, 8.e+04, 9.e+04])\n",
      "DEBUG [matplotlib.ticker.tick_values()]: vmin 0.00630957344480193 vmax 158.48931924611142\n",
      "DEBUG [matplotlib.ticker.tick_values()]: ticklocs array([1.e-04, 1.e-03, 1.e-02, 1.e-01, 1.e+00, 1.e+01, 1.e+02, 1.e+03,\n",
      "       1.e+04])\n",
      "DEBUG [matplotlib.ticker.tick_values()]: vmin 0.00630957344480193 vmax 158.48931924611142\n",
      "DEBUG [matplotlib.ticker.tick_values()]: ticklocs array([1.e-04, 1.e-03, 1.e-02, 1.e-01, 1.e+00, 1.e+01, 1.e+02, 1.e+03,\n",
      "       1.e+04])\n",
      "DEBUG [matplotlib.ticker.tick_values()]: vmin 0.00630957344480193 vmax 158.48931924611142\n",
      "DEBUG [matplotlib.ticker.tick_values()]: ticklocs array([2.e-04, 3.e-04, 4.e-04, 5.e-04, 6.e-04, 7.e-04, 8.e-04, 9.e-04,\n",
      "       2.e-03, 3.e-03, 4.e-03, 5.e-03, 6.e-03, 7.e-03, 8.e-03, 9.e-03,\n",
      "       2.e-02, 3.e-02, 4.e-02, 5.e-02, 6.e-02, 7.e-02, 8.e-02, 9.e-02,\n",
      "       2.e-01, 3.e-01, 4.e-01, 5.e-01, 6.e-01, 7.e-01, 8.e-01, 9.e-01,\n",
      "       2.e+00, 3.e+00, 4.e+00, 5.e+00, 6.e+00, 7.e+00, 8.e+00, 9.e+00,\n",
      "       2.e+01, 3.e+01, 4.e+01, 5.e+01, 6.e+01, 7.e+01, 8.e+01, 9.e+01,\n",
      "       2.e+02, 3.e+02, 4.e+02, 5.e+02, 6.e+02, 7.e+02, 8.e+02, 9.e+02,\n",
      "       2.e+03, 3.e+03, 4.e+03, 5.e+03, 6.e+03, 7.e+03, 8.e+03, 9.e+03,\n",
      "       2.e+04, 3.e+04, 4.e+04, 5.e+04, 6.e+04, 7.e+04, 8.e+04, 9.e+04])\n",
      "DEBUG [matplotlib.ticker.tick_values()]: vmin 1e-15 vmax 1.0\n",
      "DEBUG [matplotlib.ticker.tick_values()]: ticklocs array([1.e-17, 1.e-15, 1.e-13, 1.e-11, 1.e-09, 1.e-07, 1.e-05, 1.e-03,\n",
      "       1.e-01, 1.e+01, 1.e+03])\n",
      "DEBUG [matplotlib.ticker.tick_values()]: vmin 1e-15 vmax 1.0\n",
      "DEBUG [matplotlib.ticker.tick_values()]: ticklocs array([1.e-17, 1.e-15, 1.e-13, 1.e-11, 1.e-09, 1.e-07, 1.e-05, 1.e-03,\n",
      "       1.e-01, 1.e+01, 1.e+03])\n",
      "DEBUG [matplotlib.ticker.tick_values()]: vmin 1e-15 vmax 1.0\n",
      "DEBUG [matplotlib.ticker.tick_values()]: vmin 1e-15 vmax 1.0\n",
      "DEBUG [matplotlib.ticker.tick_values()]: ticklocs array([1.e-17, 1.e-15, 1.e-13, 1.e-11, 1.e-09, 1.e-07, 1.e-05, 1.e-03,\n",
      "       1.e-01, 1.e+01, 1.e+03])\n",
      "DEBUG [matplotlib.ticker.tick_values()]: vmin 1e-15 vmax 1.0\n",
      "DEBUG [matplotlib.ticker.tick_values()]: ticklocs array([1.e-17, 1.e-15, 1.e-13, 1.e-11, 1.e-09, 1.e-07, 1.e-05, 1.e-03,\n",
      "       1.e-01, 1.e+01, 1.e+03])\n",
      "DEBUG [matplotlib.ticker.tick_values()]: vmin 1e-15 vmax 1.0\n",
      "DEBUG [matplotlib.ticker.tick_values()]: vmin 0.00630957344480193 vmax 158.48931924611142\n",
      "DEBUG [matplotlib.ticker.tick_values()]: ticklocs array([1.e-04, 1.e-03, 1.e-02, 1.e-01, 1.e+00, 1.e+01, 1.e+02, 1.e+03,\n",
      "       1.e+04])\n",
      "DEBUG [matplotlib.ticker.tick_values()]: vmin 0.00630957344480193 vmax 158.48931924611142\n",
      "DEBUG [matplotlib.ticker.tick_values()]: ticklocs array([1.e-04, 1.e-03, 1.e-02, 1.e-01, 1.e+00, 1.e+01, 1.e+02, 1.e+03,\n",
      "       1.e+04])\n",
      "DEBUG [matplotlib.ticker.tick_values()]: vmin 0.00630957344480193 vmax 158.48931924611142\n",
      "DEBUG [matplotlib.ticker.tick_values()]: ticklocs array([2.e-04, 3.e-04, 4.e-04, 5.e-04, 6.e-04, 7.e-04, 8.e-04, 9.e-04,\n",
      "       2.e-03, 3.e-03, 4.e-03, 5.e-03, 6.e-03, 7.e-03, 8.e-03, 9.e-03,\n",
      "       2.e-02, 3.e-02, 4.e-02, 5.e-02, 6.e-02, 7.e-02, 8.e-02, 9.e-02,\n",
      "       2.e-01, 3.e-01, 4.e-01, 5.e-01, 6.e-01, 7.e-01, 8.e-01, 9.e-01,\n",
      "       2.e+00, 3.e+00, 4.e+00, 5.e+00, 6.e+00, 7.e+00, 8.e+00, 9.e+00,\n",
      "       2.e+01, 3.e+01, 4.e+01, 5.e+01, 6.e+01, 7.e+01, 8.e+01, 9.e+01,\n",
      "       2.e+02, 3.e+02, 4.e+02, 5.e+02, 6.e+02, 7.e+02, 8.e+02, 9.e+02,\n",
      "       2.e+03, 3.e+03, 4.e+03, 5.e+03, 6.e+03, 7.e+03, 8.e+03, 9.e+03,\n",
      "       2.e+04, 3.e+04, 4.e+04, 5.e+04, 6.e+04, 7.e+04, 8.e+04, 9.e+04])\n",
      "DEBUG [matplotlib.ticker.tick_values()]: vmin 0.00630957344480193 vmax 158.48931924611142\n",
      "DEBUG [matplotlib.ticker.tick_values()]: ticklocs array([1.e-04, 1.e-03, 1.e-02, 1.e-01, 1.e+00, 1.e+01, 1.e+02, 1.e+03,\n",
      "       1.e+04])\n",
      "DEBUG [matplotlib.ticker.tick_values()]: vmin 0.00630957344480193 vmax 158.48931924611142\n",
      "DEBUG [matplotlib.ticker.tick_values()]: ticklocs array([1.e-04, 1.e-03, 1.e-02, 1.e-01, 1.e+00, 1.e+01, 1.e+02, 1.e+03,\n",
      "       1.e+04])\n",
      "DEBUG [matplotlib.ticker.tick_values()]: vmin 0.00630957344480193 vmax 158.48931924611142\n",
      "DEBUG [matplotlib.ticker.tick_values()]: ticklocs array([2.e-04, 3.e-04, 4.e-04, 5.e-04, 6.e-04, 7.e-04, 8.e-04, 9.e-04,\n",
      "       2.e-03, 3.e-03, 4.e-03, 5.e-03, 6.e-03, 7.e-03, 8.e-03, 9.e-03,\n",
      "       2.e-02, 3.e-02, 4.e-02, 5.e-02, 6.e-02, 7.e-02, 8.e-02, 9.e-02,\n",
      "       2.e-01, 3.e-01, 4.e-01, 5.e-01, 6.e-01, 7.e-01, 8.e-01, 9.e-01,\n",
      "       2.e+00, 3.e+00, 4.e+00, 5.e+00, 6.e+00, 7.e+00, 8.e+00, 9.e+00,\n",
      "       2.e+01, 3.e+01, 4.e+01, 5.e+01, 6.e+01, 7.e+01, 8.e+01, 9.e+01,\n",
      "       2.e+02, 3.e+02, 4.e+02, 5.e+02, 6.e+02, 7.e+02, 8.e+02, 9.e+02,\n",
      "       2.e+03, 3.e+03, 4.e+03, 5.e+03, 6.e+03, 7.e+03, 8.e+03, 9.e+03,\n",
      "       2.e+04, 3.e+04, 4.e+04, 5.e+04, 6.e+04, 7.e+04, 8.e+04, 9.e+04])\n",
      "DEBUG [matplotlib.ticker.tick_values()]: vmin 1e-15 vmax 1.0\n",
      "DEBUG [matplotlib.ticker.tick_values()]: ticklocs array([1.e-17, 1.e-15, 1.e-13, 1.e-11, 1.e-09, 1.e-07, 1.e-05, 1.e-03,\n",
      "       1.e-01, 1.e+01, 1.e+03])\n"
     ]
    },
    {
     "name": "stdout",
     "output_type": "stream",
     "text": [
      "DEBUG [matplotlib.ticker.tick_values()]: vmin 1e-15 vmax 1.0\n",
      "DEBUG [matplotlib.ticker.tick_values()]: ticklocs array([1.e-17, 1.e-15, 1.e-13, 1.e-11, 1.e-09, 1.e-07, 1.e-05, 1.e-03,\n",
      "       1.e-01, 1.e+01, 1.e+03])\n",
      "DEBUG [matplotlib.ticker.tick_values()]: vmin 1e-15 vmax 1.0\n",
      "DEBUG [matplotlib.ticker.tick_values()]: vmin 1e-15 vmax 1.0\n",
      "DEBUG [matplotlib.ticker.tick_values()]: ticklocs array([1.e-17, 1.e-15, 1.e-13, 1.e-11, 1.e-09, 1.e-07, 1.e-05, 1.e-03,\n",
      "       1.e-01, 1.e+01, 1.e+03])\n",
      "DEBUG [matplotlib.ticker.tick_values()]: vmin 1e-15 vmax 1.0\n",
      "DEBUG [matplotlib.ticker.tick_values()]: ticklocs array([1.e-17, 1.e-15, 1.e-13, 1.e-11, 1.e-09, 1.e-07, 1.e-05, 1.e-03,\n",
      "       1.e-01, 1.e+01, 1.e+03])\n",
      "DEBUG [matplotlib.ticker.tick_values()]: vmin 1e-15 vmax 1.0\n"
     ]
    },
    {
     "data": {
      "image/png": "[encoded data removed]",
      "text/plain": [
       "<Figure size 432x288 with 1 Axes>"
      ]
     },
     "metadata": {},
     "output_type": "display_data"
    }
   ],
   "source": [
    "import numpy as np\n",
    "import scipy.stats as st\n",
    "plt.style.use('seaborn-darkgrid')\n",
    "#x = np.linspace(0, 20, 200)\n",
    "x = np.logspace(-2, 2.0, 200)\n",
    "alphas = [1., 2., 3., 7.5]\n",
    "betas = [.5, .5, 1., 1.]\n",
    "\n",
    "a=1.0; b=2.50\n",
    "pdf = st.gamma.pdf(x, a, scale=1.0/b)\n",
    "plt.plot(x, pdf, label=r'$\\alpha$ = {}, $\\beta$ = {}'.format(a, b))\n",
    "\n",
    "a=1.0; b=5.0\n",
    "pdf = st.gamma.pdf(x, a, scale=1.0/b)\n",
    "plt.plot(x, pdf, label=r'$\\alpha$ = {}, $\\beta$ = {}'.format(a, b))\n",
    "a=1; b=10.0\n",
    "pdf = st.gamma.pdf(x, a, scale=1.0/b)\n",
    "plt.plot(x, pdf, label=r'$\\alpha$ = {}, $\\beta$ = {}'.format(a, b))\n",
    "\n",
    "\n",
    "a=1.0; b=0.0250\n",
    "pdf = st.gamma.pdf(x, a, scale=1.0/b)\n",
    "plt.plot(x, pdf, label=r'$\\alpha$ = {}, $\\beta$ = {}'.format(a, b))\n",
    "\n",
    "a=0.9; b=1.0\n",
    "pdf = st.gamma.pdf(x, a, scale=1.0/b)\n",
    "plt.plot(x, pdf, label=r'$\\alpha$ = {}, $\\beta$ = {}'.format(a, b))\n",
    "a=1.1; b=0.25\n",
    "pdf = st.gamma.pdf(x, a, scale=1.0/b)\n",
    "plt.plot(x, pdf, label=r'$\\alpha$ = {}, $\\beta$ = {}'.format(a, b))\n",
    "\n",
    "plt.xlabel('x', fontsize=12)\n",
    "plt.ylabel('f(x)', fontsize=12)\n",
    "plt.legend(loc=1)\n",
    "plt.xscale('log')\n",
    "plt.yscale('log')\n",
    "plt.ylim(1e-15,1)"
   ]
  },
  {
   "cell_type": "code",
   "execution_count": 371,
   "metadata": {},
   "outputs": [
    {
     "name": "stdout",
     "output_type": "stream",
     "text": [
      "DEBUG [matplotlib.ticker.tick_values()]: vmin 0.012125798002082792 vmax 488.3606538420368\n",
      "DEBUG [matplotlib.ticker.tick_values()]: ticklocs array([1.e-03, 1.e-02, 1.e-01, 1.e+00, 1.e+01, 1.e+02, 1.e+03, 1.e+04])\n",
      "DEBUG [matplotlib.ticker.tick_values()]: vmin 0.012125798002082792 vmax 488.3606538420368\n",
      "DEBUG [matplotlib.ticker.tick_values()]: ticklocs array([1.e-03, 1.e-02, 1.e-01, 1.e+00, 1.e+01, 1.e+02, 1.e+03, 1.e+04])\n",
      "DEBUG [matplotlib.ticker.tick_values()]: vmin 0.012125798002082792 vmax 488.3606538420368\n",
      "DEBUG [matplotlib.ticker.tick_values()]: ticklocs array([2.e-03, 3.e-03, 4.e-03, 5.e-03, 6.e-03, 7.e-03, 8.e-03, 9.e-03,\n",
      "       2.e-02, 3.e-02, 4.e-02, 5.e-02, 6.e-02, 7.e-02, 8.e-02, 9.e-02,\n",
      "       2.e-01, 3.e-01, 4.e-01, 5.e-01, 6.e-01, 7.e-01, 8.e-01, 9.e-01,\n",
      "       2.e+00, 3.e+00, 4.e+00, 5.e+00, 6.e+00, 7.e+00, 8.e+00, 9.e+00,\n",
      "       2.e+01, 3.e+01, 4.e+01, 5.e+01, 6.e+01, 7.e+01, 8.e+01, 9.e+01,\n",
      "       2.e+02, 3.e+02, 4.e+02, 5.e+02, 6.e+02, 7.e+02, 8.e+02, 9.e+02,\n",
      "       2.e+03, 3.e+03, 4.e+03, 5.e+03, 6.e+03, 7.e+03, 8.e+03, 9.e+03,\n",
      "       2.e+04, 3.e+04, 4.e+04, 5.e+04, 6.e+04, 7.e+04, 8.e+04, 9.e+04])\n",
      "DEBUG [matplotlib.ticker.tick_values()]: vmin 0.012125798002082792 vmax 488.3606538420368\n",
      "DEBUG [matplotlib.ticker.tick_values()]: ticklocs array([1.e-03, 1.e-02, 1.e-01, 1.e+00, 1.e+01, 1.e+02, 1.e+03, 1.e+04])\n",
      "DEBUG [matplotlib.ticker.tick_values()]: vmin 0.012125798002082792 vmax 488.3606538420368\n",
      "DEBUG [matplotlib.ticker.tick_values()]: ticklocs array([1.e-03, 1.e-02, 1.e-01, 1.e+00, 1.e+01, 1.e+02, 1.e+03, 1.e+04])\n",
      "DEBUG [matplotlib.ticker.tick_values()]: vmin 0.012125798002082792 vmax 488.3606538420368\n",
      "DEBUG [matplotlib.ticker.tick_values()]: ticklocs array([2.e-03, 3.e-03, 4.e-03, 5.e-03, 6.e-03, 7.e-03, 8.e-03, 9.e-03,\n",
      "       2.e-02, 3.e-02, 4.e-02, 5.e-02, 6.e-02, 7.e-02, 8.e-02, 9.e-02,\n",
      "       2.e-01, 3.e-01, 4.e-01, 5.e-01, 6.e-01, 7.e-01, 8.e-01, 9.e-01,\n",
      "       2.e+00, 3.e+00, 4.e+00, 5.e+00, 6.e+00, 7.e+00, 8.e+00, 9.e+00,\n",
      "       2.e+01, 3.e+01, 4.e+01, 5.e+01, 6.e+01, 7.e+01, 8.e+01, 9.e+01,\n",
      "       2.e+02, 3.e+02, 4.e+02, 5.e+02, 6.e+02, 7.e+02, 8.e+02, 9.e+02,\n",
      "       2.e+03, 3.e+03, 4.e+03, 5.e+03, 6.e+03, 7.e+03, 8.e+03, 9.e+03,\n",
      "       2.e+04, 3.e+04, 4.e+04, 5.e+04, 6.e+04, 7.e+04, 8.e+04, 9.e+04])\n",
      "DEBUG [matplotlib.ticker.tick_values()]: vmin 0.012125798002082792 vmax 488.3606538420368\n",
      "DEBUG [matplotlib.ticker.tick_values()]: ticklocs array([1.e-03, 1.e-02, 1.e-01, 1.e+00, 1.e+01, 1.e+02, 1.e+03, 1.e+04])\n",
      "DEBUG [matplotlib.ticker.tick_values()]: vmin 0.012125798002082792 vmax 488.3606538420368\n",
      "DEBUG [matplotlib.ticker.tick_values()]: ticklocs array([1.e-03, 1.e-02, 1.e-01, 1.e+00, 1.e+01, 1.e+02, 1.e+03, 1.e+04])\n",
      "DEBUG [matplotlib.ticker.tick_values()]: vmin 0.012125798002082792 vmax 488.3606538420368\n",
      "DEBUG [matplotlib.ticker.tick_values()]: ticklocs array([2.e-03, 3.e-03, 4.e-03, 5.e-03, 6.e-03, 7.e-03, 8.e-03, 9.e-03,\n",
      "       2.e-02, 3.e-02, 4.e-02, 5.e-02, 6.e-02, 7.e-02, 8.e-02, 9.e-02,\n",
      "       2.e-01, 3.e-01, 4.e-01, 5.e-01, 6.e-01, 7.e-01, 8.e-01, 9.e-01,\n",
      "       2.e+00, 3.e+00, 4.e+00, 5.e+00, 6.e+00, 7.e+00, 8.e+00, 9.e+00,\n",
      "       2.e+01, 3.e+01, 4.e+01, 5.e+01, 6.e+01, 7.e+01, 8.e+01, 9.e+01,\n",
      "       2.e+02, 3.e+02, 4.e+02, 5.e+02, 6.e+02, 7.e+02, 8.e+02, 9.e+02,\n",
      "       2.e+03, 3.e+03, 4.e+03, 5.e+03, 6.e+03, 7.e+03, 8.e+03, 9.e+03,\n",
      "       2.e+04, 3.e+04, 4.e+04, 5.e+04, 6.e+04, 7.e+04, 8.e+04, 9.e+04])\n",
      "DEBUG [matplotlib.ticker.tick_values()]: vmin 0.012125798002082792 vmax 488.3606538420368\n",
      "DEBUG [matplotlib.ticker.tick_values()]: ticklocs array([1.e-03, 1.e-02, 1.e-01, 1.e+00, 1.e+01, 1.e+02, 1.e+03, 1.e+04])\n",
      "DEBUG [matplotlib.ticker.tick_values()]: vmin 0.012125798002082792 vmax 488.3606538420368\n",
      "DEBUG [matplotlib.ticker.tick_values()]: ticklocs array([1.e-03, 1.e-02, 1.e-01, 1.e+00, 1.e+01, 1.e+02, 1.e+03, 1.e+04])\n",
      "DEBUG [matplotlib.ticker.tick_values()]: vmin 0.012125798002082792 vmax 488.3606538420368\n",
      "DEBUG [matplotlib.ticker.tick_values()]: ticklocs array([2.e-03, 3.e-03, 4.e-03, 5.e-03, 6.e-03, 7.e-03, 8.e-03, 9.e-03,\n",
      "       2.e-02, 3.e-02, 4.e-02, 5.e-02, 6.e-02, 7.e-02, 8.e-02, 9.e-02,\n",
      "       2.e-01, 3.e-01, 4.e-01, 5.e-01, 6.e-01, 7.e-01, 8.e-01, 9.e-01,\n",
      "       2.e+00, 3.e+00, 4.e+00, 5.e+00, 6.e+00, 7.e+00, 8.e+00, 9.e+00,\n",
      "       2.e+01, 3.e+01, 4.e+01, 5.e+01, 6.e+01, 7.e+01, 8.e+01, 9.e+01,\n",
      "       2.e+02, 3.e+02, 4.e+02, 5.e+02, 6.e+02, 7.e+02, 8.e+02, 9.e+02,\n",
      "       2.e+03, 3.e+03, 4.e+03, 5.e+03, 6.e+03, 7.e+03, 8.e+03, 9.e+03,\n",
      "       2.e+04, 3.e+04, 4.e+04, 5.e+04, 6.e+04, 7.e+04, 8.e+04, 9.e+04])\n",
      "DEBUG [matplotlib.ticker.tick_values()]: vmin 0.012125798002082792 vmax 488.3606538420368\n",
      "DEBUG [matplotlib.ticker.tick_values()]: ticklocs array([1.e-03, 1.e-02, 1.e-01, 1.e+00, 1.e+01, 1.e+02, 1.e+03, 1.e+04])\n",
      "DEBUG [matplotlib.ticker.tick_values()]: vmin 0.012125798002082792 vmax 488.3606538420368\n",
      "DEBUG [matplotlib.ticker.tick_values()]: ticklocs array([1.e-03, 1.e-02, 1.e-01, 1.e+00, 1.e+01, 1.e+02, 1.e+03, 1.e+04])\n",
      "DEBUG [matplotlib.ticker.tick_values()]: vmin 0.012125798002082792 vmax 488.3606538420368\n",
      "DEBUG [matplotlib.ticker.tick_values()]: ticklocs array([2.e-03, 3.e-03, 4.e-03, 5.e-03, 6.e-03, 7.e-03, 8.e-03, 9.e-03,\n",
      "       2.e-02, 3.e-02, 4.e-02, 5.e-02, 6.e-02, 7.e-02, 8.e-02, 9.e-02,\n",
      "       2.e-01, 3.e-01, 4.e-01, 5.e-01, 6.e-01, 7.e-01, 8.e-01, 9.e-01,\n",
      "       2.e+00, 3.e+00, 4.e+00, 5.e+00, 6.e+00, 7.e+00, 8.e+00, 9.e+00,\n",
      "       2.e+01, 3.e+01, 4.e+01, 5.e+01, 6.e+01, 7.e+01, 8.e+01, 9.e+01,\n",
      "       2.e+02, 3.e+02, 4.e+02, 5.e+02, 6.e+02, 7.e+02, 8.e+02, 9.e+02,\n",
      "       2.e+03, 3.e+03, 4.e+03, 5.e+03, 6.e+03, 7.e+03, 8.e+03, 9.e+03,\n",
      "       2.e+04, 3.e+04, 4.e+04, 5.e+04, 6.e+04, 7.e+04, 8.e+04, 9.e+04])\n",
      "DEBUG [matplotlib.ticker.tick_values()]: vmin 0.012125798002082792 vmax 488.3606538420368\n",
      "DEBUG [matplotlib.ticker.tick_values()]: ticklocs array([1.e-03, 1.e-02, 1.e-01, 1.e+00, 1.e+01, 1.e+02, 1.e+03, 1.e+04])\n",
      "DEBUG [matplotlib.ticker.tick_values()]: vmin 0.012125798002082792 vmax 488.3606538420368\n",
      "DEBUG [matplotlib.ticker.tick_values()]: ticklocs array([1.e-03, 1.e-02, 1.e-01, 1.e+00, 1.e+01, 1.e+02, 1.e+03, 1.e+04])\n",
      "DEBUG [matplotlib.ticker.tick_values()]: vmin 0.012125798002082792 vmax 488.3606538420368\n",
      "DEBUG [matplotlib.ticker.tick_values()]: ticklocs array([2.e-03, 3.e-03, 4.e-03, 5.e-03, 6.e-03, 7.e-03, 8.e-03, 9.e-03,\n",
      "       2.e-02, 3.e-02, 4.e-02, 5.e-02, 6.e-02, 7.e-02, 8.e-02, 9.e-02,\n",
      "       2.e-01, 3.e-01, 4.e-01, 5.e-01, 6.e-01, 7.e-01, 8.e-01, 9.e-01,\n",
      "       2.e+00, 3.e+00, 4.e+00, 5.e+00, 6.e+00, 7.e+00, 8.e+00, 9.e+00,\n",
      "       2.e+01, 3.e+01, 4.e+01, 5.e+01, 6.e+01, 7.e+01, 8.e+01, 9.e+01,\n",
      "       2.e+02, 3.e+02, 4.e+02, 5.e+02, 6.e+02, 7.e+02, 8.e+02, 9.e+02,\n",
      "       2.e+03, 3.e+03, 4.e+03, 5.e+03, 6.e+03, 7.e+03, 8.e+03, 9.e+03,\n",
      "       2.e+04, 3.e+04, 4.e+04, 5.e+04, 6.e+04, 7.e+04, 8.e+04, 9.e+04])\n",
      "DEBUG [matplotlib.ticker.tick_values()]: vmin 0.012125798002082792 vmax 488.3606538420368\n",
      "DEBUG [matplotlib.ticker.tick_values()]: ticklocs array([1.e-03, 1.e-02, 1.e-01, 1.e+00, 1.e+01, 1.e+02, 1.e+03, 1.e+04])\n",
      "DEBUG [matplotlib.ticker.tick_values()]: vmin 0.012125798002082792 vmax 488.3606538420368\n",
      "DEBUG [matplotlib.ticker.tick_values()]: ticklocs array([1.e-03, 1.e-02, 1.e-01, 1.e+00, 1.e+01, 1.e+02, 1.e+03, 1.e+04])\n",
      "DEBUG [matplotlib.ticker.tick_values()]: vmin 0.012125798002082792 vmax 488.3606538420368\n",
      "DEBUG [matplotlib.ticker.tick_values()]: ticklocs array([2.e-03, 3.e-03, 4.e-03, 5.e-03, 6.e-03, 7.e-03, 8.e-03, 9.e-03,\n",
      "       2.e-02, 3.e-02, 4.e-02, 5.e-02, 6.e-02, 7.e-02, 8.e-02, 9.e-02,\n",
      "       2.e-01, 3.e-01, 4.e-01, 5.e-01, 6.e-01, 7.e-01, 8.e-01, 9.e-01,\n",
      "       2.e+00, 3.e+00, 4.e+00, 5.e+00, 6.e+00, 7.e+00, 8.e+00, 9.e+00,\n",
      "       2.e+01, 3.e+01, 4.e+01, 5.e+01, 6.e+01, 7.e+01, 8.e+01, 9.e+01,\n",
      "       2.e+02, 3.e+02, 4.e+02, 5.e+02, 6.e+02, 7.e+02, 8.e+02, 9.e+02,\n",
      "       2.e+03, 3.e+03, 4.e+03, 5.e+03, 6.e+03, 7.e+03, 8.e+03, 9.e+03,\n",
      "       2.e+04, 3.e+04, 4.e+04, 5.e+04, 6.e+04, 7.e+04, 8.e+04, 9.e+04])\n",
      "DEBUG [matplotlib.ticker.tick_values()]: vmin 0.012125798002082792 vmax 488.3606538420368\n",
      "DEBUG [matplotlib.ticker.tick_values()]: ticklocs array([1.e-03, 1.e-02, 1.e-01, 1.e+00, 1.e+01, 1.e+02, 1.e+03, 1.e+04])\n",
      "DEBUG [matplotlib.ticker.tick_values()]: vmin 0.012125798002082792 vmax 488.3606538420368\n"
     ]
    },
    {
     "name": "stdout",
     "output_type": "stream",
     "text": [
      "DEBUG [matplotlib.ticker.tick_values()]: ticklocs array([1.e-03, 1.e-02, 1.e-01, 1.e+00, 1.e+01, 1.e+02, 1.e+03, 1.e+04])\n",
      "DEBUG [matplotlib.ticker.tick_values()]: vmin 0.012125798002082792 vmax 488.3606538420368\n",
      "DEBUG [matplotlib.ticker.tick_values()]: ticklocs array([2.e-03, 3.e-03, 4.e-03, 5.e-03, 6.e-03, 7.e-03, 8.e-03, 9.e-03,\n",
      "       2.e-02, 3.e-02, 4.e-02, 5.e-02, 6.e-02, 7.e-02, 8.e-02, 9.e-02,\n",
      "       2.e-01, 3.e-01, 4.e-01, 5.e-01, 6.e-01, 7.e-01, 8.e-01, 9.e-01,\n",
      "       2.e+00, 3.e+00, 4.e+00, 5.e+00, 6.e+00, 7.e+00, 8.e+00, 9.e+00,\n",
      "       2.e+01, 3.e+01, 4.e+01, 5.e+01, 6.e+01, 7.e+01, 8.e+01, 9.e+01,\n",
      "       2.e+02, 3.e+02, 4.e+02, 5.e+02, 6.e+02, 7.e+02, 8.e+02, 9.e+02,\n",
      "       2.e+03, 3.e+03, 4.e+03, 5.e+03, 6.e+03, 7.e+03, 8.e+03, 9.e+03,\n",
      "       2.e+04, 3.e+04, 4.e+04, 5.e+04, 6.e+04, 7.e+04, 8.e+04, 9.e+04])\n",
      "DEBUG [matplotlib.ticker.tick_values()]: vmin 0.012125798002082792 vmax 488.3606538420368\n",
      "DEBUG [matplotlib.ticker.tick_values()]: ticklocs array([1.e-03, 1.e-02, 1.e-01, 1.e+00, 1.e+01, 1.e+02, 1.e+03, 1.e+04])\n",
      "DEBUG [matplotlib.ticker.tick_values()]: vmin 0.012125798002082792 vmax 488.3606538420368\n",
      "DEBUG [matplotlib.ticker.tick_values()]: ticklocs array([1.e-03, 1.e-02, 1.e-01, 1.e+00, 1.e+01, 1.e+02, 1.e+03, 1.e+04])\n",
      "DEBUG [matplotlib.ticker.tick_values()]: vmin 0.012125798002082792 vmax 488.3606538420368\n",
      "DEBUG [matplotlib.ticker.tick_values()]: ticklocs array([2.e-03, 3.e-03, 4.e-03, 5.e-03, 6.e-03, 7.e-03, 8.e-03, 9.e-03,\n",
      "       2.e-02, 3.e-02, 4.e-02, 5.e-02, 6.e-02, 7.e-02, 8.e-02, 9.e-02,\n",
      "       2.e-01, 3.e-01, 4.e-01, 5.e-01, 6.e-01, 7.e-01, 8.e-01, 9.e-01,\n",
      "       2.e+00, 3.e+00, 4.e+00, 5.e+00, 6.e+00, 7.e+00, 8.e+00, 9.e+00,\n",
      "       2.e+01, 3.e+01, 4.e+01, 5.e+01, 6.e+01, 7.e+01, 8.e+01, 9.e+01,\n",
      "       2.e+02, 3.e+02, 4.e+02, 5.e+02, 6.e+02, 7.e+02, 8.e+02, 9.e+02,\n",
      "       2.e+03, 3.e+03, 4.e+03, 5.e+03, 6.e+03, 7.e+03, 8.e+03, 9.e+03,\n",
      "       2.e+04, 3.e+04, 4.e+04, 5.e+04, 6.e+04, 7.e+04, 8.e+04, 9.e+04])\n",
      "DEBUG [matplotlib.ticker.tick_values()]: vmin 0.012125798002082792 vmax 488.3606538420368\n",
      "DEBUG [matplotlib.ticker.tick_values()]: ticklocs array([1.e-03, 1.e-02, 1.e-01, 1.e+00, 1.e+01, 1.e+02, 1.e+03, 1.e+04])\n",
      "DEBUG [matplotlib.ticker.tick_values()]: vmin 0.012125798002082792 vmax 488.3606538420368\n",
      "DEBUG [matplotlib.ticker.tick_values()]: ticklocs array([1.e-03, 1.e-02, 1.e-01, 1.e+00, 1.e+01, 1.e+02, 1.e+03, 1.e+04])\n",
      "DEBUG [matplotlib.ticker.tick_values()]: vmin 0.012125798002082792 vmax 488.3606538420368\n",
      "DEBUG [matplotlib.ticker.tick_values()]: ticklocs array([2.e-03, 3.e-03, 4.e-03, 5.e-03, 6.e-03, 7.e-03, 8.e-03, 9.e-03,\n",
      "       2.e-02, 3.e-02, 4.e-02, 5.e-02, 6.e-02, 7.e-02, 8.e-02, 9.e-02,\n",
      "       2.e-01, 3.e-01, 4.e-01, 5.e-01, 6.e-01, 7.e-01, 8.e-01, 9.e-01,\n",
      "       2.e+00, 3.e+00, 4.e+00, 5.e+00, 6.e+00, 7.e+00, 8.e+00, 9.e+00,\n",
      "       2.e+01, 3.e+01, 4.e+01, 5.e+01, 6.e+01, 7.e+01, 8.e+01, 9.e+01,\n",
      "       2.e+02, 3.e+02, 4.e+02, 5.e+02, 6.e+02, 7.e+02, 8.e+02, 9.e+02,\n",
      "       2.e+03, 3.e+03, 4.e+03, 5.e+03, 6.e+03, 7.e+03, 8.e+03, 9.e+03,\n",
      "       2.e+04, 3.e+04, 4.e+04, 5.e+04, 6.e+04, 7.e+04, 8.e+04, 9.e+04])\n"
     ]
    },
    {
     "data": {
      "image/png": "[encoded data removed]",
      "text/plain": [
       "<Figure size 432x288 with 1 Axes>"
      ]
     },
     "metadata": {},
     "output_type": "display_data"
    }
   ],
   "source": [
    "x = np.logspace(np.log10((2*np.pi)/(1800/86400)), np.log10((2*np.pi)/(4*80)), 500)\n",
    "for lam in [0.025,0.1,0.0005]:\n",
    "    pdf = st.expon.pdf(x, scale=1.0/lam)\n",
    "    plt.plot(x, pdf, label=r'$\\lambda$ = {}'.format(lam))\n",
    "    \n",
    "plt.plot([(2*np.pi)/(1800/86400),(2*np.pi)/(4*80)],[0.0010,0.0010],'o')\n",
    "plt.xlabel('x', fontsize=12)\n",
    "plt.ylabel('f(x)', fontsize=12)\n",
    "plt.legend(loc=1)\n",
    "\n",
    "plt.xscale('log')\n",
    "#plt.yscale('log')\n",
    "\n"
   ]
  },
  {
   "cell_type": "code",
   "execution_count": null,
   "metadata": {
    "collapsed": true
   },
   "outputs": [],
   "source": []
  },
  {
   "cell_type": "code",
   "execution_count": null,
   "metadata": {
    "collapsed": true
   },
   "outputs": [],
   "source": []
  },
  {
   "cell_type": "code",
   "execution_count": null,
   "metadata": {
    "collapsed": true
   },
   "outputs": [],
   "source": []
  },
  {
   "cell_type": "code",
   "execution_count": null,
   "metadata": {
    "collapsed": true
   },
   "outputs": [],
   "source": []
  },
  {
   "cell_type": "code",
   "execution_count": null,
   "metadata": {
    "collapsed": true
   },
   "outputs": [],
   "source": []
  },
  {
   "cell_type": "code",
   "execution_count": null,
   "metadata": {
    "collapsed": true
   },
   "outputs": [],
   "source": []
  },
  {
   "cell_type": "code",
   "execution_count": 360,
   "metadata": {},
   "outputs": [
    {
     "data": {
      "text/plain": [
       "0.010136579676748298"
      ]
     },
     "execution_count": 360,
     "metadata": {},
     "output_type": "execute_result"
    }
   ],
   "source": [
    "np.std(np.random.normal(1.0,0.01,1000))"
   ]
  },
  {
   "cell_type": "code",
   "execution_count": null,
   "metadata": {
    "collapsed": true
   },
   "outputs": [],
   "source": []
  },
  {
   "cell_type": "code",
   "execution_count": null,
   "metadata": {
    "collapsed": true
   },
   "outputs": [],
   "source": []
  },
  {
   "cell_type": "code",
   "execution_count": null,
   "metadata": {
    "collapsed": true
   },
   "outputs": [],
   "source": []
  },
  {
   "cell_type": "code",
   "execution_count": null,
   "metadata": {
    "collapsed": true
   },
   "outputs": [],
   "source": []
  },
  {
   "cell_type": "code",
   "execution_count": null,
   "metadata": {
    "collapsed": true
   },
   "outputs": [],
   "source": []
  },
  {
   "cell_type": "code",
   "execution_count": null,
   "metadata": {
    "collapsed": true
   },
   "outputs": [],
   "source": []
  },
  {
   "cell_type": "code",
   "execution_count": null,
   "metadata": {
    "collapsed": true
   },
   "outputs": [],
   "source": []
  },
  {
   "cell_type": "code",
   "execution_count": null,
   "metadata": {
    "collapsed": true
   },
   "outputs": [],
   "source": []
  },
  {
   "cell_type": "code",
   "execution_count": null,
   "metadata": {
    "collapsed": true
   },
   "outputs": [],
   "source": []
  },
  {
   "cell_type": "code",
   "execution_count": null,
   "metadata": {
    "collapsed": true
   },
   "outputs": [],
   "source": []
  },
  {
   "cell_type": "code",
   "execution_count": null,
   "metadata": {
    "collapsed": true
   },
   "outputs": [],
   "source": []
  },
  {
   "cell_type": "code",
   "execution_count": 343,
   "metadata": {},
   "outputs": [
    {
     "data": {
      "text/plain": [
       "(1e-20, 100.0)"
      ]
     },
     "execution_count": 343,
     "metadata": {},
     "output_type": "execute_result"
    },
    {
     "name": "stdout",
     "output_type": "stream",
     "text": [
      "DEBUG [matplotlib.ticker.tick_values()]: vmin 0.01 vmax 10.0\n",
      "DEBUG [matplotlib.ticker.tick_values()]: ticklocs array([1.e-03, 1.e-02, 1.e-01, 1.e+00, 1.e+01, 1.e+02])\n",
      "DEBUG [matplotlib.ticker.tick_values()]: vmin 0.01 vmax 10.0\n",
      "DEBUG [matplotlib.ticker.tick_values()]: ticklocs array([1.e-03, 1.e-02, 1.e-01, 1.e+00, 1.e+01, 1.e+02])\n",
      "DEBUG [matplotlib.ticker.tick_values()]: vmin 0.01 vmax 10.0\n",
      "DEBUG [matplotlib.ticker.tick_values()]: ticklocs array([2.e-03, 3.e-03, 4.e-03, 5.e-03, 6.e-03, 7.e-03, 8.e-03, 9.e-03,\n",
      "       2.e-02, 3.e-02, 4.e-02, 5.e-02, 6.e-02, 7.e-02, 8.e-02, 9.e-02,\n",
      "       2.e-01, 3.e-01, 4.e-01, 5.e-01, 6.e-01, 7.e-01, 8.e-01, 9.e-01,\n",
      "       2.e+00, 3.e+00, 4.e+00, 5.e+00, 6.e+00, 7.e+00, 8.e+00, 9.e+00,\n",
      "       2.e+01, 3.e+01, 4.e+01, 5.e+01, 6.e+01, 7.e+01, 8.e+01, 9.e+01,\n",
      "       2.e+02, 3.e+02, 4.e+02, 5.e+02, 6.e+02, 7.e+02, 8.e+02, 9.e+02])\n",
      "DEBUG [matplotlib.ticker.tick_values()]: vmin 0.01 vmax 10.0\n",
      "DEBUG [matplotlib.ticker.tick_values()]: ticklocs array([1.e-03, 1.e-02, 1.e-01, 1.e+00, 1.e+01, 1.e+02])\n",
      "DEBUG [matplotlib.ticker.tick_values()]: vmin 0.01 vmax 10.0\n",
      "DEBUG [matplotlib.ticker.tick_values()]: ticklocs array([1.e-03, 1.e-02, 1.e-01, 1.e+00, 1.e+01, 1.e+02])\n",
      "DEBUG [matplotlib.ticker.tick_values()]: vmin 0.01 vmax 10.0\n",
      "DEBUG [matplotlib.ticker.tick_values()]: ticklocs array([2.e-03, 3.e-03, 4.e-03, 5.e-03, 6.e-03, 7.e-03, 8.e-03, 9.e-03,\n",
      "       2.e-02, 3.e-02, 4.e-02, 5.e-02, 6.e-02, 7.e-02, 8.e-02, 9.e-02,\n",
      "       2.e-01, 3.e-01, 4.e-01, 5.e-01, 6.e-01, 7.e-01, 8.e-01, 9.e-01,\n",
      "       2.e+00, 3.e+00, 4.e+00, 5.e+00, 6.e+00, 7.e+00, 8.e+00, 9.e+00,\n",
      "       2.e+01, 3.e+01, 4.e+01, 5.e+01, 6.e+01, 7.e+01, 8.e+01, 9.e+01,\n",
      "       2.e+02, 3.e+02, 4.e+02, 5.e+02, 6.e+02, 7.e+02, 8.e+02, 9.e+02])\n",
      "DEBUG [matplotlib.ticker.tick_values()]: vmin 1e-20 vmax 100.0\n",
      "DEBUG [matplotlib.ticker.tick_values()]: ticklocs array([1.e-23, 1.e-20, 1.e-17, 1.e-14, 1.e-11, 1.e-08, 1.e-05, 1.e-02,\n",
      "       1.e+01, 1.e+04, 1.e+07])\n",
      "DEBUG [matplotlib.ticker.tick_values()]: vmin 1e-20 vmax 100.0\n",
      "DEBUG [matplotlib.ticker.tick_values()]: ticklocs array([1.e-23, 1.e-20, 1.e-17, 1.e-14, 1.e-11, 1.e-08, 1.e-05, 1.e-02,\n",
      "       1.e+01, 1.e+04, 1.e+07])\n",
      "DEBUG [matplotlib.ticker.tick_values()]: vmin 1e-20 vmax 100.0\n",
      "DEBUG [matplotlib.ticker.tick_values()]: vmin 1e-20 vmax 100.0\n",
      "DEBUG [matplotlib.ticker.tick_values()]: ticklocs array([1.e-23, 1.e-20, 1.e-17, 1.e-14, 1.e-11, 1.e-08, 1.e-05, 1.e-02,\n",
      "       1.e+01, 1.e+04, 1.e+07])\n",
      "DEBUG [matplotlib.ticker.tick_values()]: vmin 1e-20 vmax 100.0\n",
      "DEBUG [matplotlib.ticker.tick_values()]: ticklocs array([1.e-23, 1.e-20, 1.e-17, 1.e-14, 1.e-11, 1.e-08, 1.e-05, 1.e-02,\n",
      "       1.e+01, 1.e+04, 1.e+07])\n",
      "DEBUG [matplotlib.ticker.tick_values()]: vmin 1e-20 vmax 100.0\n",
      "DEBUG [matplotlib.ticker.tick_values()]: vmin 0.01 vmax 10.0\n",
      "DEBUG [matplotlib.ticker.tick_values()]: ticklocs array([1.e-03, 1.e-02, 1.e-01, 1.e+00, 1.e+01, 1.e+02])\n",
      "DEBUG [matplotlib.ticker.tick_values()]: vmin 0.01 vmax 10.0\n",
      "DEBUG [matplotlib.ticker.tick_values()]: ticklocs array([1.e-03, 1.e-02, 1.e-01, 1.e+00, 1.e+01, 1.e+02])\n",
      "DEBUG [matplotlib.ticker.tick_values()]: vmin 0.01 vmax 10.0\n",
      "DEBUG [matplotlib.ticker.tick_values()]: ticklocs array([2.e-03, 3.e-03, 4.e-03, 5.e-03, 6.e-03, 7.e-03, 8.e-03, 9.e-03,\n",
      "       2.e-02, 3.e-02, 4.e-02, 5.e-02, 6.e-02, 7.e-02, 8.e-02, 9.e-02,\n",
      "       2.e-01, 3.e-01, 4.e-01, 5.e-01, 6.e-01, 7.e-01, 8.e-01, 9.e-01,\n",
      "       2.e+00, 3.e+00, 4.e+00, 5.e+00, 6.e+00, 7.e+00, 8.e+00, 9.e+00,\n",
      "       2.e+01, 3.e+01, 4.e+01, 5.e+01, 6.e+01, 7.e+01, 8.e+01, 9.e+01,\n",
      "       2.e+02, 3.e+02, 4.e+02, 5.e+02, 6.e+02, 7.e+02, 8.e+02, 9.e+02])\n",
      "DEBUG [matplotlib.ticker.tick_values()]: vmin 0.01 vmax 10.0\n",
      "DEBUG [matplotlib.ticker.tick_values()]: ticklocs array([1.e-03, 1.e-02, 1.e-01, 1.e+00, 1.e+01, 1.e+02])\n",
      "DEBUG [matplotlib.ticker.tick_values()]: vmin 0.01 vmax 10.0\n",
      "DEBUG [matplotlib.ticker.tick_values()]: ticklocs array([1.e-03, 1.e-02, 1.e-01, 1.e+00, 1.e+01, 1.e+02])\n",
      "DEBUG [matplotlib.ticker.tick_values()]: vmin 0.01 vmax 10.0\n",
      "DEBUG [matplotlib.ticker.tick_values()]: ticklocs array([2.e-03, 3.e-03, 4.e-03, 5.e-03, 6.e-03, 7.e-03, 8.e-03, 9.e-03,\n",
      "       2.e-02, 3.e-02, 4.e-02, 5.e-02, 6.e-02, 7.e-02, 8.e-02, 9.e-02,\n",
      "       2.e-01, 3.e-01, 4.e-01, 5.e-01, 6.e-01, 7.e-01, 8.e-01, 9.e-01,\n",
      "       2.e+00, 3.e+00, 4.e+00, 5.e+00, 6.e+00, 7.e+00, 8.e+00, 9.e+00,\n",
      "       2.e+01, 3.e+01, 4.e+01, 5.e+01, 6.e+01, 7.e+01, 8.e+01, 9.e+01,\n",
      "       2.e+02, 3.e+02, 4.e+02, 5.e+02, 6.e+02, 7.e+02, 8.e+02, 9.e+02])\n",
      "DEBUG [matplotlib.ticker.tick_values()]: vmin 1e-20 vmax 100.0\n",
      "DEBUG [matplotlib.ticker.tick_values()]: ticklocs array([1.e-23, 1.e-20, 1.e-17, 1.e-14, 1.e-11, 1.e-08, 1.e-05, 1.e-02,\n",
      "       1.e+01, 1.e+04, 1.e+07])\n",
      "DEBUG [matplotlib.ticker.tick_values()]: vmin 1e-20 vmax 100.0\n",
      "DEBUG [matplotlib.ticker.tick_values()]: ticklocs array([1.e-23, 1.e-20, 1.e-17, 1.e-14, 1.e-11, 1.e-08, 1.e-05, 1.e-02,\n",
      "       1.e+01, 1.e+04, 1.e+07])\n",
      "DEBUG [matplotlib.ticker.tick_values()]: vmin 1e-20 vmax 100.0\n",
      "DEBUG [matplotlib.ticker.tick_values()]: vmin 1e-20 vmax 100.0\n",
      "DEBUG [matplotlib.ticker.tick_values()]: ticklocs array([1.e-23, 1.e-20, 1.e-17, 1.e-14, 1.e-11, 1.e-08, 1.e-05, 1.e-02,\n",
      "       1.e+01, 1.e+04, 1.e+07])\n",
      "DEBUG [matplotlib.ticker.tick_values()]: vmin 1e-20 vmax 100.0\n",
      "DEBUG [matplotlib.ticker.tick_values()]: ticklocs array([1.e-23, 1.e-20, 1.e-17, 1.e-14, 1.e-11, 1.e-08, 1.e-05, 1.e-02,\n",
      "       1.e+01, 1.e+04, 1.e+07])\n",
      "DEBUG [matplotlib.ticker.tick_values()]: vmin 1e-20 vmax 100.0\n",
      "DEBUG [matplotlib.ticker.tick_values()]: vmin 0.01 vmax 10.0\n",
      "DEBUG [matplotlib.ticker.tick_values()]: ticklocs array([1.e-03, 1.e-02, 1.e-01, 1.e+00, 1.e+01, 1.e+02])\n",
      "DEBUG [matplotlib.ticker.tick_values()]: vmin 0.01 vmax 10.0\n",
      "DEBUG [matplotlib.ticker.tick_values()]: ticklocs array([1.e-03, 1.e-02, 1.e-01, 1.e+00, 1.e+01, 1.e+02])\n",
      "DEBUG [matplotlib.ticker.tick_values()]: vmin 0.01 vmax 10.0\n",
      "DEBUG [matplotlib.ticker.tick_values()]: ticklocs array([2.e-03, 3.e-03, 4.e-03, 5.e-03, 6.e-03, 7.e-03, 8.e-03, 9.e-03,\n",
      "       2.e-02, 3.e-02, 4.e-02, 5.e-02, 6.e-02, 7.e-02, 8.e-02, 9.e-02,\n",
      "       2.e-01, 3.e-01, 4.e-01, 5.e-01, 6.e-01, 7.e-01, 8.e-01, 9.e-01,\n",
      "       2.e+00, 3.e+00, 4.e+00, 5.e+00, 6.e+00, 7.e+00, 8.e+00, 9.e+00,\n",
      "       2.e+01, 3.e+01, 4.e+01, 5.e+01, 6.e+01, 7.e+01, 8.e+01, 9.e+01,\n",
      "       2.e+02, 3.e+02, 4.e+02, 5.e+02, 6.e+02, 7.e+02, 8.e+02, 9.e+02])\n",
      "DEBUG [matplotlib.ticker.tick_values()]: vmin 0.01 vmax 10.0\n",
      "DEBUG [matplotlib.ticker.tick_values()]: ticklocs array([1.e-03, 1.e-02, 1.e-01, 1.e+00, 1.e+01, 1.e+02])\n",
      "DEBUG [matplotlib.ticker.tick_values()]: vmin 0.01 vmax 10.0\n",
      "DEBUG [matplotlib.ticker.tick_values()]: ticklocs array([1.e-03, 1.e-02, 1.e-01, 1.e+00, 1.e+01, 1.e+02])\n",
      "DEBUG [matplotlib.ticker.tick_values()]: vmin 0.01 vmax 10.0\n",
      "DEBUG [matplotlib.ticker.tick_values()]: ticklocs array([2.e-03, 3.e-03, 4.e-03, 5.e-03, 6.e-03, 7.e-03, 8.e-03, 9.e-03,\n",
      "       2.e-02, 3.e-02, 4.e-02, 5.e-02, 6.e-02, 7.e-02, 8.e-02, 9.e-02,\n",
      "       2.e-01, 3.e-01, 4.e-01, 5.e-01, 6.e-01, 7.e-01, 8.e-01, 9.e-01,\n",
      "       2.e+00, 3.e+00, 4.e+00, 5.e+00, 6.e+00, 7.e+00, 8.e+00, 9.e+00,\n",
      "       2.e+01, 3.e+01, 4.e+01, 5.e+01, 6.e+01, 7.e+01, 8.e+01, 9.e+01,\n",
      "       2.e+02, 3.e+02, 4.e+02, 5.e+02, 6.e+02, 7.e+02, 8.e+02, 9.e+02])\n",
      "DEBUG [matplotlib.ticker.tick_values()]: vmin 1e-20 vmax 100.0\n",
      "DEBUG [matplotlib.ticker.tick_values()]: ticklocs array([1.e-23, 1.e-20, 1.e-17, 1.e-14, 1.e-11, 1.e-08, 1.e-05, 1.e-02,\n",
      "       1.e+01, 1.e+04, 1.e+07])\n",
      "DEBUG [matplotlib.ticker.tick_values()]: vmin 1e-20 vmax 100.0\n",
      "DEBUG [matplotlib.ticker.tick_values()]: ticklocs array([1.e-23, 1.e-20, 1.e-17, 1.e-14, 1.e-11, 1.e-08, 1.e-05, 1.e-02,\n",
      "       1.e+01, 1.e+04, 1.e+07])\n",
      "DEBUG [matplotlib.ticker.tick_values()]: vmin 1e-20 vmax 100.0\n",
      "DEBUG [matplotlib.ticker.tick_values()]: vmin 1e-20 vmax 100.0\n",
      "DEBUG [matplotlib.ticker.tick_values()]: ticklocs array([1.e-23, 1.e-20, 1.e-17, 1.e-14, 1.e-11, 1.e-08, 1.e-05, 1.e-02,\n",
      "       1.e+01, 1.e+04, 1.e+07])\n",
      "DEBUG [matplotlib.ticker.tick_values()]: vmin 1e-20 vmax 100.0\n",
      "DEBUG [matplotlib.ticker.tick_values()]: ticklocs array([1.e-23, 1.e-20, 1.e-17, 1.e-14, 1.e-11, 1.e-08, 1.e-05, 1.e-02,\n",
      "       1.e+01, 1.e+04, 1.e+07])\n",
      "DEBUG [matplotlib.ticker.tick_values()]: vmin 1e-20 vmax 100.0\n"
     ]
    },
    {
     "name": "stdout",
     "output_type": "stream",
     "text": [
      "DEBUG [matplotlib.ticker.tick_values()]: vmin 0.01 vmax 10.0\n",
      "DEBUG [matplotlib.ticker.tick_values()]: ticklocs array([1.e-03, 1.e-02, 1.e-01, 1.e+00, 1.e+01, 1.e+02])\n",
      "DEBUG [matplotlib.ticker.tick_values()]: vmin 0.01 vmax 10.0\n",
      "DEBUG [matplotlib.ticker.tick_values()]: ticklocs array([1.e-03, 1.e-02, 1.e-01, 1.e+00, 1.e+01, 1.e+02])\n",
      "DEBUG [matplotlib.ticker.tick_values()]: vmin 0.01 vmax 10.0\n",
      "DEBUG [matplotlib.ticker.tick_values()]: ticklocs array([2.e-03, 3.e-03, 4.e-03, 5.e-03, 6.e-03, 7.e-03, 8.e-03, 9.e-03,\n",
      "       2.e-02, 3.e-02, 4.e-02, 5.e-02, 6.e-02, 7.e-02, 8.e-02, 9.e-02,\n",
      "       2.e-01, 3.e-01, 4.e-01, 5.e-01, 6.e-01, 7.e-01, 8.e-01, 9.e-01,\n",
      "       2.e+00, 3.e+00, 4.e+00, 5.e+00, 6.e+00, 7.e+00, 8.e+00, 9.e+00,\n",
      "       2.e+01, 3.e+01, 4.e+01, 5.e+01, 6.e+01, 7.e+01, 8.e+01, 9.e+01,\n",
      "       2.e+02, 3.e+02, 4.e+02, 5.e+02, 6.e+02, 7.e+02, 8.e+02, 9.e+02])\n",
      "DEBUG [matplotlib.ticker.tick_values()]: vmin 0.01 vmax 10.0\n",
      "DEBUG [matplotlib.ticker.tick_values()]: ticklocs array([1.e-03, 1.e-02, 1.e-01, 1.e+00, 1.e+01, 1.e+02])\n",
      "DEBUG [matplotlib.ticker.tick_values()]: vmin 0.01 vmax 10.0\n",
      "DEBUG [matplotlib.ticker.tick_values()]: ticklocs array([1.e-03, 1.e-02, 1.e-01, 1.e+00, 1.e+01, 1.e+02])\n",
      "DEBUG [matplotlib.ticker.tick_values()]: vmin 0.01 vmax 10.0\n",
      "DEBUG [matplotlib.ticker.tick_values()]: ticklocs array([2.e-03, 3.e-03, 4.e-03, 5.e-03, 6.e-03, 7.e-03, 8.e-03, 9.e-03,\n",
      "       2.e-02, 3.e-02, 4.e-02, 5.e-02, 6.e-02, 7.e-02, 8.e-02, 9.e-02,\n",
      "       2.e-01, 3.e-01, 4.e-01, 5.e-01, 6.e-01, 7.e-01, 8.e-01, 9.e-01,\n",
      "       2.e+00, 3.e+00, 4.e+00, 5.e+00, 6.e+00, 7.e+00, 8.e+00, 9.e+00,\n",
      "       2.e+01, 3.e+01, 4.e+01, 5.e+01, 6.e+01, 7.e+01, 8.e+01, 9.e+01,\n",
      "       2.e+02, 3.e+02, 4.e+02, 5.e+02, 6.e+02, 7.e+02, 8.e+02, 9.e+02])\n",
      "DEBUG [matplotlib.ticker.tick_values()]: vmin 1e-20 vmax 100.0\n",
      "DEBUG [matplotlib.ticker.tick_values()]: ticklocs array([1.e-23, 1.e-20, 1.e-17, 1.e-14, 1.e-11, 1.e-08, 1.e-05, 1.e-02,\n",
      "       1.e+01, 1.e+04, 1.e+07])\n",
      "DEBUG [matplotlib.ticker.tick_values()]: vmin 1e-20 vmax 100.0\n",
      "DEBUG [matplotlib.ticker.tick_values()]: ticklocs array([1.e-23, 1.e-20, 1.e-17, 1.e-14, 1.e-11, 1.e-08, 1.e-05, 1.e-02,\n",
      "       1.e+01, 1.e+04, 1.e+07])\n",
      "DEBUG [matplotlib.ticker.tick_values()]: vmin 1e-20 vmax 100.0\n",
      "DEBUG [matplotlib.ticker.tick_values()]: vmin 1e-20 vmax 100.0\n",
      "DEBUG [matplotlib.ticker.tick_values()]: ticklocs array([1.e-23, 1.e-20, 1.e-17, 1.e-14, 1.e-11, 1.e-08, 1.e-05, 1.e-02,\n",
      "       1.e+01, 1.e+04, 1.e+07])\n",
      "DEBUG [matplotlib.ticker.tick_values()]: vmin 1e-20 vmax 100.0\n",
      "DEBUG [matplotlib.ticker.tick_values()]: ticklocs array([1.e-23, 1.e-20, 1.e-17, 1.e-14, 1.e-11, 1.e-08, 1.e-05, 1.e-02,\n",
      "       1.e+01, 1.e+04, 1.e+07])\n",
      "DEBUG [matplotlib.ticker.tick_values()]: vmin 1e-20 vmax 100.0\n",
      "DEBUG [matplotlib.ticker.tick_values()]: vmin 0.01 vmax 10.0\n",
      "DEBUG [matplotlib.ticker.tick_values()]: ticklocs array([1.e-03, 1.e-02, 1.e-01, 1.e+00, 1.e+01, 1.e+02])\n",
      "DEBUG [matplotlib.ticker.tick_values()]: vmin 0.01 vmax 10.0\n",
      "DEBUG [matplotlib.ticker.tick_values()]: ticklocs array([1.e-03, 1.e-02, 1.e-01, 1.e+00, 1.e+01, 1.e+02])\n",
      "DEBUG [matplotlib.ticker.tick_values()]: vmin 0.01 vmax 10.0\n",
      "DEBUG [matplotlib.ticker.tick_values()]: ticklocs array([2.e-03, 3.e-03, 4.e-03, 5.e-03, 6.e-03, 7.e-03, 8.e-03, 9.e-03,\n",
      "       2.e-02, 3.e-02, 4.e-02, 5.e-02, 6.e-02, 7.e-02, 8.e-02, 9.e-02,\n",
      "       2.e-01, 3.e-01, 4.e-01, 5.e-01, 6.e-01, 7.e-01, 8.e-01, 9.e-01,\n",
      "       2.e+00, 3.e+00, 4.e+00, 5.e+00, 6.e+00, 7.e+00, 8.e+00, 9.e+00,\n",
      "       2.e+01, 3.e+01, 4.e+01, 5.e+01, 6.e+01, 7.e+01, 8.e+01, 9.e+01,\n",
      "       2.e+02, 3.e+02, 4.e+02, 5.e+02, 6.e+02, 7.e+02, 8.e+02, 9.e+02])\n",
      "DEBUG [matplotlib.ticker.tick_values()]: vmin 0.01 vmax 10.0\n",
      "DEBUG [matplotlib.ticker.tick_values()]: ticklocs array([1.e-03, 1.e-02, 1.e-01, 1.e+00, 1.e+01, 1.e+02])\n",
      "DEBUG [matplotlib.ticker.tick_values()]: vmin 0.01 vmax 10.0\n",
      "DEBUG [matplotlib.ticker.tick_values()]: ticklocs array([1.e-03, 1.e-02, 1.e-01, 1.e+00, 1.e+01, 1.e+02])\n",
      "DEBUG [matplotlib.ticker.tick_values()]: vmin 0.01 vmax 10.0\n",
      "DEBUG [matplotlib.ticker.tick_values()]: ticklocs array([2.e-03, 3.e-03, 4.e-03, 5.e-03, 6.e-03, 7.e-03, 8.e-03, 9.e-03,\n",
      "       2.e-02, 3.e-02, 4.e-02, 5.e-02, 6.e-02, 7.e-02, 8.e-02, 9.e-02,\n",
      "       2.e-01, 3.e-01, 4.e-01, 5.e-01, 6.e-01, 7.e-01, 8.e-01, 9.e-01,\n",
      "       2.e+00, 3.e+00, 4.e+00, 5.e+00, 6.e+00, 7.e+00, 8.e+00, 9.e+00,\n",
      "       2.e+01, 3.e+01, 4.e+01, 5.e+01, 6.e+01, 7.e+01, 8.e+01, 9.e+01,\n",
      "       2.e+02, 3.e+02, 4.e+02, 5.e+02, 6.e+02, 7.e+02, 8.e+02, 9.e+02])\n",
      "DEBUG [matplotlib.ticker.tick_values()]: vmin 1e-20 vmax 100.0\n",
      "DEBUG [matplotlib.ticker.tick_values()]: ticklocs array([1.e-23, 1.e-20, 1.e-17, 1.e-14, 1.e-11, 1.e-08, 1.e-05, 1.e-02,\n",
      "       1.e+01, 1.e+04, 1.e+07])\n",
      "DEBUG [matplotlib.ticker.tick_values()]: vmin 1e-20 vmax 100.0\n",
      "DEBUG [matplotlib.ticker.tick_values()]: ticklocs array([1.e-23, 1.e-20, 1.e-17, 1.e-14, 1.e-11, 1.e-08, 1.e-05, 1.e-02,\n",
      "       1.e+01, 1.e+04, 1.e+07])\n",
      "DEBUG [matplotlib.ticker.tick_values()]: vmin 1e-20 vmax 100.0\n",
      "DEBUG [matplotlib.ticker.tick_values()]: vmin 1e-20 vmax 100.0\n",
      "DEBUG [matplotlib.ticker.tick_values()]: ticklocs array([1.e-23, 1.e-20, 1.e-17, 1.e-14, 1.e-11, 1.e-08, 1.e-05, 1.e-02,\n",
      "       1.e+01, 1.e+04, 1.e+07])\n",
      "DEBUG [matplotlib.ticker.tick_values()]: vmin 1e-20 vmax 100.0\n",
      "DEBUG [matplotlib.ticker.tick_values()]: ticklocs array([1.e-23, 1.e-20, 1.e-17, 1.e-14, 1.e-11, 1.e-08, 1.e-05, 1.e-02,\n",
      "       1.e+01, 1.e+04, 1.e+07])\n",
      "DEBUG [matplotlib.ticker.tick_values()]: vmin 1e-20 vmax 100.0\n"
     ]
    },
    {
     "data": {
      "image/png": "[encoded data removed]",
      "text/plain": [
       "<Figure size 432x288 with 1 Axes>"
      ]
     },
     "metadata": {},
     "output_type": "display_data"
    }
   ],
   "source": [
    "import numpy as np\n",
    "import scipy.stats as st\n",
    "plt.style.use('seaborn-darkgrid')\n",
    "#x = np.linspace(0, 20, 200)\n",
    "x = np.logspace(-4, 0.9, 200)\n",
    "alphas = [1., 2., 3., 7.5]\n",
    "betas = [.5, .5, 1., 1.]\n",
    "\n",
    "a=0.05; b=1\n",
    "pdf = st.invgamma.pdf(x, a, scale=1.0/b)\n",
    "plt.plot(x, pdf, label=r'$\\alpha$ = {}, $\\beta$ = {}'.format(a, b))\n",
    "a=0.01; b=10\n",
    "pdf = st.invgamma.pdf(x, a, scale=1.0/b)\n",
    "plt.plot(x, pdf, label=r'$\\alpha$ = {}, $\\beta$ = {}'.format(a, b))\n",
    "a=0.0025; b=0.1\n",
    "pdf = st.invgamma.pdf(x, a, scale=1.0/b)\n",
    "plt.plot(x, pdf, label=r'$\\alpha$ = {}, $\\beta$ = {}'.format(a, b))\n",
    "\n",
    "plt.xlabel('x', fontsize=12)\n",
    "plt.ylabel('f(x)', fontsize=12)\n",
    "plt.legend(loc=1)\n",
    "plt.xscale('log')\n",
    "plt.yscale('log')\n",
    "plt.xlim(0.01,10)\n",
    "plt.ylim(1e-20,1e2)"
   ]
  },
  {
   "cell_type": "code",
   "execution_count": null,
   "metadata": {
    "collapsed": true
   },
   "outputs": [],
   "source": []
  },
  {
   "cell_type": "code",
   "execution_count": null,
   "metadata": {
    "collapsed": true
   },
   "outputs": [],
   "source": []
  },
  {
   "cell_type": "code",
   "execution_count": null,
   "metadata": {
    "collapsed": true
   },
   "outputs": [],
   "source": []
  },
  {
   "cell_type": "code",
   "execution_count": null,
   "metadata": {
    "collapsed": true
   },
   "outputs": [],
   "source": []
  },
  {
   "cell_type": "code",
   "execution_count": null,
   "metadata": {
    "collapsed": true
   },
   "outputs": [],
   "source": []
  },
  {
   "cell_type": "code",
   "execution_count": null,
   "metadata": {
    "collapsed": true
   },
   "outputs": [],
   "source": []
  },
  {
   "cell_type": "code",
   "execution_count": null,
   "metadata": {
    "collapsed": true
   },
   "outputs": [],
   "source": []
  },
  {
   "cell_type": "code",
   "execution_count": null,
   "metadata": {
    "collapsed": true
   },
   "outputs": [],
   "source": []
  },
  {
   "cell_type": "code",
   "execution_count": null,
   "metadata": {
    "collapsed": true
   },
   "outputs": [],
   "source": []
  },
  {
   "cell_type": "code",
   "execution_count": null,
   "metadata": {
    "collapsed": true
   },
   "outputs": [],
   "source": []
  },
  {
   "cell_type": "code",
   "execution_count": null,
   "metadata": {
    "collapsed": true
   },
   "outputs": [],
   "source": []
  },
  {
   "cell_type": "code",
   "execution_count": null,
   "metadata": {
    "collapsed": true
   },
   "outputs": [],
   "source": []
  },
  {
   "cell_type": "code",
   "execution_count": null,
   "metadata": {
    "collapsed": true
   },
   "outputs": [],
   "source": []
  },
  {
   "cell_type": "code",
   "execution_count": 330,
   "metadata": {},
   "outputs": [
    {
     "data": {
      "text/plain": [
       "<matplotlib.legend.Legend at 0x1321796d8>"
      ]
     },
     "execution_count": 330,
     "metadata": {},
     "output_type": "execute_result"
    },
    {
     "data": {
      "image/png": "[encoded data removed]",
      "text/plain": [
       "<Figure size 432x288 with 1 Axes>"
      ]
     },
     "metadata": {},
     "output_type": "display_data"
    }
   ],
   "source": [
    "import scipy.stats as st\n",
    "x = np.linspace(-2, 10, 500)\n",
    "lowers = [0., -1, 2]\n",
    "cs = [2., 0., 6.5]\n",
    "uppers = [4., 1, 8]\n",
    "for lower, c, upper in zip(lowers, cs, uppers):\n",
    "    scale = upper - lower\n",
    "    c_ = (c - lower) / scale\n",
    "    pdf = st.triang.pdf(x, loc=lower, c=c_, scale=scale)\n",
    "    plt.plot(x, pdf, label='lower = {}, c = {}, upper = {}'.format(lower,\n",
    "                                                                   c,\n",
    "                                                                   upper))\n",
    "x = np.linspace(-4, 4, 300)\n",
    "lower,c,upper=-4,0.5,4\n",
    "pdf = st.triang.pdf(x, loc=lower, c=c, scale=scale)\n",
    "plt.plot(x, pdf, label='lower = {}, c = {}, upper = {}'.format(lower,\n",
    "                                                               c,\n",
    "                                                               upper))\n",
    "\n",
    "plt.xlabel('x', fontsize=12)\n",
    "plt.ylabel('f(x)', fontsize=12)\n",
    "plt.legend(loc=1)\n"
   ]
  },
  {
   "cell_type": "code",
   "execution_count": null,
   "metadata": {
    "collapsed": true
   },
   "outputs": [],
   "source": []
  },
  {
   "cell_type": "code",
   "execution_count": null,
   "metadata": {
    "collapsed": true
   },
   "outputs": [],
   "source": []
  },
  {
   "cell_type": "code",
   "execution_count": null,
   "metadata": {
    "collapsed": true
   },
   "outputs": [],
   "source": []
  },
  {
   "cell_type": "code",
   "execution_count": null,
   "metadata": {
    "collapsed": true
   },
   "outputs": [],
   "source": []
  },
  {
   "cell_type": "code",
   "execution_count": null,
   "metadata": {
    "collapsed": true
   },
   "outputs": [],
   "source": []
  },
  {
   "cell_type": "code",
   "execution_count": null,
   "metadata": {
    "collapsed": true
   },
   "outputs": [],
   "source": []
  },
  {
   "cell_type": "code",
   "execution_count": null,
   "metadata": {
    "collapsed": true
   },
   "outputs": [],
   "source": []
  },
  {
   "cell_type": "code",
   "execution_count": null,
   "metadata": {
    "collapsed": true
   },
   "outputs": [],
   "source": []
  },
  {
   "cell_type": "code",
   "execution_count": null,
   "metadata": {
    "collapsed": true
   },
   "outputs": [],
   "source": []
  },
  {
   "cell_type": "code",
   "execution_count": null,
   "metadata": {
    "collapsed": true
   },
   "outputs": [],
   "source": []
  },
  {
   "cell_type": "code",
   "execution_count": null,
   "metadata": {
    "collapsed": true
   },
   "outputs": [],
   "source": []
  },
  {
   "cell_type": "code",
   "execution_count": null,
   "metadata": {
    "collapsed": true
   },
   "outputs": [],
   "source": []
  },
  {
   "cell_type": "code",
   "execution_count": null,
   "metadata": {
    "collapsed": true
   },
   "outputs": [],
   "source": []
  },
  {
   "cell_type": "code",
   "execution_count": null,
   "metadata": {
    "collapsed": true
   },
   "outputs": [],
   "source": []
  },
  {
   "cell_type": "code",
   "execution_count": null,
   "metadata": {
    "collapsed": true
   },
   "outputs": [],
   "source": []
  },
  {
   "cell_type": "code",
   "execution_count": null,
   "metadata": {
    "collapsed": true
   },
   "outputs": [],
   "source": []
  },
  {
   "cell_type": "code",
   "execution_count": null,
   "metadata": {
    "collapsed": true
   },
   "outputs": [],
   "source": []
  },
  {
   "cell_type": "code",
   "execution_count": null,
   "metadata": {
    "collapsed": true
   },
   "outputs": [],
   "source": []
  },
  {
   "cell_type": "code",
   "execution_count": null,
   "metadata": {
    "collapsed": true
   },
   "outputs": [],
   "source": []
  },
  {
   "cell_type": "code",
   "execution_count": null,
   "metadata": {
    "collapsed": true
   },
   "outputs": [],
   "source": []
  },
  {
   "cell_type": "code",
   "execution_count": 373,
   "metadata": {},
   "outputs": [],
   "source": []
  },
  {
   "cell_type": "code",
   "execution_count": null,
   "metadata": {
    "collapsed": true
   },
   "outputs": [],
   "source": []
  },
  {
   "cell_type": "code",
   "execution_count": null,
   "metadata": {
    "collapsed": true
   },
   "outputs": [],
   "source": []
  },
  {
   "cell_type": "code",
   "execution_count": null,
   "metadata": {
    "collapsed": true
   },
   "outputs": [],
   "source": []
  },
  {
   "cell_type": "code",
   "execution_count": null,
   "metadata": {
    "collapsed": true
   },
   "outputs": [],
   "source": []
  },
  {
   "cell_type": "code",
   "execution_count": null,
   "metadata": {
    "collapsed": true
   },
   "outputs": [],
   "source": []
  },
  {
   "cell_type": "code",
   "execution_count": null,
   "metadata": {
    "collapsed": true
   },
   "outputs": [],
   "source": []
  },
  {
   "cell_type": "code",
   "execution_count": null,
   "metadata": {
    "collapsed": true
   },
   "outputs": [],
   "source": []
  },
  {
   "cell_type": "code",
   "execution_count": null,
   "metadata": {
    "collapsed": true
   },
   "outputs": [],
   "source": []
  },
  {
   "cell_type": "code",
   "execution_count": null,
   "metadata": {
    "collapsed": true
   },
   "outputs": [],
   "source": []
  },
  {
   "cell_type": "code",
   "execution_count": null,
   "metadata": {
    "collapsed": true
   },
   "outputs": [],
   "source": []
  },
  {
   "cell_type": "code",
   "execution_count": null,
   "metadata": {
    "collapsed": true
   },
   "outputs": [],
   "source": []
  },
  {
   "cell_type": "code",
   "execution_count": null,
   "metadata": {
    "collapsed": true
   },
   "outputs": [],
   "source": []
  },
  {
   "cell_type": "code",
   "execution_count": null,
   "metadata": {
    "collapsed": true
   },
   "outputs": [],
   "source": []
  },
  {
   "cell_type": "code",
   "execution_count": null,
   "metadata": {
    "collapsed": true
   },
   "outputs": [],
   "source": []
  },
  {
   "cell_type": "code",
   "execution_count": null,
   "metadata": {
    "collapsed": true
   },
   "outputs": [],
   "source": []
  },
  {
   "cell_type": "code",
   "execution_count": null,
   "metadata": {
    "collapsed": true
   },
   "outputs": [],
   "source": []
  },
  {
   "cell_type": "code",
   "execution_count": null,
   "metadata": {
    "collapsed": true
   },
   "outputs": [],
   "source": []
  },
  {
   "cell_type": "code",
   "execution_count": null,
   "metadata": {
    "collapsed": true
   },
   "outputs": [],
   "source": []
  },
  {
   "cell_type": "code",
   "execution_count": null,
   "metadata": {
    "collapsed": true
   },
   "outputs": [],
   "source": []
  },
  {
   "cell_type": "code",
   "execution_count": null,
   "metadata": {
    "collapsed": true
   },
   "outputs": [],
   "source": []
  },
  {
   "cell_type": "code",
   "execution_count": null,
   "metadata": {
    "collapsed": true
   },
   "outputs": [],
   "source": []
  },
  {
   "cell_type": "code",
   "execution_count": null,
   "metadata": {
    "collapsed": true
   },
   "outputs": [],
   "source": []
  },
  {
   "cell_type": "code",
   "execution_count": null,
   "metadata": {
    "collapsed": true
   },
   "outputs": [],
   "source": []
  },
  {
   "cell_type": "code",
   "execution_count": null,
   "metadata": {
    "collapsed": true
   },
   "outputs": [],
   "source": []
  },
  {
   "cell_type": "code",
   "execution_count": 237,
   "metadata": {
    "collapsed": true
   },
   "outputs": [],
   "source": [
    "from stellar import *\n",
    "\n",
    "def getStellarInfo(ID,hdr,mission,savedf=True):\n",
    "    if mission[0]=='T' or mission[0]=='t':\n",
    "        #Using TIC-8 as input cat for TESS stars\n",
    "        best_stardf = Catalogs.query_criteria(\"Tic-8\",\n",
    "                                              SkyCoord(hdr['RA_OBJ'],row['DEC_OBJ'],unit=u.deg),\n",
    "                                              radius=15/3600)\n",
    "    elif mission[0]=='K' or mission[0]=='k':\n",
    "        best_stardf=starpars(ID,mission,errboost=0.2,return_best=True,useGaiaLum=True,useGaiaBR=True,useGaiaSpec=True,\n",
    "                             useBV=True,use2mass=True,useGriz=True,useGaiaAg=True)\n",
    "        best_stardf['rho']=best_stardf['rho_gcm3']/1.4098\n",
    "        best_stardf['rho']=best_stardf['rho_gcm3e']/1.4098\n",
    "        best_stardf=best_stardf.rename(columns={'TBD':'TBD'})\n",
    "        \n",
    "    #Taking brightest star if multiple:\n",
    "    if type(best_stardf)==pd.DataFrame and best_stardf.shape[1]>1:\n",
    "        #Taking brightest star:\n",
    "        if mission[0] in ['t','T']:\n",
    "            best_stardf=beststardf.iloc[np.argmin(best_stardf.Tmag)]\n",
    "        else:\n",
    "            best_stardf=beststardf.iloc[np.argmin(best_stardf.kepmag)]\n",
    "    elif best_stardf.shape[1]==1:\n",
    "        #Pandas df -> Series\n",
    "        best_stardf=best_stardf.iloc[0]\n",
    "    \n",
    "    #Sorting out missing data and getting important info - Mass, Radius, density and logg:\n",
    "    if pd.isnull(dfrow[['logg','mass']]).all() and ~np.isnan(dfrow['lum']):\n",
    "        #Mass-Luminosity relation for objects with no Mass but have Luminosity\n",
    "        if ((~np.isnan(dfrow['rad']))&(dfrow['rad']<0.55))|((dfrow['Teff']<5000)&(dfrow['lum']<1.0)):\n",
    "            #M < 0.43\n",
    "            dfrow['mass']=np.power(dfrow['lum']/0.23,1/2.3)\n",
    "            dfrow['e_mass']=(1/2.3)*np.power(dfrow['lum']/0.23,1/2.3-1.0)*dfrow['e_lum']\n",
    "            dfrow['logg']=np.power(10,dfrow['mass']/dfrow['rad']**2)+4.43\n",
    "        elif dfrow['Teff']>8550:\n",
    "            #2Ms < M < 55Ms\n",
    "            dfrow['mass']=np.power(dfrow['lum']/1.4,1/3.5)\n",
    "            dfrow['e_mass']=(1/3.5)*np.power(dfrow['lum']/1.4,1/3.5-1.0)*dfrow['e_lum']\n",
    "        else:\n",
    "            #0.43 < M < 2\n",
    "            dfrow['mass']=np.power(dfrow['lum'],1/4)\n",
    "            dfrow['e_mass']=(1/4)*np.power(dfrow['lum']/0.23,(1/4-1.0))*dfrow['e_lum']\n",
    "    if ~pd.isnull(dfrow['mass']):\n",
    "        masses=np.array([dfrow['mass'], dfrow['e_mass'],dfrow['e_mass']])\n",
    "\n",
    "    #Logg:\n",
    "    if ~pd.isnull(dfrow['logg']):\n",
    "        logg=np.array([dfrow['logg'], dfrow['e_logg'],dfrow['e_logg']])\n",
    "    elif ~pd.isnull(dfrow[['mass','rad']]).any():\n",
    "        logg=np.array([np.log10(dfrow['mass']/dfrow['rad']**2)+4.438,0.5,0.5])\n",
    "    else:\n",
    "        logg=np.array([4,1,1])\n",
    "\n",
    "    if not pd.isnull(dfrow['rho']) and dfrow['rho']!=0.0:\n",
    "        rhos=[dfrow['rho'],dfrow['e_rho'],dfrow['e_rho']]      \n",
    "    else:\n",
    "        rhos=namaste.dens2(*dfrow[['logg','e_logg','e_logg','rad','e_rad','e_rad','mass','e_mass','e_mass']])\n",
    "    print(rhos)\n",
    "    \n",
    "    return Rstar, rhos, Teff, logg\n",
    "        #'teff', 'teffep', 'teffem', 'logg', 'loggep', 'loggem', 'feh', 'fehep',\n",
    "        #'fehem', 'rad', 'radep', 'radem', 'mass', 'massep', 'massem',\n",
    "        #'rho_gcm3', 'rho_gcm3ep', 'rho_gcm3em', 'lum', 'lumep', 'lumem', 'avs',\n",
    "        #'avsep', 'avsem', 'dis', 'disep', 'disem', 'source'\n",
    "        return Rstar, rhostar, Teff, logg"
   ]
  },
  {
   "cell_type": "code",
   "execution_count": 242,
   "metadata": {},
   "outputs": [
    {
     "data": {
      "text/plain": [
       "4.438067627303133"
      ]
     },
     "execution_count": 242,
     "metadata": {},
     "output_type": "execute_result"
    }
   ],
   "source": [
    "np.log10(((c.G*1*u.Msun)/(1*u.Rsun**2)).to(u.cm/(u.s)**2).value)"
   ]
  },
  {
   "cell_type": "code",
   "execution_count": 246,
   "metadata": {},
   "outputs": [
    {
     "data": {
      "text/latex": [
       "$1.4098263 \\; \\mathrm{\\frac{g}{cm^{3}}}$"
      ],
      "text/plain": [
       "<Quantity 1.4098263 g / cm3>"
      ]
     },
     "execution_count": 246,
     "metadata": {},
     "output_type": "execute_result"
    }
   ],
   "source": [
    "(u.Msun/(np.pi*4/3*u.Rsun**3)).to(u.g/u.cm**3)"
   ]
  },
  {
   "cell_type": "code",
   "execution_count": 247,
   "metadata": {},
   "outputs": [
    {
     "name": "stdout",
     "output_type": "stream",
     "text": [
      "INFO  [everest.user.DownloadFile()]: Downloading the file...\n",
      "INFO  [everest.user.load_fits()]: Loading FITS file for 248847494.\n"
     ]
    },
    {
     "data": {
      "text/plain": [
       "<everest.Everest(248847494)>"
      ]
     },
     "execution_count": 247,
     "metadata": {},
     "output_type": "execute_result"
    }
   ],
   "source": [
    "import everest"
   ]
  },
  {
   "cell_type": "code",
   "execution_count": 256,
   "metadata": {},
   "outputs": [
    {
     "name": "stdout",
     "output_type": "stream",
     "text": [
      "INFO  [everest.user.DownloadFile()]: Downloading the file...\n",
      "INFO  [everest.user.load_fits()]: Loading FITS file for 211901114.\n"
     ]
    }
   ],
   "source": [
    "st=everest.Everest(211901114,season=18)"
   ]
  },
  {
   "cell_type": "code",
   "execution_count": 258,
   "metadata": {},
   "outputs": [
    {
     "data": {
      "text/plain": [
       "array([ 519,  523, 1553, 2067, 2068, 1053,   33, 1057, 1533,  548,   51,\n",
       "         52, 1081,  573, 2109, 2111, 2110, 1604, 1094,  584,  600,   93,\n",
       "       1629,  609, 2161, 1138, 2170, 1149, 1661, 2177, 1154,  131,  644,\n",
       "        645,  134,  646,  647,  137,  648,  649,  650,  651,  652,  653,\n",
       "        654,  655,  656, 1171,  657,  658,  154,  155,  156,  669, 1178,\n",
       "       2205,  678, 1703, 1705, 2219, 2220, 1155, 1212,  189, 1725,  710,\n",
       "        711,  712, 2249, 1229,  720, 1746,  728, 2265, 1752, 1754, 1245,\n",
       "       1251, 2182, 1674, 2281, 1267, 1270, 1273,  765, 2301, 1281, 2308,\n",
       "       1797, 2313, 2314, 2315, 1811,  275, 1302,  793, 2332,  285, 1821,\n",
       "       2340,  295,  299, 2348, 2350, 1843,  308, 1333, 1334, 1847, 1341,\n",
       "        843, 1356, 1357, 1358, 2386,  345, 1372, 1373,  862,  861,  864,\n",
       "        865,  863, 1376, 2397, 1893, 2404, 1897, 1390, 1392,  886,  887,\n",
       "       1402,  381, 1917, 1926,  397,  921, 1437,  433,  435, 1973, 2489,\n",
       "        957,  959,  960,  961,  477, 2013, 1511, 1513, 1514,  503,  504,\n",
       "        505, 1017,  511])"
      ]
     },
     "execution_count": 258,
     "metadata": {},
     "output_type": "execute_result"
    }
   ],
   "source": []
  },
  {
   "cell_type": "code",
   "execution_count": null,
   "metadata": {
    "collapsed": true
   },
   "outputs": [],
   "source": []
  },
  {
   "cell_type": "code",
   "execution_count": null,
   "metadata": {
    "collapsed": true
   },
   "outputs": [],
   "source": []
  },
  {
   "cell_type": "code",
   "execution_count": null,
   "metadata": {
    "collapsed": true
   },
   "outputs": [],
   "source": []
  },
  {
   "cell_type": "code",
   "execution_count": null,
   "metadata": {
    "collapsed": true
   },
   "outputs": [],
   "source": []
  },
  {
   "cell_type": "code",
   "execution_count": 253,
   "metadata": {},
   "outputs": [
    {
     "data": {
      "text/plain": [
       "array([3156.44535484, 3156.4657875 , 3156.48622007, ..., 3244.40460467,\n",
       "       3244.42503636, 3244.44546815])"
      ]
     },
     "execution_count": 253,
     "metadata": {},
     "output_type": "execute_result"
    }
   ],
   "source": [
    "st.time"
   ]
  },
  {
   "cell_type": "code",
   "execution_count": null,
   "metadata": {
    "collapsed": true
   },
   "outputs": [],
   "source": [
    "249234088"
   ]
  },
  {
   "cell_type": "code",
   "execution_count": null,
   "metadata": {
    "collapsed": true
   },
   "outputs": [],
   "source": []
  },
  {
   "cell_type": "code",
   "execution_count": 250,
   "metadata": {},
   "outputs": [
    {
     "data": {
      "text/plain": [
       "array([181515.596964  , 181479.56331565, 181475.45334854, ...,\n",
       "       181705.14397278, 181706.17168227, 181658.4781803 ])"
      ]
     },
     "execution_count": 250,
     "metadata": {},
     "output_type": "execute_result"
    }
   ],
   "source": [
    "st.flux"
   ]
  },
  {
   "cell_type": "code",
   "execution_count": null,
   "metadata": {
    "collapsed": true
   },
   "outputs": [],
   "source": []
  },
  {
   "cell_type": "code",
   "execution_count": null,
   "metadata": {
    "collapsed": true
   },
   "outputs": [],
   "source": []
  },
  {
   "cell_type": "code",
   "execution_count": 97,
   "metadata": {},
   "outputs": [
    {
     "data": {
      "text/plain": [
       "array([ 1.5  ,  1.75 ,  2.   ,  2.25 ,  2.5  ,  8.4  ,  8.605,  8.81 ,\n",
       "        9.015,  9.22 ,  9.425,  9.63 ,  9.835, 10.04 , 10.245, 10.45 ,\n",
       "       10.655, 10.86 , 11.065, 11.27 , 11.475, 11.68 , 11.885, 12.09 ,\n",
       "       12.295, 12.5  , 18.4  , 18.625, 18.85 , 19.075, 19.3  , 25.4  ])"
      ]
     },
     "execution_count": 97,
     "metadata": {},
     "output_type": "execute_result"
    }
   ],
   "source": [
    "listgaps"
   ]
  },
  {
   "cell_type": "code",
   "execution_count": 98,
   "metadata": {},
   "outputs": [
    {
     "data": {
      "text/plain": [
       "(1.2, 3)"
      ]
     },
     "execution_count": 98,
     "metadata": {},
     "output_type": "execute_result"
    },
    {
     "data": {
      "image/png": "[encoded data removed]",
      "text/plain": [
       "<Figure size 432x288 with 1 Axes>"
      ]
     },
     "metadata": {},
     "output_type": "display_data"
    }
   ],
   "source": [
    "plt.plot(dist_from_t0,np.tile(1.0,len(dist_from_t0)),'.')\n",
    "plt.xlim(1.2,3)"
   ]
  },
  {
   "cell_type": "code",
   "execution_count": null,
   "metadata": {
    "collapsed": true
   },
   "outputs": [],
   "source": []
  },
  {
   "cell_type": "code",
   "execution_count": null,
   "metadata": {
    "collapsed": true
   },
   "outputs": [],
   "source": []
  },
  {
   "cell_type": "code",
   "execution_count": null,
   "metadata": {
    "collapsed": true
   },
   "outputs": [],
   "source": []
  },
  {
   "cell_type": "code",
   "execution_count": null,
   "metadata": {
    "collapsed": true
   },
   "outputs": [],
   "source": []
  },
  {
   "cell_type": "code",
   "execution_count": 85,
   "metadata": {},
   "outputs": [
    {
     "data": {
      "text/plain": [
       "29"
      ]
     },
     "execution_count": 85,
     "metadata": {},
     "output_type": "execute_result"
    }
   ],
   "source": [
    "gaps=np.hstack((np.diff(dist_from_t0)>(0.9*dur),True))\n",
    "gaps)[0][0]"
   ]
  },
  {
   "cell_type": "code",
   "execution_count": null,
   "metadata": {
    "collapsed": true
   },
   "outputs": [],
   "source": []
  },
  {
   "cell_type": "code",
   "execution_count": null,
   "metadata": {
    "collapsed": true
   },
   "outputs": [],
   "source": []
  },
  {
   "cell_type": "code",
   "execution_count": null,
   "metadata": {
    "collapsed": true
   },
   "outputs": [],
   "source": []
  },
  {
   "cell_type": "code",
   "execution_count": null,
   "metadata": {
    "collapsed": true
   },
   "outputs": [],
   "source": []
  },
  {
   "cell_type": "code",
   "execution_count": null,
   "metadata": {
    "collapsed": true
   },
   "outputs": [],
   "source": []
  },
  {
   "cell_type": "code",
   "execution_count": null,
   "metadata": {
    "collapsed": true
   },
   "outputs": [],
   "source": []
  },
  {
   "cell_type": "code",
   "execution_count": 72,
   "metadata": {},
   "outputs": [],
   "source": [
    "tf=fits.open(\"https://archive.stsci.edu/missions/tess/tid/s0003/0000/0000/6389/8957/tess2018263035959-s0003-0000000063898957-0123-s_lc.fits\")"
   ]
  },
  {
   "cell_type": "code",
   "execution_count": 73,
   "metadata": {},
   "outputs": [
    {
     "data": {
      "text/plain": [
       "FITS_rec([(1382.03968762, 0.00507748, 111297, 35545.9  , 21.053415, 2214.34  , 4.160939 , nan, nan, 128, nan, nan, nan, nan, 1017.56320565, 0.00046581, 273.72934369, 0.00046783, nan, nan),\n",
       "          (1382.04107653, 0.0050775 , 111298, 35546.504, 21.05909 , 2223.8347, 4.1703978, nan, nan, 128, nan, nan, nan, nan, 1017.55763864, 0.00046599, 273.74040887, 0.00046752, nan, nan),\n",
       "          (1382.04246543, 0.00507752, 111299, 35552.22 , 21.055212, 2213.667 , 4.1582694, nan, nan, 128, nan, nan, nan, nan, 1017.55894235, 0.00046562, 273.73646494, 0.00046787, nan, nan),\n",
       "          ...,\n",
       "          (1409.38517728, 0.00474051, 130986, 35782.04 , 24.147034, 9737.56  , 8.233795 , nan, nan, 128, nan, nan, nan, nan, 1017.49162929, 0.00054509, 273.83689481, 0.00054855, nan, nan),\n",
       "          (1409.38656613, 0.00474047, 130987, 35830.055, 24.155172, 9732.525 , 8.230909 , nan, nan, 128, nan, nan, nan, nan, 1017.49313826, 0.00054387, 273.83028504, 0.00054766, nan, nan),\n",
       "          (1409.38795498, 0.00474043, 130988, 34964.043, 23.952274, 9731.219 , 8.230116 , nan, nan, 128, nan, nan, nan, nan, 1017.48073003, 0.00055609, 273.83843763, 0.00055644, nan, nan)],\n",
       "         dtype=(numpy.record, [('TIME', '>f8'), ('TIMECORR', '>f4'), ('CADENCENO', '>i4'), ('SAP_FLUX', '>f4'), ('SAP_FLUX_ERR', '>f4'), ('SAP_BKG', '>f4'), ('SAP_BKG_ERR', '>f4'), ('PDCSAP_FLUX', '>f4'), ('PDCSAP_FLUX_ERR', '>f4'), ('QUALITY', '>i4'), ('PSF_CENTR1', '>f8'), ('PSF_CENTR1_ERR', '>f4'), ('PSF_CENTR2', '>f8'), ('PSF_CENTR2_ERR', '>f4'), ('MOM_CENTR1', '>f8'), ('MOM_CENTR1_ERR', '>f4'), ('MOM_CENTR2', '>f8'), ('MOM_CENTR2_ERR', '>f4'), ('POS_CORR1', '>f4'), ('POS_CORR2', '>f4')]))"
      ]
     },
     "execution_count": 73,
     "metadata": {},
     "output_type": "execute_result"
    }
   ],
   "source": [
    "tf[1].data"
   ]
  },
  {
   "cell_type": "code",
   "execution_count": null,
   "metadata": {
    "collapsed": true
   },
   "outputs": [],
   "source": []
  },
  {
   "cell_type": "code",
   "execution_count": null,
   "metadata": {
    "collapsed": true
   },
   "outputs": [],
   "source": []
  },
  {
   "cell_type": "code",
   "execution_count": null,
   "metadata": {
    "collapsed": true
   },
   "outputs": [],
   "source": []
  },
  {
   "cell_type": "code",
   "execution_count": null,
   "metadata": {
    "collapsed": true
   },
   "outputs": [],
   "source": []
  },
  {
   "cell_type": "code",
   "execution_count": 17,
   "metadata": {},
   "outputs": [
    {
     "data": {
      "text/plain": [
       "astropy.io.fits.hdu.hdulist.HDUList"
      ]
     },
     "execution_count": 17,
     "metadata": {},
     "output_type": "execute_result"
    }
   ],
   "source": [
    "type(lc[n])"
   ]
  },
  {
   "cell_type": "code",
   "execution_count": 31,
   "metadata": {},
   "outputs": [
    {
     "data": {
      "text/plain": [
       "astropy.io.fits.hdu.image.PrimaryHDU"
      ]
     },
     "execution_count": 31,
     "metadata": {},
     "output_type": "execute_result"
    }
   ],
   "source": [
    "type(lc[n][0])"
   ]
  },
  {
   "cell_type": "code",
   "execution_count": 33,
   "metadata": {},
   "outputs": [
    {
     "data": {
      "text/plain": [
       "SIMPLE  =                    T / conforms to FITS standards                     \n",
       "BITPIX  =                    8 / array data type                                \n",
       "NAXIS   =                    0 / number of array dimensions                     \n",
       "EXTEND  =                    T / file contains extensions                       \n",
       "NEXTEND =                    2 / number of standard extensions                  \n",
       "EXTNAME = 'PRIMARY '           / name of extension                              \n",
       "EXTVER  =                    1 / extension version number (not format version)  \n",
       "SIMDATA =                    F / file is based on simulated data                \n",
       "ORIGIN  = 'NASA/Ames'          / institution responsible for creating this file \n",
       "DATE    = '2018-12-13'         / file creation date.                            \n",
       "TSTART  =    1382.033915694891 / observation start time in TJD                  \n",
       "TSTOP   =    1409.383908993930 / observation stop time in TJD                   \n",
       "DATE-OBS= '2018-09-20T12:47:41.132Z' / TSTART as UTC calendar date              \n",
       "DATE-END= '2018-10-17T21:11:40.553Z' / TSTOP as UTC calendar date               \n",
       "CREATOR = '6504 LightCurveExporterPipelineModule' / pipeline job and program use\n",
       "PROCVER = 'spoc-3.3.48-20181212' / SW version                                   \n",
       "FILEVER = '1.0     '           / file format version                            \n",
       "TIMVERSN= 'OGIP/93-003'        / OGIP memo number for file format               \n",
       "TELESCOP= 'TESS    '           / telescope                                      \n",
       "INSTRUME= 'TESS Photometer'    / detector type                                  \n",
       "DATA_REL=                    4 / data release version number                    \n",
       "OBJECT  = 'TIC 63898957'       / string version of target id                    \n",
       "TICID   =             63898957 / unique tess target identifier                  \n",
       "SECTOR  =                    3 / Observing sector                               \n",
       "CAMERA  =                    1 / Camera number                                  \n",
       "CCD     =                    1 / CCD chip number                                \n",
       "PXTABLE =                  131 / pixel table id                                 \n",
       "RADESYS = 'ICRS    '           / reference frame of celestial coordinates       \n",
       "RA_OBJ  =  15.2176320000000000 / [deg] right ascension                          \n",
       "DEC_OBJ = -24.4239070000000000 / [deg] declination                              \n",
       "EQUINOX =               2000.0 / equinox of celestial coordinate system         \n",
       "PMRA    =         108.65100000 / [mas/yr] RA proper motion                      \n",
       "PMDEC   =         -11.26270000 / [mas/yr] Dec proper motion                     \n",
       "PMTOTAL =         109.23318274 / [mas/yr] total proper motion                   \n",
       "TESSMAG =           9.02000046 / [mag] TESS magnitude                           \n",
       "TEFF    =        5890.29980469 / [K] Effective temperature                      \n",
       "LOGG    =           3.92000008 / [cm/s2] log10 surface gravity                  \n",
       "MH      =          -0.34999999 / [log10([M/H])] metallicity                     \n",
       "RADIUS  =           1.31383002 / [solar radii] stellar radius                   \n",
       "TICVER  =                    7 / TICVER                                         \n",
       "CRMITEN =                    T / spacecraft cosmic ray mitigation enabled       \n",
       "CRBLKSZ =                   10 / [exposures] s/c cosmic ray mitigation block siz\n",
       "CRSPOC  =                    F / SPOC cosmic ray cleaning enabled               \n",
       "CHECKSUM= '57HGA5F985FEA5F9'   / HDU checksum updated 2018-12-13T14:41:42Z      "
      ]
     },
     "execution_count": 33,
     "metadata": {},
     "output_type": "execute_result"
    }
   ],
   "source": [
    "lc[n][0].header"
   ]
  },
  {
   "cell_type": "code",
   "execution_count": null,
   "metadata": {
    "collapsed": true
   },
   "outputs": [],
   "source": []
  },
  {
   "cell_type": "code",
   "execution_count": null,
   "metadata": {
    "collapsed": true
   },
   "outputs": [],
   "source": []
  },
  {
   "cell_type": "code",
   "execution_count": null,
   "metadata": {
    "collapsed": true
   },
   "outputs": [],
   "source": []
  },
  {
   "cell_type": "code",
   "execution_count": null,
   "metadata": {
    "collapsed": true
   },
   "outputs": [],
   "source": []
  },
  {
   "cell_type": "code",
   "execution_count": null,
   "metadata": {
    "collapsed": true
   },
   "outputs": [],
   "source": []
  },
  {
   "cell_type": "code",
   "execution_count": null,
   "metadata": {
    "collapsed": true
   },
   "outputs": [],
   "source": []
  },
  {
   "cell_type": "code",
   "execution_count": null,
   "metadata": {
    "collapsed": true
   },
   "outputs": [],
   "source": []
  },
  {
   "cell_type": "code",
   "execution_count": null,
   "metadata": {
    "collapsed": true
   },
   "outputs": [],
   "source": []
  },
  {
   "cell_type": "code",
   "execution_count": null,
   "metadata": {
    "collapsed": true
   },
   "outputs": [],
   "source": []
  },
  {
   "cell_type": "code",
   "execution_count": null,
   "metadata": {
    "collapsed": true
   },
   "outputs": [],
   "source": []
  },
  {
   "cell_type": "code",
   "execution_count": null,
   "metadata": {
    "collapsed": true
   },
   "outputs": [],
   "source": []
  },
  {
   "cell_type": "code",
   "execution_count": null,
   "metadata": {
    "collapsed": true
   },
   "outputs": [],
   "source": []
  },
  {
   "cell_type": "code",
   "execution_count": null,
   "metadata": {
    "collapsed": true
   },
   "outputs": [],
   "source": []
  },
  {
   "cell_type": "code",
   "execution_count": null,
   "metadata": {
    "collapsed": true
   },
   "outputs": [],
   "source": []
  },
  {
   "cell_type": "code",
   "execution_count": null,
   "metadata": {
    "collapsed": true
   },
   "outputs": [],
   "source": []
  },
  {
   "cell_type": "code",
   "execution_count": null,
   "metadata": {
    "collapsed": true
   },
   "outputs": [],
   "source": []
  },
  {
   "cell_type": "code",
   "execution_count": null,
   "metadata": {
    "collapsed": true
   },
   "outputs": [],
   "source": []
  },
  {
   "cell_type": "code",
   "execution_count": null,
   "metadata": {
    "collapsed": true
   },
   "outputs": [],
   "source": []
  },
  {
   "cell_type": "code",
   "execution_count": null,
   "metadata": {
    "collapsed": true
   },
   "outputs": [],
   "source": []
  }
 ],
 "metadata": {
  "kernelspec": {
   "display_name": "Python 3",
   "language": "python",
   "name": "python3"
  },
  "language_info": {
   "codemirror_mode": {
    "name": "ipython",
    "version": 3
   },
   "file_extension": ".py",
   "mimetype": "text/x-python",
   "name": "python",
   "nbconvert_exporter": "python",
   "pygments_lexer": "ipython3",
   "version": "3.6.1"
  }
 },
 "nbformat": 4,
 "nbformat_minor": 2
}
