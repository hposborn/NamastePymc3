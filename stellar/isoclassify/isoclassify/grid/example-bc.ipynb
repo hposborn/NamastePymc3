{
 "cells": [
  {
   "cell_type": "code",
   "execution_count": 1,
   "metadata": {
    "collapsed": true
   },
   "outputs": [],
   "source": [
    "%matplotlib inline\n",
    "%reload_ext autoreload\n",
    "%autoreload 2\n",
    "import numpy as np\n",
    "import matplotlib.pyplot as plt\n",
    "from classify_grid import *\n",
    "import os, ebf\n",
    "from astropy.io import ascii\n",
    "import time\n",
    "#import mwdust"
   ]
  },
  {
   "cell_type": "code",
   "execution_count": 2,
   "metadata": {
    "collapsed": true
   },
   "outputs": [],
   "source": [
    "# load MIST models\n",
    "homedir=os.path.expanduser('~/')\n",
    "model=ebf.read('/Users/petigura/code/isoclassify/mesa.ebf')"
   ]
  },
  {
   "cell_type": "code",
   "execution_count": 3,
   "metadata": {
    "collapsed": true
   },
   "outputs": [],
   "source": [
    "df = pd.DataFrame(model)"
   ]
  },
  {
   "cell_type": "code",
   "execution_count": null,
   "metadata": {},
   "outputs": [],
   "source": []
  },
  {
   "cell_type": "code",
   "execution_count": 9,
   "metadata": {},
   "outputs": [
    {
     "name": "stdout",
     "output_type": "stream",
     "text": [
      "Using matplotlib backend: MacOSX\n",
      "Populating the interactive namespace from numpy and matplotlib\n"
     ]
    },
    {
     "data": {
      "text/plain": [
       "<matplotlib.axes._subplots.AxesSubplot at 0x180bd96190>"
      ]
     },
     "execution_count": 9,
     "metadata": {},
     "output_type": "execute_result"
    }
   ],
   "source": [
    "# stefan boltzman law\n",
    "from astropy import constants as c\n",
    "from astropy import units as u\n",
    "\n",
    "%pylab\n",
    "rstar = np.array(df.rad) * c.R_sun\n",
    "teff = np.array(df.teff)* u.K\n",
    "Lbol = 4 * pi * rstar**2 * c.sigma_sb * teff**4\n",
    "L0 = 3.0128e28 * u.W\n",
    "df['Mbol'] = np.log10(Lbol/L0) / (-0.4)\n",
    "df['BCK'] = df.kmag - df.Mbol\n",
    "df['BCV'] = df.vmag - df.Mbol\n",
    "df['vmk'] = df.vmag - df.kmag\n",
    "#cut = df.query('0.99 < mass < 1.01 and 4.4 < age < 4.6 and feh==0.0')\n",
    "cut = df.query('5680 < teff < 5720 and 3 < age < 6')\n",
    "cols = 'age mass rad teff logg feh BCK BCV vmk'.split()\n",
    "cut[cols]\n",
    "\n",
    "cut.BCK.hist()"
   ]
  },
  {
   "cell_type": "code",
   "execution_count": 79,
   "metadata": {},
   "outputs": [
    {
     "name": "stdout",
     "output_type": "stream",
     "text": [
      "age        3.500000\n",
      "mass       0.986740\n",
      "rad        0.964319\n",
      "teff    5776.295472\n",
      "logg       4.463829\n",
      "feh        0.000000\n",
      "BCK       -1.442127\n",
      "BCV        0.047384\n",
      "vmk        1.489511\n",
      "Name: 2647322, dtype: float64\n",
      "age        5.500000\n",
      "mass       0.955752\n",
      "rad        0.972033\n",
      "teff    5710.537897\n",
      "logg       4.443051\n",
      "feh        0.000000\n",
      "BCK       -1.476531\n",
      "BCV        0.057066\n",
      "vmk        1.533596\n",
      "Name: 2656801, dtype: float64\n",
      "age        8.500000\n",
      "mass       0.957483\n",
      "rad        1.103799\n",
      "teff    5769.606278\n",
      "logg       4.333418\n",
      "feh        0.000000\n",
      "BCK       -1.442857\n",
      "BCV        0.051691\n",
      "vmk        1.494548\n",
      "Name: 2670936, dtype: float64\n",
      "age        9.000000\n",
      "mass       0.934805\n",
      "rad        1.081726\n",
      "teff    5771.607077\n",
      "logg       4.340554\n",
      "feh       -0.050000\n",
      "BCK       -1.439567\n",
      "BCV        0.057178\n",
      "vmk        1.496745\n",
      "Name: 2607310, dtype: float64\n"
     ]
    }
   ],
   "source": [
    "teff0 = 5770\n",
    "logg0 = 4.44\n",
    "fe0 = 0.0\n",
    "\n",
    "dteff = 60 \n",
    "dlogg = 0.10\n",
    "dfeh = 0.04\n",
    "#df = df[df.age==4.5]\n",
    "\n",
    "df['dist'] = np.sqrt( ((df.teff - teff0)/dteff)**2 +  ((df.logg - logg0)/dlogg)**2 + ((df.feh - fe0)/dfeh)**2)\n",
    "ref = df.loc[df.dist.idxmin()]\n",
    "\n",
    "df['dist'] = np.sqrt( ((df.teff - teff0+dteff)/dteff)**2 +  ((df.logg - logg0)/dlogg)**2 + ((df.feh - fe0)/dfeh)**2)\n",
    "ref_teff = df.loc[df.dist.idxmin()]\n",
    "\n",
    "df['dist'] = np.sqrt( ((df.teff - teff0)/dteff)**2 +  ((df.logg - logg0+ dlogg)/dlogg)**2 + ((df.feh - fe0)/dfeh)**2)\n",
    "ref_logg = df.loc[df.dist.idxmin()]\n",
    "\n",
    "df['dist'] = np.sqrt( ((df.teff - teff0)/dteff)**2 +  ((df.logg - logg0+ dlogg)/dlogg)**2 + ((df.feh - fe0+dfeh)/dfeh)**2)\n",
    "ref_feh = df.loc[df.dist.idxmin()]\n",
    "\n",
    "print ref[cols]\n",
    "print ref_teff[cols]\n",
    "print ref_logg[cols]\n",
    "print ref_feh[cols]"
   ]
  },
  {
   "cell_type": "markdown",
   "metadata": {},
   "source": [
    "changing temperature by 60~K -> changed v-k by -0.04 mag, which corresponds to a change in the bolometric correction of 0.04 mag, which is consistent with what I see. \n",
    "\n"
   ]
  },
  {
   "cell_type": "code",
   "execution_count": 81,
   "metadata": {},
   "outputs": [
    {
     "data": {
      "text/plain": [
       "0.038048000000000005"
      ]
     },
     "execution_count": 81,
     "metadata": {},
     "output_type": "execute_result"
    }
   ],
   "source": [
    "0.9907*0.04 - 0.0395*0.04\n"
   ]
  },
  {
   "cell_type": "code",
   "execution_count": 3,
   "metadata": {
    "collapsed": true
   },
   "outputs": [],
   "source": [
    "# parelims to manipulate some model variables (to be automated soon ...)\n",
    "model['rho']=np.log10(model['rho'])\n",
    "# next line turns off Dnu scaling relation corrections\n",
    "model['fdnu'][:]=1.\n",
    "model['avs']=np.zeros(len(model['teff']))\n",
    "model['dis']=np.zeros(len(model['teff']))"
   ]
  },
  {
   "cell_type": "code",
   "execution_count": 5,
   "metadata": {
    "collapsed": true
   },
   "outputs": [],
   "source": [
    "# next 2 lines allow to use a reddening model (needs galactic coordinates)\n",
    "#x.addcoords(338.3683920,-9.0227690)\n",
    "#dustmodel = mwdust.Combined15()"
   ]
  },
  {
   "cell_type": "code",
   "execution_count": 6,
   "metadata": {
    "collapsed": true
   },
   "outputs": [],
   "source": [
    "# initilize class with observables\n"
   ]
  },
  {
   "cell_type": "code",
   "execution_count": 67,
   "metadata": {
    "scrolled": false
   },
   "outputs": [
    {
     "ename": "UnboundLocalError",
     "evalue": "local variable 'mape' referenced before assignment",
     "output_type": "error",
     "traceback": [
      "\u001b[0;31m---------------------------------------------------------------------------\u001b[0m",
      "\u001b[0;31mUnboundLocalError\u001b[0m                         Traceback (most recent call last)",
      "\u001b[0;32m<ipython-input-67-af84163f60b5>\u001b[0m in \u001b[0;36m<module>\u001b[0;34m()\u001b[0m\n\u001b[1;32m     10\u001b[0m \u001b[0;31m# Sloan photometry\u001b[0m\u001b[0;34m\u001b[0m\u001b[0;34m\u001b[0m\u001b[0m\n\u001b[1;32m     11\u001b[0m \u001b[0;31m#x.addgriz([11.776,11.354,11.238,11.178],[0.02,0.02,0.02,0.02])\u001b[0m\u001b[0;34m\u001b[0m\u001b[0;34m\u001b[0m\u001b[0m\n\u001b[0;32m---> 12\u001b[0;31m \u001b[0mparas\u001b[0m\u001b[0;34m=\u001b[0m\u001b[0mclassify\u001b[0m\u001b[0;34m(\u001b[0m\u001b[0minput\u001b[0m\u001b[0;34m=\u001b[0m\u001b[0mx\u001b[0m\u001b[0;34m,\u001b[0m\u001b[0mmodel\u001b[0m\u001b[0;34m=\u001b[0m\u001b[0mmodel\u001b[0m\u001b[0;34m,\u001b[0m\u001b[0mdustmodel\u001b[0m\u001b[0;34m=\u001b[0m\u001b[0;36m0\u001b[0m\u001b[0;34m)\u001b[0m\u001b[0;34m\u001b[0m\u001b[0m\n\u001b[0m",
      "\u001b[0;32m/Users/petigura/code/isoclassify/grid/classify_grid.pyc\u001b[0m in \u001b[0;36mclassify\u001b[0;34m(input, model, dustmodel, doplot, useav)\u001b[0m\n\u001b[1;32m    247\u001b[0m     \u001b[0;32mif\u001b[0m \u001b[0;34m(\u001b[0m\u001b[0minput\u001b[0m\u001b[0;34m.\u001b[0m\u001b[0mplx\u001b[0m \u001b[0;34m>\u001b[0m \u001b[0;34m-\u001b[0m\u001b[0;36m99.\u001b[0m\u001b[0;34m)\u001b[0m\u001b[0;34m:\u001b[0m\u001b[0;34m\u001b[0m\u001b[0m\n\u001b[1;32m    248\u001b[0m         \u001b[0mmabs\u001b[0m \u001b[0;34m=\u001b[0m \u001b[0;34m-\u001b[0m\u001b[0;36m5.\u001b[0m\u001b[0;34m*\u001b[0m\u001b[0mnp\u001b[0m\u001b[0;34m.\u001b[0m\u001b[0mlog10\u001b[0m\u001b[0;34m(\u001b[0m\u001b[0;36m1.\u001b[0m\u001b[0;34m/\u001b[0m\u001b[0minput\u001b[0m\u001b[0;34m.\u001b[0m\u001b[0mplx\u001b[0m\u001b[0;34m)\u001b[0m\u001b[0;34m+\u001b[0m\u001b[0mmap\u001b[0m\u001b[0;34m+\u001b[0m\u001b[0;36m5.\u001b[0m\u001b[0;34m\u001b[0m\u001b[0m\n\u001b[0;32m--> 249\u001b[0;31m         \u001b[0mmabse\u001b[0m \u001b[0;34m=\u001b[0m \u001b[0mnp\u001b[0m\u001b[0;34m.\u001b[0m\u001b[0msqrt\u001b[0m\u001b[0;34m(\u001b[0m\u001b[0;34m(\u001b[0m\u001b[0;34m-\u001b[0m\u001b[0;36m5.\u001b[0m\u001b[0;34m/\u001b[0m\u001b[0;34m(\u001b[0m\u001b[0minput\u001b[0m\u001b[0;34m.\u001b[0m\u001b[0mplx\u001b[0m\u001b[0;34m*\u001b[0m\u001b[0mnp\u001b[0m\u001b[0;34m.\u001b[0m\u001b[0mlog\u001b[0m\u001b[0;34m(\u001b[0m\u001b[0;36m10\u001b[0m\u001b[0;34m)\u001b[0m\u001b[0;34m)\u001b[0m\u001b[0;34m)\u001b[0m\u001b[0;34m**\u001b[0m\u001b[0;36m2\u001b[0m\u001b[0;34m*\u001b[0m\u001b[0minput\u001b[0m\u001b[0;34m.\u001b[0m\u001b[0mplxe\u001b[0m\u001b[0;34m**\u001b[0m\u001b[0;36m2\u001b[0m\u001b[0;34m+\u001b[0m\u001b[0mmape\u001b[0m\u001b[0;34m**\u001b[0m\u001b[0;36m2\u001b[0m\u001b[0;34m+\u001b[0m\u001b[0mbcerr\u001b[0m\u001b[0;34m**\u001b[0m\u001b[0;36m2.\u001b[0m\u001b[0;34m)\u001b[0m\u001b[0;34m\u001b[0m\u001b[0m\n\u001b[0m\u001b[1;32m    250\u001b[0m     \u001b[0;32melse\u001b[0m\u001b[0;34m:\u001b[0m\u001b[0;34m\u001b[0m\u001b[0m\n\u001b[1;32m    251\u001b[0m         \u001b[0mmabs\u001b[0m\u001b[0;34m=\u001b[0m\u001b[0;34m-\u001b[0m\u001b[0;36m99.\u001b[0m\u001b[0;34m\u001b[0m\u001b[0m\n",
      "\u001b[0;31mUnboundLocalError\u001b[0m: local variable 'mape' referenced before assignment"
     ]
    }
   ],
   "source": [
    "x=obsdata()\n",
    "# add any combiantion of observables\n",
    "# Teff, logg, FeH + uncertainties\n",
    "x.addspec([5777.,4.44,0.0],[60.,0.07,0.04])\n",
    "# numax & Dnu + uncertainties\n",
    "#x.addseismo([1240.,63.5],[70.,1.5])\n",
    "# 2MASS photometry \n",
    "x.addjhk([-99,-99,-99],[0,0,0.02])\n",
    "x.addplx(1,0.001)\n",
    "# Sloan photometry\n",
    "#x.addgriz([11.776,11.354,11.238,11.178],[0.02,0.02,0.02,0.02])\n",
    "paras=classify(input=x,model=model,dustmodel=0)"
   ]
  },
  {
   "cell_type": "code",
   "execution_count": 16,
   "metadata": {
    "collapsed": true
   },
   "outputs": [
    {
     "name": "stdout",
     "output_type": "stream",
     "text": [
      "teff 137309\n",
      "feh 37334\n",
      "number of models used within non-phot obsconstraints: 37334\n",
      "number of models incl reddening: 4853420\n",
      "number of models after phot constraints: 4853420\n",
      "----\n"
     ]
    },
    {
     "data": {
      "text/plain": [
       "<matplotlib.figure.Figure at 0x11b89d6d0>"
      ]
     },
     "metadata": {},
     "output_type": "display_data"
    },
    {
     "data": {
      "text/plain": [
       "<matplotlib.figure.Figure at 0x1172f4910>"
      ]
     },
     "metadata": {},
     "output_type": "display_data"
    },
    {
     "name": "stdout",
     "output_type": "stream",
     "text": [
      "teff 5773.15397954 57.9414175526 60.7655321549\n",
      "logg 4.43233273135 0.0573393121968 0.0811500598853\n",
      "feh -0.0295064169983 0.100603604078 0.100112948524\n",
      "rad 0.990559319148 0.0915027544364 0.0660243539058\n",
      "mass 0.977014864234 0.0515099192241 0.0509290287432\n",
      "rho 0.987785628329 0.215867727654 0.234825647849\n",
      "lum 0.982560769776 0.202302698879 0.142822861346\n",
      "age 4.6768057998 3.24853118625 2.97313404774\n",
      "avs 0.3425 0.442 0.442\n",
      "dis 213.37424297 20.3505213397 15.3697917112\n"
     ]
    },
    {
     "data": {
      "image/png": "[encoded data removed]",
      "text/plain": [
       "<matplotlib.figure.Figure at 0x119d98590>"
      ]
     },
     "metadata": {},
     "output_type": "display_data"
    },
    {
     "data": {
      "text/plain": [
       "<matplotlib.figure.Figure at 0x119d98d50>"
      ]
     },
     "metadata": {},
     "output_type": "display_data"
    },
    {
     "data": {
      "text/plain": [
       "<matplotlib.figure.Figure at 0x1476ac350>"
      ]
     },
     "metadata": {},
     "output_type": "display_data"
    }
   ],
   "source": [
    "paras=classify(input=x,model=model,dustmodel=0.)"
   ]
  },
  {
   "cell_type": "code",
   "execution_count": 64,
   "metadata": {},
   "outputs": [
    {
     "name": "stdout",
     "output_type": "stream",
     "text": [
      "Populating the interactive namespace from numpy and matplotlib\n",
      "teff 273827\n",
      "feh 5281\n",
      "number of models used within non-phot obsconstraints: 5281\n",
      "number of models incl reddening: 686530\n",
      "number of models after phot constraints: 0\n",
      "----\n"
     ]
    },
    {
     "data": {
      "text/plain": [
       "<matplotlib.figure.Figure at 0x1816951890>"
      ]
     },
     "metadata": {},
     "output_type": "display_data"
    }
   ],
   "source": [
    "# add any combiantion of observables\n",
    "# Teff, logg, FeH + uncertainties\n",
    "#x.addspec([5109.23,3.49595,0.0380301],[60.,0.10,0.04])\n",
    "x.addspec([5109.23,3.49595,0.0380301],[60.,0.1,0.04])\n",
    "# numax & Dnu + uncertainties\n",
    "#x.addseismo([1240.,63.5],[70.,1.5])\n",
    "# 2MASS photometry \n",
    "x.addjhk([-99,-99,10.0],[0,0,0.02])\n",
    "# Sloan photometry\n",
    "#x.addgriz([11.776,11.354,11.238,11.178],[0.02,0.02,0.02,0.02])\n",
    "x.addplx(1./1372.,1./372.*0.03)\n",
    "# run classification\n",
    "%pylab inline\n",
    "\n",
    "paras=classify(input=x,model=model,dustmodel=0.)\n",
    "gcf().set_tight_layout(True)"
   ]
  },
  {
   "cell_type": "code",
   "execution_count": 62,
   "metadata": {},
   "outputs": [
    {
     "data": {
      "text/plain": [
       "<classify_grid.resdata instance at 0x1816527ef0>"
      ]
     },
     "execution_count": 62,
     "metadata": {},
     "output_type": "execute_result"
    }
   ],
   "source": [
    "paras."
   ]
  },
  {
   "cell_type": "code",
   "execution_count": 17,
   "metadata": {
    "collapsed": true
   },
   "outputs": [],
   "source": [
    "from scipy.interpolate import interp1d"
   ]
  },
  {
   "cell_type": "code",
   "execution_count": 18,
   "metadata": {
    "collapsed": true
   },
   "outputs": [],
   "source": [
    "interp1d?"
   ]
  },
  {
   "cell_type": "code",
   "execution_count": 9,
   "metadata": {},
   "outputs": [
    {
     "name": "stdout",
     "output_type": "stream",
     "text": [
      "1.86656246015e-15 0.05 0.05\n"
     ]
    },
    {
     "data": {
      "text/plain": [
       "[<matplotlib.lines.Line2D at 0x116ff9d10>]"
      ]
     },
     "execution_count": 9,
     "metadata": {},
     "output_type": "execute_result"
    },
    {
     "data": {
      "image/png": "[encoded data removed]",
      "text/plain": [
       "<matplotlib.figure.Figure at 0x144311610>"
      ]
     },
     "metadata": {},
     "output_type": "display_data"
    }
   ],
   "source": [
    "# print mass median +/- 1 sigma, plot posterior\n",
    "print paras.feh,paras.fehep,paras.fehem\n",
    "plt.plot(paras.fehpx,paras.fehpy)"
   ]
  },
  {
   "cell_type": "code",
   "execution_count": null,
   "metadata": {
    "collapsed": true
   },
   "outputs": [],
   "source": [
    "# plot teff posterior\n",
    "plt.plot(paras.teffpx,paras.teffpy)"
   ]
  },
  {
   "cell_type": "code",
   "execution_count": null,
   "metadata": {
    "collapsed": true
   },
   "outputs": [],
   "source": []
  },
  {
   "cell_type": "code",
   "execution_count": null,
   "metadata": {
    "collapsed": true
   },
   "outputs": [],
   "source": [
    "# print age median +/- 1 sigma, plot posterior\n",
    "print paras.age,paras.ageep,paras.ageem\n",
    "plt.plot(paras.agepx,paras.agepy)"
   ]
  },
  {
   "cell_type": "code",
   "execution_count": null,
   "metadata": {
    "collapsed": true
   },
   "outputs": [],
   "source": [
    "# print mass median +/- 1 sigma, plot posterior\n",
    "print paras.mass,paras.massep,paras.massem\n",
    "plt.plot(paras.masspx,paras.masspy)"
   ]
  },
  {
   "cell_type": "code",
   "execution_count": null,
   "metadata": {
    "collapsed": true
   },
   "outputs": [],
   "source": [
    "# print mass median +/- 1 sigma, plot posterior\n",
    "print paras.feh,paras.fehep,paras.fehem\n",
    "plt.plot(paras.fehpx,paras.fehpy)"
   ]
  },
  {
   "cell_type": "code",
   "execution_count": null,
   "metadata": {
    "collapsed": true
   },
   "outputs": [],
   "source": [
    "# delete numax & Dnu constraint\n",
    "x.addseismo([-99.,-99.],[70.,1.5])\n",
    "# add parallax with a 3% uncertainty\n",
    "x.addplx(1./372.,1./372.*0.03)"
   ]
  },
  {
   "cell_type": "code",
   "execution_count": null,
   "metadata": {
    "collapsed": true
   },
   "outputs": [],
   "source": [
    "# re-run classification\n",
    "paras=classify(input=x,model=model,dustmodel=0.,doplot=0)"
   ]
  },
  {
   "cell_type": "code",
   "execution_count": null,
   "metadata": {
    "collapsed": true
   },
   "outputs": [],
   "source": [
    "# print age median +/- 1 sigma, plot posterior\n",
    "print paras.age,paras.ageep,paras.ageem\n",
    "plt.plot(paras.agepx,paras.agepy)"
   ]
  },
  {
   "cell_type": "code",
   "execution_count": null,
   "metadata": {
    "collapsed": true
   },
   "outputs": [],
   "source": []
  },
  {
   "cell_type": "code",
   "execution_count": 73,
   "metadata": {},
   "outputs": [
    {
     "data": {
      "text/plain": [
       "0.045715208621394929"
      ]
     },
     "execution_count": 73,
     "metadata": {},
     "output_type": "execute_result"
    }
   ],
   "source": [
    "10 / np.log(10) * 60 / 5700"
   ]
  },
  {
   "cell_type": "code",
   "execution_count": null,
   "metadata": {
    "collapsed": true
   },
   "outputs": [],
   "source": []
  }
 ],
 "metadata": {
  "kernelspec": {
   "display_name": "Python 2",
   "language": "python",
   "name": "python2"
  },
  "language_info": {
   "codemirror_mode": {
    "name": "ipython",
    "version": 2
   },
   "file_extension": ".py",
   "mimetype": "text/x-python",
   "name": "python",
   "nbconvert_exporter": "python",
   "pygments_lexer": "ipython2",
   "version": "2.7.13"
  }
 },
 "nbformat": 4,
 "nbformat_minor": 1
}
