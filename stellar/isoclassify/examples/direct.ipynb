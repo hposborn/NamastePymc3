{
 "cells": [
  {
   "cell_type": "code",
   "execution_count": 45,
   "metadata": {
    "collapsed": true
   },
   "outputs": [],
   "source": [
    "# NB: the recommended way to run isoclassify is through the command-line interface (CLI)\n",
    "# using examples such as given in examples/examples.csv (see README)\n",
    "# below is an example to run isoclassify from ipython, which for now requires some hacking by \n",
    "# pre-defining functions but allows direct interaction with posteriors. "
   ]
  },
  {
   "cell_type": "code",
   "execution_count": 1,
   "metadata": {
    "collapsed": true
   },
   "outputs": [],
   "source": [
    "# required packages\n",
    "%matplotlib inline\n",
    "%reload_ext autoreload\n",
    "%autoreload 2\n",
    "import os \n",
    "import copy\n",
    "import glob\n",
    "import h5py,pdb\n",
    "\n",
    "import numpy as np\n",
    "from matplotlib import pylab as plt\n",
    "import pandas as pd\n",
    "import ebf\n",
    "import astropy.units as units\n",
    "from astropy.coordinates import SkyCoord\n",
    "from dustmaps.bayestar import BayestarWebQuery\n",
    "import mwdust\n",
    "\n",
    "from isoclassify.direct import classify as classify_direct\n",
    "from isoclassify.grid import classify as classify_grid\n",
    "from isoclassify import DATADIR\n"
   ]
  },
  {
   "cell_type": "code",
   "execution_count": 2,
   "metadata": {
    "collapsed": true
   },
   "outputs": [],
   "source": [
    "# the following functions required for this\n",
    "\n",
    "def query_dustmodel_coords(ra,dec):\n",
    "    reddenMap = BayestarWebQuery(version='bayestar2017')\n",
    "    sightLines = SkyCoord(ra*units.deg,dec*units.deg,frame='icrs')\n",
    "    reddenContainer = reddenMap(sightLines,mode='best')\n",
    "    del reddenMap # To clear reddenMap from memory\n",
    "    distanceSamples = np.array([0.06309573,0.07943284,0.1,0.12589255,0.15848933,0.19952627,0.25118864,0.31622776,0.3981072,0.50118726,0.6309574,0.7943282 ,1.,1.2589258,1.5848933,1.9952621,2.511887,3.1622777,3.981073,5.011873,6.3095727,7.943284,10.,12.589258,15.848933,19.952621,25.11887,31.622776,39.81073,50.11873,63.095726])*1000. # In pc, from bayestar2017 map distance samples\n",
    "    \n",
    "    dustModelDF = pd.DataFrame({'ra': [ra], 'dec': [dec]})\n",
    "\n",
    "    for index in xrange(len(reddenContainer)):\n",
    "        dustModelDF['av_'+str(round(distanceSamples[index],6))] = reddenContainer[index]\n",
    "        \n",
    "    return dustModelDF\n",
    "    \n",
    "def query_dustmodel_coords_allsky(ra,dec):\n",
    "    reddenMap = mwdust.Combined15()\n",
    "    sightLines = SkyCoord(ra*units.deg,dec*units.deg,frame='galactic')\n",
    "    distanceSamples = np.array([0.06309573,0.07943284,0.1,0.12589255,0.15848933,0.19952627,0.25118864,0.31622776,0.3981072,0.50118726,0.6309574,0.7943282 ,1.,1.2589258,1.5848933,1.9952621,2.511887,3.1622777,3.981073,5.011873,6.3095727,7.943284,10.,12.589258,15.848933,19.952621,25.11887,31.622776,39.81073,50.11873,63.095726])*1000. # In pc, from bayestar2017 map distance samples\n",
    "    reddenContainer=reddenMap(sightLines.l.value,sightLines.b.value,distanceSamples/1000.)\n",
    "    del reddenMap # To clear reddenMap from memory\n",
    "    \n",
    "    dustModelDF = pd.DataFrame({'ra': [ra], 'dec': [dec]})\n",
    "    \n",
    "    for index in xrange(len(reddenContainer)):\n",
    "        dustModelDF['av_'+str(round(distanceSamples[index],6))] = reddenContainer[index]\n",
    "\n",
    "    return dustModelDF\n",
    "\n",
    "def extinction(law):\n",
    "    if (law == 'cardelli'):\n",
    "        out = {\n",
    "            \"ab\":4.1708789, \n",
    "            \"av\":3.1071930, \n",
    "            \"abt\":4.3358221, \n",
    "            \"avt\":3.2867038, \n",
    "            \"ag\":3.8281101, \n",
    "            \"ar\":2.7386468, \n",
    "            \"ai\":2.1109662, \n",
    "            \"az\":1.4975613, \n",
    "            \"aj\":0.89326176, \n",
    "            \"ah\":0.56273418, \n",
    "            \"ak\":0.35666104, \n",
    "            \"aga\":2.4623915\n",
    "        }\n",
    "        \n",
    "    if (law == 'schlafly11'):\n",
    "        out = {\n",
    "            \"ab\":3.626, \n",
    "            \"av\":2.742, \n",
    "            \"abt\":4.5309214, \n",
    "            \"avt\":3.1026801, \n",
    "            \"ag\":3.303, \n",
    "            \"ar\":2.285, \n",
    "            \"ai\":1.698, \n",
    "            \"az\":1.263, \n",
    "            \"aj\":0.77510388, \n",
    "            \"ah\":0.50818384, \n",
    "            \"ak\":0.33957048, \n",
    "            \"aga\":1.9139634\n",
    "        }\n",
    "\n",
    "    if (law == 'schlafly16'):\n",
    "        # see http://argonaut.skymaps.info/usage under \"Gray Component\". this is a lower limit.\n",
    "        grayoffset=0.063\n",
    "        out = {\n",
    "            \"ab\":3.6060565+grayoffset, \n",
    "            \"av\":2.9197679+grayoffset, \n",
    "            \"abt\":3.7204173+grayoffset, \n",
    "            \"avt\":3.0353634+grayoffset, \n",
    "            \"ag\":3.384+grayoffset, \n",
    "            \"ar\":2.483+grayoffset, \n",
    "            \"ai\":1.838+grayoffset, \n",
    "            \"az\":1.414+grayoffset, \n",
    "            \"aj\":0.650+grayoffset, \n",
    "            \"ah\":0.327+grayoffset, \n",
    "            \"ak\":0.161+grayoffset, \n",
    "            \"aga\":2.2203186+grayoffset\n",
    "        }\n",
    "    return out\n"
   ]
  },
  {
   "cell_type": "code",
   "execution_count": 3,
   "metadata": {
    "collapsed": false
   },
   "outputs": [],
   "source": [
    "# load BC model\n",
    "fn = os.path.join(DATADIR,'bcgrid.h5')\n",
    "bcmodel = h5py.File(fn,'r', driver='core', backing_store=False)"
   ]
  },
  {
   "cell_type": "code",
   "execution_count": 7,
   "metadata": {
    "collapsed": false
   },
   "outputs": [],
   "source": [
    "# if we want to use a reddening map, we'll need to add coordinates\n",
    "x = classify_direct.obsdata()\n",
    "x.addcoords(243.9052932171665,-08.3694394)"
   ]
  },
  {
   "cell_type": "code",
   "execution_count": 8,
   "metadata": {
    "collapsed": false
   },
   "outputs": [],
   "source": [
    "# if we don't want to use a reddening map, isoclassify fits for Av. However, we need to \n",
    "# define an extinction law\n",
    "dustmodel = query_dustmodel_coords_allsky(x.ra,x.dec)\n",
    "ext = extinction('cardelli')"
   ]
  },
  {
   "cell_type": "code",
   "execution_count": 9,
   "metadata": {
    "collapsed": false
   },
   "outputs": [],
   "source": [
    "# define class that contains observables\n",
    "x = classify_direct.obsdata()"
   ]
  },
  {
   "cell_type": "code",
   "execution_count": 10,
   "metadata": {
    "collapsed": false
   },
   "outputs": [],
   "source": [
    "# add [Teff, logg, FeH] and [sigma_Teff, sigma_logg, sigma_FeH] \n",
    "x.addspec([5777.,4.44,0.0],[60.,0.07,0.04])"
   ]
  },
  {
   "cell_type": "code",
   "execution_count": 11,
   "metadata": {
    "collapsed": false
   },
   "outputs": [],
   "source": [
    "# now let's add some more observables, e.g. a parallax \n",
    "x.addplx(0.07,0.007)"
   ]
  },
  {
   "cell_type": "code",
   "execution_count": 12,
   "metadata": {
    "collapsed": true
   },
   "outputs": [],
   "source": [
    "# and some JHK photometry\n",
    "x.addjhk([4.38,4.04,4.00],[0.03,0.03,0.03])"
   ]
  },
  {
   "cell_type": "code",
   "execution_count": 13,
   "metadata": {
    "collapsed": false
   },
   "outputs": [],
   "source": [
    "# photometry to use for distance modulus. Jmag here\n",
    "x.addmag([4.38],[0.03])"
   ]
  },
  {
   "cell_type": "code",
   "execution_count": 14,
   "metadata": {
    "collapsed": false
   },
   "outputs": [
    {
     "name": "stdout",
     "output_type": "stream",
     "text": [
      "('using max distance:', 24.0)\n",
      "('using min distance:', 10.0)\n",
      "   \n",
      "('teff(K):', 5777.0, '+/-', 60.0)\n",
      "('dis(pc):', 14.90508905089051, '+', 1.7619176191761916, '-', 1.4246542465424668)\n",
      "('av(mag):', 0.0036773969033659232, '+', 0.00043470189105359811, '-', 0.00035149197007242061)\n",
      "('rad(rsun):', 1.0676653023461999, '+', 0.12957444917558636, '-', 0.10572658701936888)\n",
      "('lum(lsun):', 1.1401751475431277, '+', 0.28743033281381858, '-', 0.2104102525117123)\n",
      "('mabs(', 'jmag', '):', 3.5116354514903056, '+', 0.2214957041032517, '-', 0.24409111221703927)\n",
      "-----\n"
     ]
    },
    {
     "data": {
      "image/png": "[encoded data removed]",
      "text/plain": [
       "<matplotlib.figure.Figure at 0x112d342d0>"
      ]
     },
     "metadata": {},
     "output_type": "display_data"
    }
   ],
   "source": [
    "# redo fit, this time using the dustmodel\n",
    "# perform classification\n",
    "paras = classify_direct.stparas(input=x, bcmodel=bcmodel, dustmodel=dustmodel,band='jmag', ext=ext, plot=1)"
   ]
  },
  {
   "cell_type": "code",
   "execution_count": 18,
   "metadata": {
    "collapsed": false
   },
   "outputs": [
    {
     "data": {
      "text/plain": [
       "14.90508905089051"
      ]
     },
     "execution_count": 18,
     "metadata": {},
     "output_type": "execute_result"
    }
   ],
   "source": [
    "paras.dis"
   ]
  },
  {
   "cell_type": "code",
   "execution_count": 35,
   "metadata": {
    "collapsed": false
   },
   "outputs": [
    {
     "data": {
      "text/plain": [
       "1.0676653023462"
      ]
     },
     "execution_count": 35,
     "metadata": {},
     "output_type": "execute_result"
    }
   ],
   "source": [
    "paras.rad"
   ]
  },
  {
   "cell_type": "code",
   "execution_count": null,
   "metadata": {
    "collapsed": true
   },
   "outputs": [],
   "source": []
  }
 ],
 "metadata": {
  "kernelspec": {
   "display_name": "Python 2",
   "language": "python",
   "name": "python2"
  },
  "language_info": {
   "codemirror_mode": {
    "name": "ipython",
    "version": 2
   },
   "file_extension": ".py",
   "mimetype": "text/x-python",
   "name": "python",
   "nbconvert_exporter": "python",
   "pygments_lexer": "ipython2",
   "version": "2.7.13"
  }
 },
 "nbformat": 4,
 "nbformat_minor": 0
}
